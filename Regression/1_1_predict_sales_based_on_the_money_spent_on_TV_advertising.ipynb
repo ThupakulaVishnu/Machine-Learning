{
  "cells": [
    {
      "cell_type": "markdown",
      "metadata": {
        "id": "moAxRZ01iYnG"
      },
      "source": [
        "# Importing Libraries"
      ]
    },
    {
      "cell_type": "code",
      "execution_count": 53,
      "metadata": {
        "id": "4lcsK4ipCWZn"
      },
      "outputs": [],
      "source": [
        "import numpy as np\n",
        "import pandas as pd\n",
        "import matplotlib.pyplot as plt"
      ]
    },
    {
      "cell_type": "markdown",
      "metadata": {
        "id": "7gbf1U8nCoo_"
      },
      "source": [
        "Importing the dataset"
      ]
    },
    {
      "cell_type": "code",
      "execution_count": 54,
      "metadata": {
        "id": "t1WYiCjWCti1"
      },
      "outputs": [],
      "source": [
        "data=pd.read_csv(\"Advertising.csv\")"
      ]
    },
    {
      "cell_type": "markdown",
      "metadata": {
        "id": "6IOSd8BGC4xZ"
      },
      "source": [
        "Checking for null values"
      ]
    },
    {
      "cell_type": "code",
      "execution_count": 55,
      "metadata": {
        "colab": {
          "base_uri": "https://localhost:8080/"
        },
        "id": "pvTMymwXC4Ys",
        "outputId": "2a2d7175-0493-41cc-c6b5-9dd4f3a74b13"
      },
      "outputs": [
        {
          "name": "stdout",
          "output_type": "stream",
          "text": [
            "TV           0\n",
            "Radio        0\n",
            "Newspaper    0\n",
            "Sales        0\n",
            "dtype: int64\n"
          ]
        }
      ],
      "source": [
        "print(data.isna().sum())"
      ]
    },
    {
      "cell_type": "code",
      "execution_count": 56,
      "metadata": {
        "colab": {
          "base_uri": "https://localhost:8080/"
        },
        "id": "f9g7JokxDBhj",
        "outputId": "deff344e-3bc8-4795-accc-23636ee06a5b"
      },
      "outputs": [
        {
          "name": "stdout",
          "output_type": "stream",
          "text": [
            "      TV  Radio  Newspaper  Sales\n",
            "0  230.1   37.8       69.2   22.1\n",
            "1   44.5   39.3       45.1   10.4\n",
            "2   17.2   45.9       69.3    9.3\n",
            "3  151.5   41.3       58.5   18.5\n",
            "4  180.8   10.8       58.4   12.9\n"
          ]
        }
      ],
      "source": [
        "print(data.head())"
      ]
    },
    {
      "cell_type": "code",
      "execution_count": 57,
      "metadata": {
        "colab": {
          "base_uri": "https://localhost:8080/"
        },
        "id": "2xep1tvQJl1g",
        "outputId": "82701234-6d1e-440c-c5ab-028e69bbf849"
      },
      "outputs": [
        {
          "name": "stdout",
          "output_type": "stream",
          "text": [
            "(200, 4)\n"
          ]
        }
      ],
      "source": [
        "print(data.shape)"
      ]
    },
    {
      "cell_type": "markdown",
      "metadata": {
        "id": "N9Ooi3AhDNOg"
      },
      "source": [
        "Dividing dataset into dependent and independent data"
      ]
    },
    {
      "cell_type": "code",
      "execution_count": 58,
      "metadata": {
        "id": "RsuElBkPDHnF"
      },
      "outputs": [],
      "source": [
        "X=data.loc[:,'TV'].values\n",
        "Y=data.loc[:,'Sales'].values"
      ]
    },
    {
      "cell_type": "code",
      "execution_count": 59,
      "metadata": {
        "colab": {
          "base_uri": "https://localhost:8080/"
        },
        "id": "kDkWiB1twUtd",
        "outputId": "f7033fcb-7fde-4b62-d2a0-1299fc7ee1af"
      },
      "outputs": [
        {
          "name": "stdout",
          "output_type": "stream",
          "text": [
            "<class 'numpy.ndarray'>\n"
          ]
        }
      ],
      "source": [
        "print(type(X))"
      ]
    },
    {
      "cell_type": "code",
      "execution_count": 60,
      "metadata": {
        "id": "b2lben14oqM0"
      },
      "outputs": [],
      "source": [
        "from sklearn.model_selection import train_test_split\n",
        "x_train,x_test,y_train,y_test=train_test_split(X,Y,test_size=0.2,random_state=0)"
      ]
    },
    {
      "cell_type": "code",
      "execution_count": 61,
      "metadata": {
        "colab": {
          "base_uri": "https://localhost:8080/"
        },
        "id": "HeyXlO2kwiU3",
        "outputId": "849e648b-a13e-468d-8cb8-7d705b79e064"
      },
      "outputs": [
        {
          "name": "stdout",
          "output_type": "stream",
          "text": [
            "1\n"
          ]
        }
      ],
      "source": [
        "print(x_train.ndim)"
      ]
    },
    {
      "cell_type": "code",
      "execution_count": 62,
      "metadata": {
        "colab": {
          "base_uri": "https://localhost:8080/"
        },
        "id": "lPdulRwqwjFi",
        "outputId": "d10df6c5-5f95-4d9a-cb30-0b796ac7fd88"
      },
      "outputs": [
        {
          "name": "stdout",
          "output_type": "stream",
          "text": [
            "(160,)\n"
          ]
        }
      ],
      "source": [
        "print(x_train.shape)"
      ]
    },
    {
      "cell_type": "code",
      "execution_count": 63,
      "metadata": {
        "id": "AXkgWgWvwlSt"
      },
      "outputs": [],
      "source": [
        "x_train=x_train.reshape(-1,1)"
      ]
    },
    {
      "cell_type": "code",
      "execution_count": 64,
      "metadata": {
        "colab": {
          "base_uri": "https://localhost:8080/"
        },
        "id": "vfH3QNIawnN3",
        "outputId": "3b420bb2-b61e-4218-a716-e580935e3f0e"
      },
      "outputs": [
        {
          "name": "stdout",
          "output_type": "stream",
          "text": [
            "(160, 1)\n"
          ]
        }
      ],
      "source": [
        "print(x_train.shape)"
      ]
    },
    {
      "cell_type": "markdown",
      "metadata": {
        "id": "eouuAvlvDlhl"
      },
      "source": [
        "# Preparing Linear Regression model..."
      ]
    },
    {
      "cell_type": "code",
      "execution_count": 65,
      "metadata": {
        "colab": {
          "base_uri": "https://localhost:8080/",
          "height": 74
        },
        "id": "e-6tZz0dDnU9",
        "outputId": "f12dbd4a-3661-4d8c-ee17-ff152b582368"
      },
      "outputs": [
        {
          "data": {
            "text/html": [
              "<style>#sk-container-id-3 {color: black;}#sk-container-id-3 pre{padding: 0;}#sk-container-id-3 div.sk-toggleable {background-color: white;}#sk-container-id-3 label.sk-toggleable__label {cursor: pointer;display: block;width: 100%;margin-bottom: 0;padding: 0.3em;box-sizing: border-box;text-align: center;}#sk-container-id-3 label.sk-toggleable__label-arrow:before {content: \"▸\";float: left;margin-right: 0.25em;color: #696969;}#sk-container-id-3 label.sk-toggleable__label-arrow:hover:before {color: black;}#sk-container-id-3 div.sk-estimator:hover label.sk-toggleable__label-arrow:before {color: black;}#sk-container-id-3 div.sk-toggleable__content {max-height: 0;max-width: 0;overflow: hidden;text-align: left;background-color: #f0f8ff;}#sk-container-id-3 div.sk-toggleable__content pre {margin: 0.2em;color: black;border-radius: 0.25em;background-color: #f0f8ff;}#sk-container-id-3 input.sk-toggleable__control:checked~div.sk-toggleable__content {max-height: 200px;max-width: 100%;overflow: auto;}#sk-container-id-3 input.sk-toggleable__control:checked~label.sk-toggleable__label-arrow:before {content: \"▾\";}#sk-container-id-3 div.sk-estimator input.sk-toggleable__control:checked~label.sk-toggleable__label {background-color: #d4ebff;}#sk-container-id-3 div.sk-label input.sk-toggleable__control:checked~label.sk-toggleable__label {background-color: #d4ebff;}#sk-container-id-3 input.sk-hidden--visually {border: 0;clip: rect(1px 1px 1px 1px);clip: rect(1px, 1px, 1px, 1px);height: 1px;margin: -1px;overflow: hidden;padding: 0;position: absolute;width: 1px;}#sk-container-id-3 div.sk-estimator {font-family: monospace;background-color: #f0f8ff;border: 1px dotted black;border-radius: 0.25em;box-sizing: border-box;margin-bottom: 0.5em;}#sk-container-id-3 div.sk-estimator:hover {background-color: #d4ebff;}#sk-container-id-3 div.sk-parallel-item::after {content: \"\";width: 100%;border-bottom: 1px solid gray;flex-grow: 1;}#sk-container-id-3 div.sk-label:hover label.sk-toggleable__label {background-color: #d4ebff;}#sk-container-id-3 div.sk-serial::before {content: \"\";position: absolute;border-left: 1px solid gray;box-sizing: border-box;top: 0;bottom: 0;left: 50%;z-index: 0;}#sk-container-id-3 div.sk-serial {display: flex;flex-direction: column;align-items: center;background-color: white;padding-right: 0.2em;padding-left: 0.2em;position: relative;}#sk-container-id-3 div.sk-item {position: relative;z-index: 1;}#sk-container-id-3 div.sk-parallel {display: flex;align-items: stretch;justify-content: center;background-color: white;position: relative;}#sk-container-id-3 div.sk-item::before, #sk-container-id-3 div.sk-parallel-item::before {content: \"\";position: absolute;border-left: 1px solid gray;box-sizing: border-box;top: 0;bottom: 0;left: 50%;z-index: -1;}#sk-container-id-3 div.sk-parallel-item {display: flex;flex-direction: column;z-index: 1;position: relative;background-color: white;}#sk-container-id-3 div.sk-parallel-item:first-child::after {align-self: flex-end;width: 50%;}#sk-container-id-3 div.sk-parallel-item:last-child::after {align-self: flex-start;width: 50%;}#sk-container-id-3 div.sk-parallel-item:only-child::after {width: 0;}#sk-container-id-3 div.sk-dashed-wrapped {border: 1px dashed gray;margin: 0 0.4em 0.5em 0.4em;box-sizing: border-box;padding-bottom: 0.4em;background-color: white;}#sk-container-id-3 div.sk-label label {font-family: monospace;font-weight: bold;display: inline-block;line-height: 1.2em;}#sk-container-id-3 div.sk-label-container {text-align: center;}#sk-container-id-3 div.sk-container {/* jupyter's `normalize.less` sets `[hidden] { display: none; }` but bootstrap.min.css set `[hidden] { display: none !important; }` so we also need the `!important` here to be able to override the default hidden behavior on the sphinx rendered scikit-learn.org. See: https://github.com/scikit-learn/scikit-learn/issues/21755 */display: inline-block !important;position: relative;}#sk-container-id-3 div.sk-text-repr-fallback {display: none;}</style><div id=\"sk-container-id-3\" class=\"sk-top-container\"><div class=\"sk-text-repr-fallback\"><pre>LinearRegression()</pre><b>In a Jupyter environment, please rerun this cell to show the HTML representation or trust the notebook. <br />On GitHub, the HTML representation is unable to render, please try loading this page with nbviewer.org.</b></div><div class=\"sk-container\" hidden><div class=\"sk-item\"><div class=\"sk-estimator sk-toggleable\"><input class=\"sk-toggleable__control sk-hidden--visually\" id=\"sk-estimator-id-3\" type=\"checkbox\" checked><label for=\"sk-estimator-id-3\" class=\"sk-toggleable__label sk-toggleable__label-arrow\">LinearRegression</label><div class=\"sk-toggleable__content\"><pre>LinearRegression()</pre></div></div></div></div></div>"
            ],
            "text/plain": [
              "LinearRegression()"
            ]
          },
          "execution_count": 65,
          "metadata": {},
          "output_type": "execute_result"
        }
      ],
      "source": [
        "from sklearn.linear_model import LinearRegression\n",
        "lr=LinearRegression()\n",
        "lr.fit(x_train,y_train)"
      ]
    },
    {
      "cell_type": "code",
      "execution_count": 66,
      "metadata": {
        "colab": {
          "base_uri": "https://localhost:8080/"
        },
        "id": "wQTKCqCFwytk",
        "outputId": "8693591d-efa3-48b5-c5a1-0b11a1149385"
      },
      "outputs": [
        {
          "name": "stdout",
          "output_type": "stream",
          "text": [
            "Intercept :  7.292493773559364\n"
          ]
        }
      ],
      "source": [
        "print(\"Intercept : \",lr.intercept_)"
      ]
    },
    {
      "cell_type": "code",
      "execution_count": 67,
      "metadata": {
        "colab": {
          "base_uri": "https://localhost:8080/"
        },
        "id": "sX6W224Jw1Aj",
        "outputId": "72a4e95e-5e18-4e24-d52e-d4a6c4ccd272"
      },
      "outputs": [
        {
          "name": "stdout",
          "output_type": "stream",
          "text": [
            "Coefficient :  [0.04600779]\n"
          ]
        }
      ],
      "source": [
        "print(\"Coefficient : \",lr.coef_)"
      ]
    },
    {
      "cell_type": "code",
      "execution_count": 68,
      "metadata": {
        "colab": {
          "base_uri": "https://localhost:8080/"
        },
        "id": "0hp05H6Bw4Kt",
        "outputId": "efc2554b-0c4b-49a0-da3f-4b273856d960"
      },
      "outputs": [
        {
          "name": "stdout",
          "output_type": "stream",
          "text": [
            "(40,)\n"
          ]
        }
      ],
      "source": [
        "print(x_test.shape)"
      ]
    },
    {
      "cell_type": "code",
      "execution_count": 69,
      "metadata": {
        "colab": {
          "base_uri": "https://localhost:8080/"
        },
        "id": "ekjBAbc0w4_i",
        "outputId": "c95f30ed-590d-45ba-8d27-2cff97da872e"
      },
      "outputs": [
        {
          "name": "stdout",
          "output_type": "stream",
          "text": [
            "(40, 1)\n"
          ]
        }
      ],
      "source": [
        "x_test=x_test.reshape(-1,1)\n",
        "print(x_test.shape)"
      ]
    },
    {
      "cell_type": "markdown",
      "metadata": {
        "id": "S94WSnM7Hzf_"
      },
      "source": [
        "Predicting the test data by using Regression model"
      ]
    },
    {
      "cell_type": "code",
      "execution_count": 70,
      "metadata": {
        "id": "EkTO9u4QDpkC"
      },
      "outputs": [],
      "source": [
        "y_pred=lr.predict(x_test)"
      ]
    },
    {
      "cell_type": "markdown",
      "metadata": {
        "id": "ccST-WHQDs1Y"
      },
      "source": [
        "Comparing the original and predicted data....."
      ]
    },
    {
      "cell_type": "code",
      "execution_count": 71,
      "metadata": {
        "colab": {
          "base_uri": "https://localhost:8080/"
        },
        "id": "5eQlIxHCDtwa",
        "outputId": "b7a8431e-696c-43fd-b5e6-137e24ea936c"
      },
      "outputs": [
        {
          "name": "stdout",
          "output_type": "stream",
          "text": [
            "    Actual_data  Predicted_data\n",
            "0          11.3       10.476233\n",
            "1           8.4        9.592883\n",
            "2           8.7       11.451598\n",
            "3          25.4       20.620950\n",
            "4          11.7       15.123020\n",
            "5           8.7        9.878132\n",
            "6           7.2        7.692762\n",
            "7          13.2       18.338964\n",
            "8           9.2        8.387479\n",
            "9          16.6       16.383633\n",
            "10         24.2       19.314329\n",
            "11         10.6       11.304373\n",
            "12         10.5       14.497314\n",
            "13         15.6       15.932757\n",
            "14         11.8       10.807489\n",
            "15         13.2       12.822630\n",
            "16         17.4       19.512163\n",
            "17          1.6        7.324699\n",
            "18         14.7       10.729276\n",
            "19         17.0       17.110556\n",
            "20         26.2       20.524334\n",
            "21         10.3       13.747387\n",
            "22         14.9       15.348458\n",
            "23         12.9       13.351720\n",
            "24          8.1        9.753911\n",
            "25         15.2       12.956053\n",
            "26         12.6       14.911384\n",
            "27         22.6       16.724091\n",
            "28         11.6       17.598239\n",
            "29          8.5        8.447289\n",
            "30         12.5       10.411822\n",
            "31         23.7       16.443443\n",
            "32         16.1       20.206880\n",
            "33         21.8       18.412577\n",
            "34          5.6        7.899797\n",
            "35          6.7        8.152839\n",
            "36          9.7       10.034558\n",
            "37         12.9       15.610702\n",
            "38         13.6       10.439427\n",
            "39          7.2        8.442689\n"
          ]
        }
      ],
      "source": [
        "fdata=pd.DataFrame({\"Actual_data\":y_test,\"Predicted_data\":y_pred})\n",
        "print(fdata)"
      ]
    },
    {
      "cell_type": "code",
      "execution_count": 72,
      "metadata": {
        "colab": {
          "base_uri": "https://localhost:8080/"
        },
        "id": "Vc3wBzqqxKai",
        "outputId": "c54c4ae3-62f4-449a-e871-a685dafa8870"
      },
      "outputs": [
        {
          "name": "stdout",
          "output_type": "stream",
          "text": [
            "    Actual_data  Predicted_data     Error\n",
            "0          11.3       10.476233  0.823767\n",
            "1           8.4        9.592883 -1.192883\n",
            "2           8.7       11.451598 -2.751598\n",
            "3          25.4       20.620950  4.779050\n",
            "4          11.7       15.123020 -3.423020\n",
            "5           8.7        9.878132 -1.178132\n",
            "6           7.2        7.692762 -0.492762\n",
            "7          13.2       18.338964 -5.138964\n",
            "8           9.2        8.387479  0.812521\n",
            "9          16.6       16.383633  0.216367\n",
            "10         24.2       19.314329  4.885671\n",
            "11         10.6       11.304373 -0.704373\n",
            "12         10.5       14.497314 -3.997314\n",
            "13         15.6       15.932757 -0.332757\n",
            "14         11.8       10.807489  0.992511\n",
            "15         13.2       12.822630  0.377370\n",
            "16         17.4       19.512163 -2.112163\n",
            "17          1.6        7.324699 -5.724699\n",
            "18         14.7       10.729276  3.970724\n",
            "19         17.0       17.110556 -0.110556\n",
            "20         26.2       20.524334  5.675666\n",
            "21         10.3       13.747387 -3.447387\n",
            "22         14.9       15.348458 -0.448458\n",
            "23         12.9       13.351720 -0.451720\n",
            "24          8.1        9.753911 -1.653911\n",
            "25         15.2       12.956053  2.243947\n",
            "26         12.6       14.911384 -2.311384\n",
            "27         22.6       16.724091  5.875909\n",
            "28         11.6       17.598239 -5.998239\n",
            "29          8.5        8.447289  0.052711\n",
            "30         12.5       10.411822  2.088178\n",
            "31         23.7       16.443443  7.256557\n",
            "32         16.1       20.206880 -4.106880\n",
            "33         21.8       18.412577  3.387423\n",
            "34          5.6        7.899797 -2.299797\n",
            "35          6.7        8.152839 -1.452839\n",
            "36          9.7       10.034558 -0.334558\n",
            "37         12.9       15.610702 -2.710702\n",
            "38         13.6       10.439427  3.160573\n",
            "39          7.2        8.442689 -1.242689\n"
          ]
        }
      ],
      "source": [
        "fdata[\"Error\"]=fdata['Actual_data']-fdata['Predicted_data']\n",
        "print(fdata)"
      ]
    },
    {
      "cell_type": "markdown",
      "metadata": {
        "id": "aS8AciQPl0WN"
      },
      "source": [
        "## Visualising the Linear regression results"
      ]
    },
    {
      "cell_type": "code",
      "execution_count": 73,
      "metadata": {
        "colab": {
          "base_uri": "https://localhost:8080/",
          "height": 430
        },
        "id": "AcWyl0jDD7OU",
        "outputId": "a4503246-4f4e-4677-aeba-6eb3cc1cde32"
      },
      "outputs": [
        {
          "data": {
            "image/png": "[encoded data removed]",
            "text/plain": [
              "<Figure size 640x480 with 1 Axes>"
            ]
          },
          "metadata": {},
          "output_type": "display_data"
        }
      ],
      "source": [
        "plt.scatter(x_test,y_test,color=\"red\")\n",
        "plt.plot(x_test,y_pred,color=\"blue\")\n",
        "plt.show()"
      ]
    },
    {
      "cell_type": "code",
      "execution_count": 74,
      "metadata": {
        "colab": {
          "base_uri": "https://localhost:8080/"
        },
        "id": "zEiAGuSnl7ve",
        "outputId": "60c06243-0911-4db9-ddc5-a2a191ea6cb8"
      },
      "outputs": [
        {
          "name": "stdout",
          "output_type": "stream",
          "text": [
            "Mean absolute error :  2.505418178966003\n",
            "Mean squared error :  10.18618193453022\n",
            "Root mean squared error :  3.191579849311344\n",
            "r Square :  0.6763151577939721\n"
          ]
        }
      ],
      "source": [
        "from sklearn.metrics import r2_score,mean_absolute_error,mean_squared_error\n",
        "print(\"Mean absolute error : \",mean_absolute_error(y_test,y_pred))\n",
        "print(\"Mean squared error : \",mean_squared_error(y_test,y_pred))\n",
        "print(\"Root mean squared error : \",np.sqrt(mean_squared_error(y_test,y_pred)))\n",
        "print(\"r Square : \",r2_score(y_test,y_pred))"
      ]
    }
  ],
  "metadata": {
    "colab": {
      "provenance": []
    },
    "kernelspec": {
      "display_name": "Python 3",
      "name": "python3"
    },
    "language_info": {
      "name": "python"
    }
  },
  "nbformat": 4,
  "nbformat_minor": 0
}
