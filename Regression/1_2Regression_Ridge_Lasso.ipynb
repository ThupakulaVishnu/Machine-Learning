{
  "nbformat": 4,
  "nbformat_minor": 0,
  "metadata": {
    "colab": {
      "provenance": []
    },
    "kernelspec": {
      "name": "python3",
      "display_name": "Python 3"
    },
    "language_info": {
      "name": "python"
    }
  },
  "cells": [
    {
      "cell_type": "code",
      "execution_count": 8,
      "metadata": {
        "id": "UZ9IaA1-bWr5"
      },
      "outputs": [],
      "source": [
        "import numpy as np\n",
        "import pandas as pd\n",
        "import matplotlib.pyplot as plt\n",
        "import seaborn as sns\n",
        "import warnings\n",
        "warnings.filterwarnings('ignore')"
      ]
    },
    {
      "cell_type": "code",
      "source": [
        "#Open Source dataset\n",
        "url='http://archive.ics.uci.edu/ml/machine-learning-databases/communities/communities.data'\n",
        "data=pd.read_csv(url,header=None,na_values=['?'])"
      ],
      "metadata": {
        "id": "Vm5wbc-wbZpT"
      },
      "execution_count": 9,
      "outputs": []
    },
    {
      "cell_type": "code",
      "source": [
        "print(data.head())"
      ],
      "metadata": {
        "colab": {
          "base_uri": "https://localhost:8080/"
        },
        "id": "3R9HEORlbcnQ",
        "outputId": "1b646255-3c38-4e98-f814-b6592bdc2c2e"
      },
      "execution_count": 10,
      "outputs": [
        {
          "output_type": "stream",
          "name": "stdout",
          "text": [
            "   0     1        2                    3    4     5     6     7     8     9    \\\n",
            "0    8   NaN      NaN         Lakewoodcity    1  0.19  0.33  0.02  0.90  0.12   \n",
            "1   53   NaN      NaN          Tukwilacity    1  0.00  0.16  0.12  0.74  0.45   \n",
            "2   24   NaN      NaN         Aberdeentown    1  0.00  0.42  0.49  0.56  0.17   \n",
            "3   34   5.0  81440.0  Willingborotownship    1  0.04  0.77  1.00  0.08  0.12   \n",
            "4   42  95.0   6096.0    Bethlehemtownship    1  0.01  0.55  0.02  0.95  0.09   \n",
            "\n",
            "   ...   118   119   120   121   122  123  124   125   126   127  \n",
            "0  ...  0.12  0.26  0.20  0.06  0.04  0.9  0.5  0.32  0.14  0.20  \n",
            "1  ...  0.02  0.12  0.45   NaN   NaN  NaN  NaN  0.00   NaN  0.67  \n",
            "2  ...  0.01  0.21  0.02   NaN   NaN  NaN  NaN  0.00   NaN  0.43  \n",
            "3  ...  0.02  0.39  0.28   NaN   NaN  NaN  NaN  0.00   NaN  0.12  \n",
            "4  ...  0.04  0.09  0.02   NaN   NaN  NaN  NaN  0.00   NaN  0.03  \n",
            "\n",
            "[5 rows x 128 columns]\n"
          ]
        }
      ]
    },
    {
      "cell_type": "code",
      "source": [
        "print(data.tail())"
      ],
      "metadata": {
        "colab": {
          "base_uri": "https://localhost:8080/"
        },
        "id": "_ovh8pzJb1i-",
        "outputId": "e20cb1c4-307e-46b6-f2f2-b6ee9df796b5"
      },
      "execution_count": 11,
      "outputs": [
        {
          "output_type": "stream",
          "name": "stdout",
          "text": [
            "      0     1        2                  3    4     5     6     7     8    \\\n",
            "1989   12   NaN      NaN  TempleTerracecity   10  0.01  0.40  0.10  0.87   \n",
            "1990    6   NaN      NaN        Seasidecity   10  0.05  0.96  0.46  0.28   \n",
            "1991    9   9.0  80070.0      Waterburytown   10  0.16  0.37  0.25  0.69   \n",
            "1992   25  17.0  72600.0        Walthamcity   10  0.08  0.51  0.06  0.87   \n",
            "1993    6   NaN      NaN        Ontariocity   10  0.20  0.78  0.14  0.46   \n",
            "\n",
            "       9    ...   118   119   120   121   122   123  124   125   126   127  \n",
            "1989  0.12  ...  0.01  0.28  0.05   NaN   NaN   NaN  NaN  0.00   NaN  0.09  \n",
            "1990  0.83  ...  0.02  0.37  0.20   NaN   NaN   NaN  NaN  0.00   NaN  0.45  \n",
            "1991  0.04  ...  0.08  0.32  0.18  0.08  0.06  0.78  0.0  0.91  0.28  0.23  \n",
            "1992  0.22  ...  0.03  0.38  0.33  0.02  0.02  0.79  0.0  0.22  0.18  0.19  \n",
            "1993  0.24  ...  0.11  0.30  0.05  0.08  0.04  0.73  0.5  1.00  0.13  0.48  \n",
            "\n",
            "[5 rows x 128 columns]\n"
          ]
        }
      ]
    },
    {
      "cell_type": "code",
      "source": [
        "print(data.isna().sum())"
      ],
      "metadata": {
        "colab": {
          "base_uri": "https://localhost:8080/"
        },
        "id": "f6goLD0Lb1gX",
        "outputId": "e95f575f-3e40-4d9a-b5cf-c23a49496516"
      },
      "execution_count": 12,
      "outputs": [
        {
          "output_type": "stream",
          "name": "stdout",
          "text": [
            "0         0\n",
            "1      1174\n",
            "2      1177\n",
            "3         0\n",
            "4         0\n",
            "       ... \n",
            "123    1675\n",
            "124    1675\n",
            "125       0\n",
            "126    1675\n",
            "127       0\n",
            "Length: 128, dtype: int64\n"
          ]
        }
      ]
    },
    {
      "cell_type": "code",
      "source": [
        "plt.figure(figsize=(10,5))\n",
        "sns.heatmap(data.isna(),yticklabels=False,cbar=False,cmap='viridis')"
      ],
      "metadata": {
        "colab": {
          "base_uri": "https://localhost:8080/",
          "height": 475
        },
        "id": "cTH1XdKzb1dL",
        "outputId": "af345027-3c7d-4d34-e569-1cb6e349602f"
      },
      "execution_count": 13,
      "outputs": [
        {
          "output_type": "execute_result",
          "data": {
            "text/plain": [
              "<Axes: >"
            ]
          },
          "metadata": {},
          "execution_count": 13
        },
        {
          "output_type": "display_data",
          "data": {
            "text/plain": [
              "<Figure size 1000x500 with 1 Axes>"
            ],
            "image/png": "[encoded data removed]"
          },
          "metadata": {}
        }
      ]
    },
    {
      "cell_type": "code",
      "source": [
        "data.drop([1,2,3,4,5],axis=1,inplace=True)\n",
        "data.dropna(inplace=True)"
      ],
      "metadata": {
        "id": "LWdxSetOb1Z_"
      },
      "execution_count": 14,
      "outputs": []
    },
    {
      "cell_type": "code",
      "source": [
        "print(data.isna().sum())"
      ],
      "metadata": {
        "colab": {
          "base_uri": "https://localhost:8080/"
        },
        "id": "T18EL6zLb1W9",
        "outputId": "f0ea238b-2b7c-4da9-c916-482c2298ade0"
      },
      "execution_count": 15,
      "outputs": [
        {
          "output_type": "stream",
          "name": "stdout",
          "text": [
            "0      0\n",
            "6      0\n",
            "7      0\n",
            "8      0\n",
            "9      0\n",
            "      ..\n",
            "123    0\n",
            "124    0\n",
            "125    0\n",
            "126    0\n",
            "127    0\n",
            "Length: 123, dtype: int64\n"
          ]
        }
      ]
    },
    {
      "cell_type": "code",
      "source": [
        "plt.figure(figsize=(10,5))\n",
        "sns.heatmap(data.isna(),yticklabels=False,cmap='viridis',cbar=False)"
      ],
      "metadata": {
        "colab": {
          "base_uri": "https://localhost:8080/",
          "height": 475
        },
        "id": "YMpAYD6Ib1T3",
        "outputId": "5f6e9183-a6e5-45c7-863a-be227e94791b"
      },
      "execution_count": 42,
      "outputs": [
        {
          "output_type": "execute_result",
          "data": {
            "text/plain": [
              "<Axes: >"
            ]
          },
          "metadata": {},
          "execution_count": 42
        },
        {
          "output_type": "display_data",
          "data": {
            "text/plain": [
              "<Figure size 1000x500 with 1 Axes>"
            ],
            "image/png": "[encoded data removed]"
          },
          "metadata": {}
        }
      ]
    },
    {
      "cell_type": "code",
      "source": [
        "x=data.iloc[:,:-1].values\n",
        "y=data.iloc[:,-1].values"
      ],
      "metadata": {
        "id": "h5pMv_HRcC4a"
      },
      "execution_count": 17,
      "outputs": []
    },
    {
      "cell_type": "code",
      "source": [
        "from sklearn.model_selection import train_test_split\n",
        "x_train,x_test,y_train,y_test=train_test_split(x,y,test_size=0.2,random_state=0)"
      ],
      "metadata": {
        "id": "ciiwl9C9cC2V"
      },
      "execution_count": 18,
      "outputs": []
    },
    {
      "cell_type": "code",
      "source": [
        "from sklearn.linear_model import LinearRegression\n",
        "lr=LinearRegression()\n",
        "lr.fit(x_train,y_train)\n",
        "LinearRegression(copy_X=True,fit_intercept=True,n_jobs=None)"
      ],
      "metadata": {
        "colab": {
          "base_uri": "https://localhost:8080/",
          "height": 74
        },
        "id": "8xX_TzqXcCza",
        "outputId": "510a9d24-8323-45a4-e5b0-8ddd158bc092"
      },
      "execution_count": 19,
      "outputs": [
        {
          "output_type": "execute_result",
          "data": {
            "text/plain": [
              "LinearRegression()"
            ],
            "text/html": [
              "<style>#sk-container-id-1 {color: black;}#sk-container-id-1 pre{padding: 0;}#sk-container-id-1 div.sk-toggleable {background-color: white;}#sk-container-id-1 label.sk-toggleable__label {cursor: pointer;display: block;width: 100%;margin-bottom: 0;padding: 0.3em;box-sizing: border-box;text-align: center;}#sk-container-id-1 label.sk-toggleable__label-arrow:before {content: \"▸\";float: left;margin-right: 0.25em;color: #696969;}#sk-container-id-1 label.sk-toggleable__label-arrow:hover:before {color: black;}#sk-container-id-1 div.sk-estimator:hover label.sk-toggleable__label-arrow:before {color: black;}#sk-container-id-1 div.sk-toggleable__content {max-height: 0;max-width: 0;overflow: hidden;text-align: left;background-color: #f0f8ff;}#sk-container-id-1 div.sk-toggleable__content pre {margin: 0.2em;color: black;border-radius: 0.25em;background-color: #f0f8ff;}#sk-container-id-1 input.sk-toggleable__control:checked~div.sk-toggleable__content {max-height: 200px;max-width: 100%;overflow: auto;}#sk-container-id-1 input.sk-toggleable__control:checked~label.sk-toggleable__label-arrow:before {content: \"▾\";}#sk-container-id-1 div.sk-estimator input.sk-toggleable__control:checked~label.sk-toggleable__label {background-color: #d4ebff;}#sk-container-id-1 div.sk-label input.sk-toggleable__control:checked~label.sk-toggleable__label {background-color: #d4ebff;}#sk-container-id-1 input.sk-hidden--visually {border: 0;clip: rect(1px 1px 1px 1px);clip: rect(1px, 1px, 1px, 1px);height: 1px;margin: -1px;overflow: hidden;padding: 0;position: absolute;width: 1px;}#sk-container-id-1 div.sk-estimator {font-family: monospace;background-color: #f0f8ff;border: 1px dotted black;border-radius: 0.25em;box-sizing: border-box;margin-bottom: 0.5em;}#sk-container-id-1 div.sk-estimator:hover {background-color: #d4ebff;}#sk-container-id-1 div.sk-parallel-item::after {content: \"\";width: 100%;border-bottom: 1px solid gray;flex-grow: 1;}#sk-container-id-1 div.sk-label:hover label.sk-toggleable__label {background-color: #d4ebff;}#sk-container-id-1 div.sk-serial::before {content: \"\";position: absolute;border-left: 1px solid gray;box-sizing: border-box;top: 0;bottom: 0;left: 50%;z-index: 0;}#sk-container-id-1 div.sk-serial {display: flex;flex-direction: column;align-items: center;background-color: white;padding-right: 0.2em;padding-left: 0.2em;position: relative;}#sk-container-id-1 div.sk-item {position: relative;z-index: 1;}#sk-container-id-1 div.sk-parallel {display: flex;align-items: stretch;justify-content: center;background-color: white;position: relative;}#sk-container-id-1 div.sk-item::before, #sk-container-id-1 div.sk-parallel-item::before {content: \"\";position: absolute;border-left: 1px solid gray;box-sizing: border-box;top: 0;bottom: 0;left: 50%;z-index: -1;}#sk-container-id-1 div.sk-parallel-item {display: flex;flex-direction: column;z-index: 1;position: relative;background-color: white;}#sk-container-id-1 div.sk-parallel-item:first-child::after {align-self: flex-end;width: 50%;}#sk-container-id-1 div.sk-parallel-item:last-child::after {align-self: flex-start;width: 50%;}#sk-container-id-1 div.sk-parallel-item:only-child::after {width: 0;}#sk-container-id-1 div.sk-dashed-wrapped {border: 1px dashed gray;margin: 0 0.4em 0.5em 0.4em;box-sizing: border-box;padding-bottom: 0.4em;background-color: white;}#sk-container-id-1 div.sk-label label {font-family: monospace;font-weight: bold;display: inline-block;line-height: 1.2em;}#sk-container-id-1 div.sk-label-container {text-align: center;}#sk-container-id-1 div.sk-container {/* jupyter's `normalize.less` sets `[hidden] { display: none; }` but bootstrap.min.css set `[hidden] { display: none !important; }` so we also need the `!important` here to be able to override the default hidden behavior on the sphinx rendered scikit-learn.org. See: https://github.com/scikit-learn/scikit-learn/issues/21755 */display: inline-block !important;position: relative;}#sk-container-id-1 div.sk-text-repr-fallback {display: none;}</style><div id=\"sk-container-id-1\" class=\"sk-top-container\"><div class=\"sk-text-repr-fallback\"><pre>LinearRegression()</pre><b>In a Jupyter environment, please rerun this cell to show the HTML representation or trust the notebook. <br />On GitHub, the HTML representation is unable to render, please try loading this page with nbviewer.org.</b></div><div class=\"sk-container\" hidden><div class=\"sk-item\"><div class=\"sk-estimator sk-toggleable\"><input class=\"sk-toggleable__control sk-hidden--visually\" id=\"sk-estimator-id-1\" type=\"checkbox\" checked><label for=\"sk-estimator-id-1\" class=\"sk-toggleable__label sk-toggleable__label-arrow\">LinearRegression</label><div class=\"sk-toggleable__content\"><pre>LinearRegression()</pre></div></div></div></div></div>"
            ]
          },
          "metadata": {},
          "execution_count": 19
        }
      ]
    },
    {
      "cell_type": "code",
      "source": [
        "print(\"iNTERCEPT : \",lr.intercept_)"
      ],
      "metadata": {
        "colab": {
          "base_uri": "https://localhost:8080/"
        },
        "id": "slmEy-_kcCw9",
        "outputId": "20b1fc3f-0f1f-4d4b-bef3-56fd5c31b89f"
      },
      "execution_count": 20,
      "outputs": [
        {
          "output_type": "stream",
          "name": "stdout",
          "text": [
            "iNTERCEPT :  2.242262719995551\n"
          ]
        }
      ]
    },
    {
      "cell_type": "code",
      "source": [
        "print(\"CO-EFFICIENT : \",lr.coef_)"
      ],
      "metadata": {
        "colab": {
          "base_uri": "https://localhost:8080/"
        },
        "id": "1C83i6FxcT61",
        "outputId": "64da7eec-cf93-4cbc-878b-37ea27fd8a51"
      },
      "execution_count": 21,
      "outputs": [
        {
          "output_type": "stream",
          "name": "stdout",
          "text": [
            "CO-EFFICIENT :  [-3.33934756e-04  2.32794756e-02  8.49879852e-02  3.39991000e-01\n",
            " -7.74800976e-02  3.50020558e-01  7.42316852e-01 -1.08203303e+00\n",
            " -2.92404129e-01 -2.79544884e-02 -7.23325303e-02  3.84268437e-02\n",
            " -6.73512825e-01 -3.25538623e-01 -1.76863999e-01 -8.74452975e-01\n",
            " -5.40748224e-01  4.57916770e-01  2.94757560e-01  1.19783153e+00\n",
            " -8.87176460e-01  1.56496355e-01 -4.48920462e-01  8.79789497e-02\n",
            " -6.58621929e-02  1.01320725e-01 -2.41887202e-01 -4.60067156e-01\n",
            "  4.20341384e-01 -1.81787691e-01 -2.39822584e-01 -5.97714390e-01\n",
            "  2.99972081e-01  1.20535732e+00 -4.19068866e-01 -1.11521971e-01\n",
            "  8.55219518e-01  1.76677642e+00  6.58534210e-01  1.47832412e-01\n",
            "  2.72944947e-01 -1.76920948e+00 -7.09220019e-01 -9.87046602e-01\n",
            " -7.52302185e-01  3.80682838e-01  1.57814957e-01 -4.15495939e-01\n",
            "  2.83765215e-01  2.43698287e-01 -1.15536293e-01  1.18008392e-01\n",
            "  2.80881458e-01 -5.05243716e-01 -1.40480697e+00  2.01685685e+00\n",
            " -4.19117577e-01  4.06037476e-02  3.67226557e+00 -3.89452528e+00\n",
            "  1.38690739e-01 -9.03405804e-02  3.87300250e-01 -3.37778511e-01\n",
            "  6.11906668e-01 -3.90993938e-02 -1.09065481e+00 -1.39879513e+00\n",
            "  6.54871683e-01  5.78708284e-01 -3.01820376e-02  4.01552701e-01\n",
            "  2.92418844e-01  1.92483858e+00  3.69823089e-02 -5.61771725e-02\n",
            " -2.50106695e-02  4.31570152e-02 -2.83253909e-01  5.78945025e-01\n",
            " -1.48471007e+00  5.91274519e-01 -9.67229250e-01  4.23879912e-01\n",
            " -9.82728770e-02  1.27791707e+00 -2.29864198e-01 -3.52383318e-02\n",
            "  2.21635386e-02 -1.85526948e-01  1.87949207e-01  6.34717451e-01\n",
            " -3.20461321e-01  3.20406549e-01 -1.87391122e-02  1.43710320e-01\n",
            " -2.56141449e+00 -2.64681407e-02 -1.83831295e+00  3.90528509e-01\n",
            " -2.48481316e-01  4.16664855e-01 -1.02351200e-01 -2.64681407e-02\n",
            " -2.25292460e-01 -1.22683396e-02 -1.96933975e-01 -3.09748174e-01\n",
            "  1.67634880e-01  1.81662375e-01 -8.54845727e-02 -2.11100109e-02\n",
            "  3.60759677e-03  2.38474024e-01 -1.12811778e-02 -2.53848770e-01\n",
            "  7.97332334e-02  6.94248319e-01 -9.89903114e-02  3.41800029e-02\n",
            " -5.56746553e-02 -4.58792415e-01]\n"
          ]
        }
      ]
    },
    {
      "cell_type": "code",
      "source": [
        "y_pred=lr.predict(x_test)"
      ],
      "metadata": {
        "id": "Oy2GFTfxcT4O"
      },
      "execution_count": 22,
      "outputs": []
    },
    {
      "cell_type": "code",
      "source": [
        "print(\"performance : \")\n",
        "from sklearn.metrics import r2_score,mean_squared_error,mean_absolute_error\n",
        "print(\"R-Square Value\",r2_score(y_test,y_pred))\n",
        "print(\"mean_squared_error : \",mean_squared_error(y_test,y_pred))\n",
        "print(\"mean_absolute_error :\",mean_absolute_error(y_test,y_pred))\n",
        "print(\"root_mean_squared_error : \",np.sqrt(mean_squared_error(y_test,y_pred)))"
      ],
      "metadata": {
        "colab": {
          "base_uri": "https://localhost:8080/"
        },
        "id": "NUGEFG-zcT1h",
        "outputId": "84398343-2bf5-4177-817d-2823410b61fb"
      },
      "execution_count": 23,
      "outputs": [
        {
          "output_type": "stream",
          "name": "stdout",
          "text": [
            "performance : \n",
            "R-Square Value 0.2774207593993372\n",
            "mean_squared_error :  0.05426159059403507\n",
            "mean_absolute_error : 0.18066311461138504\n",
            "root_mean_squared_error :  0.23294117410632897\n"
          ]
        }
      ]
    },
    {
      "cell_type": "markdown",
      "source": [
        "# **Ridge Regression**"
      ],
      "metadata": {
        "id": "aR4POw5Hcce_"
      }
    },
    {
      "cell_type": "code",
      "source": [
        "# alpha=0 is equivalent to linear regression\n",
        "from sklearn.linear_model import Ridge\n",
        "ridge=Ridge(alpha=0)\n",
        "ridge.fit(x_train,y_train)\n",
        "y_pred=ridge.predict(x_test)"
      ],
      "metadata": {
        "id": "87nbFvz5cTyq"
      },
      "execution_count": 24,
      "outputs": []
    },
    {
      "cell_type": "code",
      "source": [
        "print(\"performance : \")\n",
        "from sklearn.metrics import r2_score,mean_squared_error,mean_absolute_error\n",
        "print(\"R-Square Value\",r2_score(y_test,y_pred))\n",
        "print(\"mean_squared_error : \",mean_squared_error(y_test,y_pred))\n",
        "print(\"mean_absolute_error :\",mean_absolute_error(y_test,y_pred))\n",
        "print(\"root_mean_squared_error : \",np.sqrt(mean_squared_error(y_test,y_pred)))"
      ],
      "metadata": {
        "colab": {
          "base_uri": "https://localhost:8080/"
        },
        "id": "y89GZ8J4cTwC",
        "outputId": "f02abd25-91b6-4d3e-c422-67917fb18ca4"
      },
      "execution_count": 25,
      "outputs": [
        {
          "output_type": "stream",
          "name": "stdout",
          "text": [
            "performance : \n",
            "R-Square Value -2.2183327241308557e+19\n",
            "mean_squared_error :  1.6658416864851822e+18\n",
            "mean_absolute_error : 161334362.14361346\n",
            "root_mean_squared_error :  1290674895.7367933\n"
          ]
        }
      ]
    },
    {
      "cell_type": "code",
      "source": [
        "#Alpha with 0.1 penalty\n",
        "from sklearn.linear_model import Ridge\n",
        "re=Ridge(alpha=0.1)\n",
        "re.fit(x_train,y_train)\n",
        "y_pred=re.predict(x_test)"
      ],
      "metadata": {
        "id": "iOWm9_OfcTtU"
      },
      "execution_count": 26,
      "outputs": []
    },
    {
      "cell_type": "code",
      "source": [
        "print(\"performance : \")\n",
        "from sklearn.metrics import r2_score,mean_squared_error,mean_absolute_error\n",
        "print(\"R-Square Value\",r2_score(y_test,y_pred))\n",
        "print(\"mean_squared_error : \",mean_squared_error(y_test,y_pred))\n",
        "print(\"mean_absolute_error :\",mean_absolute_error(y_test,y_pred))\n",
        "print(\"root_mean_squared_error : \",np.sqrt(mean_squared_error(y_test,y_pred)))"
      ],
      "metadata": {
        "colab": {
          "base_uri": "https://localhost:8080/"
        },
        "id": "J3FjzAotcTqi",
        "outputId": "00dda026-230a-412f-e82d-f5510afabbe9"
      },
      "execution_count": 27,
      "outputs": [
        {
          "output_type": "stream",
          "name": "stdout",
          "text": [
            "performance : \n",
            "R-Square Value 0.4665139563931946\n",
            "mean_squared_error :  0.04006176715201561\n",
            "mean_absolute_error : 0.1541397425325956\n",
            "root_mean_squared_error :  0.2001543583138164\n"
          ]
        }
      ]
    },
    {
      "cell_type": "code",
      "source": [
        "from sklearn.linear_model import Ridge\n",
        "re=Ridge(alpha=10)\n",
        "re.fit(x_train,y_train)\n",
        "y_pred=re.predict(x_test)"
      ],
      "metadata": {
        "id": "7SZM0C4Ccy07"
      },
      "execution_count": 28,
      "outputs": []
    },
    {
      "cell_type": "code",
      "source": [
        "print(\"performance : \")\n",
        "from sklearn.metrics import r2_score,mean_squared_error,mean_absolute_error\n",
        "print(\"R-Square Value\",r2_score(y_test,y_pred))\n",
        "print(\"mean_squared_error : \",mean_squared_error(y_test,y_pred))\n",
        "print(\"mean_absolute_error :\",mean_absolute_error(y_test,y_pred))\n",
        "print(\"root_mean_squared_error : \",np.sqrt(mean_squared_error(y_test,y_pred)))"
      ],
      "metadata": {
        "colab": {
          "base_uri": "https://localhost:8080/"
        },
        "id": "CFcM5yCFcyyA",
        "outputId": "d43ad3cb-5b23-49d4-8a51-1bbaed8e1871"
      },
      "execution_count": 29,
      "outputs": [
        {
          "output_type": "stream",
          "name": "stdout",
          "text": [
            "performance : \n",
            "R-Square Value 0.6268538954551008\n",
            "mean_squared_error :  0.02802114981845184\n",
            "mean_absolute_error : 0.132783384442131\n",
            "root_mean_squared_error :  0.16739519054755378\n"
          ]
        }
      ]
    },
    {
      "cell_type": "markdown",
      "source": [
        "# **RidgeCV: ridge regression with built-in cross-validation of the alpha parameter.**"
      ],
      "metadata": {
        "id": "xCCb6IHqdXQH"
      }
    },
    {
      "cell_type": "code",
      "source": [
        "a_r=10.**np.arange(-1,3)\n",
        "print(a_r)"
      ],
      "metadata": {
        "colab": {
          "base_uri": "https://localhost:8080/"
        },
        "id": "2KrIVjDicyvL",
        "outputId": "7f108755-10c7-4769-ab43-a094a14ac992"
      },
      "execution_count": 30,
      "outputs": [
        {
          "output_type": "stream",
          "name": "stdout",
          "text": [
            "[  0.1   1.   10.  100. ]\n"
          ]
        }
      ]
    },
    {
      "cell_type": "code",
      "source": [
        "from sklearn.linear_model import RidgeCV\n",
        "recv=RidgeCV(alphas=a_r,scoring=\"neg_mean_squared_error\")\n",
        "recv.fit(x_train,y_train)\n",
        "print(recv.alpha_)"
      ],
      "metadata": {
        "colab": {
          "base_uri": "https://localhost:8080/"
        },
        "id": "CnkQw9Zucyqk",
        "outputId": "511a34b7-77a4-4260-c313-aa4194ac9b32"
      },
      "execution_count": 31,
      "outputs": [
        {
          "output_type": "stream",
          "name": "stdout",
          "text": [
            "10.0\n"
          ]
        }
      ]
    },
    {
      "cell_type": "code",
      "source": [
        "y_pred=recv.predict(x_test)"
      ],
      "metadata": {
        "id": "dc9-iBS3dxed"
      },
      "execution_count": 32,
      "outputs": []
    },
    {
      "cell_type": "code",
      "source": [
        "print(\"performance : \")\n",
        "from sklearn.metrics import r2_score,mean_squared_error,mean_absolute_error\n",
        "print(\"R-Square Value\",r2_score(y_test,y_pred))\n",
        "print(\"mean_squared_error : \",mean_squared_error(y_test,y_pred))\n",
        "print(\"mean_absolute_error :\",mean_absolute_error(y_test,y_pred))\n",
        "print(\"root_mean_squared_error : \",np.sqrt(mean_squared_error(y_test,y_pred)))"
      ],
      "metadata": {
        "colab": {
          "base_uri": "https://localhost:8080/"
        },
        "id": "sbX6mZmTdxbY",
        "outputId": "7543b461-925b-439f-c038-56bdecebf023"
      },
      "execution_count": 33,
      "outputs": [
        {
          "output_type": "stream",
          "name": "stdout",
          "text": [
            "performance : \n",
            "R-Square Value 0.6268538954550615\n",
            "mean_squared_error :  0.028021149818454782\n",
            "mean_absolute_error : 0.13278338444214105\n",
            "root_mean_squared_error :  0.16739519054756258\n"
          ]
        }
      ]
    },
    {
      "cell_type": "markdown",
      "source": [
        "# ***Lasso Regression***"
      ],
      "metadata": {
        "id": "FdXVqy4md456"
      }
    },
    {
      "cell_type": "code",
      "source": [
        "from sklearn.linear_model import Lasso\n",
        "lso=Lasso(alpha=0.001)\n",
        "lso.fit(x_train,y_train)\n",
        "print(lso.coef_)"
      ],
      "metadata": {
        "colab": {
          "base_uri": "https://localhost:8080/"
        },
        "id": "OOx73EQndxYL",
        "outputId": "24473ede-c6d4-46e9-fdba-10689c896f02"
      },
      "execution_count": 34,
      "outputs": [
        {
          "output_type": "stream",
          "name": "stdout",
          "text": [
            "[-2.29893425e-03 -0.00000000e+00  9.53080351e-02 -0.00000000e+00\n",
            " -1.65835881e-02  0.00000000e+00 -0.00000000e+00 -0.00000000e+00\n",
            " -0.00000000e+00  1.63339463e-02 -0.00000000e+00 -0.00000000e+00\n",
            "  0.00000000e+00 -0.00000000e+00 -0.00000000e+00 -6.66690565e-02\n",
            "  0.00000000e+00  0.00000000e+00 -0.00000000e+00  0.00000000e+00\n",
            "  0.00000000e+00  0.00000000e+00 -0.00000000e+00  0.00000000e+00\n",
            "  0.00000000e+00  0.00000000e+00  0.00000000e+00 -4.00750623e-02\n",
            "  0.00000000e+00 -0.00000000e+00 -0.00000000e+00  0.00000000e+00\n",
            "  3.20264114e-02 -0.00000000e+00 -8.06596575e-02  0.00000000e+00\n",
            "  0.00000000e+00  0.00000000e+00  0.00000000e+00 -0.00000000e+00\n",
            "  0.00000000e+00  0.00000000e+00  0.00000000e+00 -1.68683299e-01\n",
            " -3.48199306e-01 -0.00000000e+00 -0.00000000e+00 -0.00000000e+00\n",
            " -0.00000000e+00 -0.00000000e+00  6.93078302e-02 -0.00000000e+00\n",
            " -0.00000000e+00 -0.00000000e+00  0.00000000e+00  0.00000000e+00\n",
            "  0.00000000e+00  0.00000000e+00  0.00000000e+00  1.26909641e-01\n",
            " -0.00000000e+00  0.00000000e+00  0.00000000e+00  0.00000000e+00\n",
            " -0.00000000e+00  0.00000000e+00 -5.19700694e-03  0.00000000e+00\n",
            "  0.00000000e+00  0.00000000e+00 -0.00000000e+00  3.35093444e-02\n",
            " -5.52585529e-02  0.00000000e+00  2.57573538e-02  0.00000000e+00\n",
            " -9.17425814e-05  0.00000000e+00 -0.00000000e+00 -1.54010447e-01\n",
            " -0.00000000e+00 -0.00000000e+00 -6.00154883e-02 -0.00000000e+00\n",
            " -0.00000000e+00 -0.00000000e+00 -0.00000000e+00 -0.00000000e+00\n",
            "  0.00000000e+00 -0.00000000e+00  1.64340422e-01  1.54603232e-02\n",
            " -0.00000000e+00  3.53940664e-02  0.00000000e+00  0.00000000e+00\n",
            "  0.00000000e+00 -0.00000000e+00 -0.00000000e+00  0.00000000e+00\n",
            "  0.00000000e+00  0.00000000e+00  2.78835957e-02 -0.00000000e+00\n",
            " -1.33167696e-01 -0.00000000e+00 -0.00000000e+00 -0.00000000e+00\n",
            "  6.27525467e-02 -0.00000000e+00  0.00000000e+00 -1.50990521e-02\n",
            " -0.00000000e+00  0.00000000e+00 -0.00000000e+00 -2.00446998e-02\n",
            "  7.76581176e-02  0.00000000e+00  1.77006957e-02  5.29586951e-02\n",
            " -3.58949536e-02 -0.00000000e+00]\n"
          ]
        }
      ]
    },
    {
      "cell_type": "code",
      "source": [
        "from sklearn.linear_model import Lasso\n",
        "lso=Lasso(alpha=0.01)\n",
        "lso.fit(x_train,y_train)\n",
        "print(lso.coef_)"
      ],
      "metadata": {
        "colab": {
          "base_uri": "https://localhost:8080/"
        },
        "id": "91_XfQbKd_TQ",
        "outputId": "2a909b20-09db-4821-b089-3f77c8fbe688"
      },
      "execution_count": 35,
      "outputs": [
        {
          "output_type": "stream",
          "name": "stdout",
          "text": [
            "[-0.00237571  0.          0.12844914 -0.02309203 -0.          0.\n",
            "  0.          0.          0.          0.          0.         -0.\n",
            " -0.         -0.         -0.         -0.          0.          0.02302735\n",
            " -0.         -0.         -0.         -0.         -0.          0.\n",
            " -0.         -0.         -0.          0.          0.00949695  0.\n",
            "  0.         -0.          0.         -0.         -0.          0.\n",
            "  0.         -0.          0.          0.          0.          0.\n",
            "  0.         -0.         -0.22750651 -0.         -0.         -0.\n",
            " -0.          0.          0.26426669  0.          0.          0.\n",
            "  0.          0.          0.          0.          0.          0.\n",
            " -0.          0.          0.          0.          0.          0.\n",
            "  0.         -0.          0.          0.         -0.          0.05581065\n",
            " -0.         -0.          0.00969664  0.         -0.          0.\n",
            "  0.         -0.         -0.         -0.         -0.         -0.\n",
            " -0.         -0.          0.         -0.         -0.          0.\n",
            "  0.          0.         -0.         -0.          0.          0.\n",
            "  0.          0.         -0.          0.          0.          0.\n",
            "  0.          0.         -0.         -0.          0.          0.\n",
            "  0.          0.          0.          0.          0.          0.\n",
            "  0.          0.          0.          0.          0.          0.0243005\n",
            " -0.          0.        ]\n"
          ]
        }
      ]
    },
    {
      "cell_type": "code",
      "source": [
        "y_pred=lso.predict(x_test)"
      ],
      "metadata": {
        "id": "BU-H-8MMd_Q6"
      },
      "execution_count": 36,
      "outputs": []
    },
    {
      "cell_type": "code",
      "source": [
        "print(\"performance : \")\n",
        "from sklearn.metrics import r2_score,mean_squared_error,mean_absolute_error\n",
        "print(\"R-Square Value\",r2_score(y_test,y_pred))\n",
        "print(\"mean_squared_error : \",mean_squared_error(y_test,y_pred))\n",
        "print(\"mean_absolute_error :\",mean_absolute_error(y_test,y_pred))\n",
        "print(\"root_mean_squared_error : \",np.sqrt(mean_squared_error(y_test,y_pred)))"
      ],
      "metadata": {
        "colab": {
          "base_uri": "https://localhost:8080/"
        },
        "id": "zoqSUqPDd_OV",
        "outputId": "bdf62a70-d278-459c-e06b-e93de5d804b0"
      },
      "execution_count": 37,
      "outputs": [
        {
          "output_type": "stream",
          "name": "stdout",
          "text": [
            "performance : \n",
            "R-Square Value 0.5568544764151045\n",
            "mean_squared_error :  0.03327770799830096\n",
            "mean_absolute_error : 0.14893627447188812\n",
            "root_mean_squared_error :  0.18242178597497877\n"
          ]
        }
      ]
    },
    {
      "cell_type": "markdown",
      "source": [
        "# LassoCV: lasso regression with built-in cross-validation of the alpha parameter"
      ],
      "metadata": {
        "id": "hR14ErLgeJF6"
      }
    },
    {
      "cell_type": "code",
      "source": [
        "from sklearn.linear_model import LassoCV\n",
        "laso=LassoCV(n_alphas=100,random_state=1)\n",
        "laso.fit(x_train,y_train)\n",
        "print(laso.alpha_)"
      ],
      "metadata": {
        "colab": {
          "base_uri": "https://localhost:8080/"
        },
        "id": "uCWAtBTdd_Lf",
        "outputId": "93ad19b3-161d-4fd9-fbdd-7ff28ff1f424"
      },
      "execution_count": 38,
      "outputs": [
        {
          "output_type": "stream",
          "name": "stdout",
          "text": [
            "0.002021497530595437\n"
          ]
        }
      ]
    },
    {
      "cell_type": "code",
      "source": [
        "print(laso.coef_)"
      ],
      "metadata": {
        "colab": {
          "base_uri": "https://localhost:8080/"
        },
        "id": "kERl6XjueUK3",
        "outputId": "50ee1669-8476-471a-d91c-a26c31b2282f"
      },
      "execution_count": 39,
      "outputs": [
        {
          "output_type": "stream",
          "name": "stdout",
          "text": [
            "[-0.00230444  0.          0.12186674 -0.         -0.          0.\n",
            "  0.         -0.         -0.          0.         -0.         -0.\n",
            " -0.         -0.         -0.         -0.03286895  0.          0.\n",
            " -0.         -0.         -0.          0.         -0.          0.\n",
            " -0.         -0.         -0.         -0.          0.          0.\n",
            "  0.         -0.          0.05343983 -0.         -0.04189689  0.\n",
            "  0.         -0.          0.         -0.          0.          0.\n",
            "  0.         -0.05708931 -0.44868751 -0.         -0.         -0.\n",
            " -0.          0.          0.06134763 -0.         -0.         -0.\n",
            "  0.          0.          0.          0.          0.          0.08948038\n",
            " -0.          0.          0.          0.         -0.          0.\n",
            " -0.         -0.          0.          0.         -0.          0.02597824\n",
            " -0.04204803 -0.          0.02196237  0.         -0.          0.01586239\n",
            "  0.         -0.13192487 -0.         -0.         -0.0089825  -0.\n",
            " -0.         -0.         -0.         -0.          0.          0.\n",
            "  0.14881818  0.         -0.          0.          0.          0.\n",
            "  0.          0.         -0.          0.          0.          0.\n",
            "  0.          0.         -0.08409089 -0.          0.          0.\n",
            "  0.03649887  0.          0.         -0.         -0.          0.\n",
            "  0.         -0.          0.04643222  0.          0.          0.05200003\n",
            " -0.00515217  0.        ]\n"
          ]
        }
      ]
    },
    {
      "cell_type": "code",
      "source": [
        "y_pred=laso.predict(x_test)"
      ],
      "metadata": {
        "id": "5kHk2F4FeV0P"
      },
      "execution_count": 40,
      "outputs": []
    },
    {
      "cell_type": "code",
      "source": [
        "print(\"performance : \")\n",
        "from sklearn.metrics import r2_score,mean_squared_error,mean_absolute_error\n",
        "print(\"R-Square Value\",r2_score(y_test,y_pred))\n",
        "print(\"mean_squared_error : \",mean_squared_error(y_test,y_pred))\n",
        "print(\"mean_absolute_error :\",mean_absolute_error(y_test,y_pred))\n",
        "print(\"root_mean_squared_error : \",np.sqrt(mean_squared_error(y_test,y_pred)))"
      ],
      "metadata": {
        "colab": {
          "base_uri": "https://localhost:8080/"
        },
        "id": "O9ukP-nVeYuP",
        "outputId": "cc12a7a8-df7b-40f6-d6ea-507db711a9c8"
      },
      "execution_count": 41,
      "outputs": [
        {
          "output_type": "stream",
          "name": "stdout",
          "text": [
            "performance : \n",
            "R-Square Value 0.6165665083738163\n",
            "mean_squared_error :  0.028793674068696\n",
            "mean_absolute_error : 0.13346121541076988\n",
            "root_mean_squared_error :  0.16968698850735728\n"
          ]
        }
      ]
    }
  ]
}
