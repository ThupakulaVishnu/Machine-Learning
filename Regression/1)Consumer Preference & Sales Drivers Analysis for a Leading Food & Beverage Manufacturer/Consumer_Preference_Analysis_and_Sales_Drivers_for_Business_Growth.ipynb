{
  "nbformat": 4,
  "nbformat_minor": 0,
  "metadata": {
    "colab": {
      "provenance": [],
      "gpuType": "V28"
    },
    "kernelspec": {
      "name": "python3",
      "display_name": "Python 3"
    },
    "accelerator": "TPU"
  },
  "cells": [
    {
      "cell_type": "code",
      "metadata": {
        "id": "tAb77yZ9fzMG"
      },
      "source": [
        "import numpy as np\n",
        "import pandas as pd\n",
        "import matplotlib.pyplot as plt\n",
        "import seaborn as sns\n",
        "import warnings\n",
        "warnings.filterwarnings('ignore',category=FutureWarning)"
      ],
      "execution_count": 152,
      "outputs": []
    },
    {
      "cell_type": "code",
      "metadata": {
        "id": "pafL7Li0jyXW",
        "colab": {
          "base_uri": "https://localhost:8080/"
        },
        "outputId": "591aa77c-8a13-4ab4-c7c6-9cc1d45ac5f6"
      },
      "source": [
        "sales_data=pd.read_csv(\"sales_data.csv\")\n",
        "print(sales_data.head())"
      ],
      "execution_count": 153,
      "outputs": [
        {
          "output_type": "stream",
          "name": "stdout",
          "text": [
            "   system_calendar_key_N  product_id  sales_dollars_value  sales_units_value  \\\n",
            "0               20160109           1                13927                934   \n",
            "1               20160109           3                10289               1592   \n",
            "2               20160109           4                  357                 22   \n",
            "3               20160109           6                23113               2027   \n",
            "4               20160109           7                23177               3231   \n",
            "\n",
            "   sales_lbs_value  \n",
            "0          18680.0  \n",
            "1          28646.0  \n",
            "2            440.0  \n",
            "3          81088.0  \n",
            "4          58164.0  \n"
          ]
        }
      ]
    },
    {
      "cell_type": "code",
      "source": [
        "print(sales_data.tail())"
      ],
      "metadata": {
        "colab": {
          "base_uri": "https://localhost:8080/"
        },
        "id": "Xb0Zxb2dTzX7",
        "outputId": "3b350f44-d6e6-4dba-d9dc-b84f7ccaf79f"
      },
      "execution_count": 154,
      "outputs": [
        {
          "output_type": "stream",
          "name": "stdout",
          "text": [
            "        system_calendar_key_N  product_id  sales_dollars_value  \\\n",
            "648578               20160806       10749                 6978   \n",
            "648579               20160806       10750                 2452   \n",
            "648580               20160806       10751                 3910   \n",
            "648581               20160806       10752                 5539   \n",
            "648582               20160806       10754                  148   \n",
            "\n",
            "        sales_units_value  sales_lbs_value  \n",
            "648578               4403           1514.0  \n",
            "648579                 66             23.0  \n",
            "648580               2539            873.0  \n",
            "648581                144             50.0  \n",
            "648582                150              NaN  \n"
          ]
        }
      ]
    },
    {
      "cell_type": "code",
      "source": [
        "print(sales_data.shape)"
      ],
      "metadata": {
        "colab": {
          "base_uri": "https://localhost:8080/"
        },
        "id": "_ap-4-szT1jp",
        "outputId": "f6664c13-59bc-46a1-a006-8491f2c2469e"
      },
      "execution_count": 155,
      "outputs": [
        {
          "output_type": "stream",
          "name": "stdout",
          "text": [
            "(648583, 5)\n"
          ]
        }
      ]
    },
    {
      "cell_type": "code",
      "source": [
        "print(sales_data.isna().sum())"
      ],
      "metadata": {
        "colab": {
          "base_uri": "https://localhost:8080/"
        },
        "id": "XFoUISjTT3jG",
        "outputId": "d9e1a0ff-be7b-4205-f817-37bd9d1ad60a"
      },
      "execution_count": 156,
      "outputs": [
        {
          "output_type": "stream",
          "name": "stdout",
          "text": [
            "system_calendar_key_N    0\n",
            "product_id               0\n",
            "sales_dollars_value      0\n",
            "sales_units_value        0\n",
            "sales_lbs_value          1\n",
            "dtype: int64\n"
          ]
        }
      ]
    },
    {
      "cell_type": "code",
      "source": [
        "print(sales_data.describe())"
      ],
      "metadata": {
        "colab": {
          "base_uri": "https://localhost:8080/"
        },
        "id": "DG0KmK-NT5LT",
        "outputId": "a8164b1b-41ac-4143-a29c-929a78f574f7"
      },
      "execution_count": 157,
      "outputs": [
        {
          "output_type": "stream",
          "name": "stdout",
          "text": [
            "       system_calendar_key_N     product_id  sales_dollars_value  \\\n",
            "count           6.485830e+05  648583.000000         6.485830e+05   \n",
            "mean            2.016043e+07   28307.906163         2.274664e+04   \n",
            "std             2.011567e+02   15335.690492         8.296021e+04   \n",
            "min             2.016011e+07       1.000000         0.000000e+00   \n",
            "25%             2.016023e+07   14518.000000         5.160000e+02   \n",
            "50%             2.016042e+07   28851.000000         2.683000e+03   \n",
            "75%             2.016061e+07   41438.000000         1.258450e+04   \n",
            "max             2.016081e+07   54869.000000         4.395964e+06   \n",
            "\n",
            "       sales_units_value  sales_lbs_value  \n",
            "count      648583.000000     6.485820e+05  \n",
            "mean         5747.244072     1.876167e+04  \n",
            "std         29513.573657     1.383153e+05  \n",
            "min             1.000000     0.000000e+00  \n",
            "25%            85.000000     9.600000e+01  \n",
            "50%           435.000000     6.990000e+02  \n",
            "75%          1921.000000     4.473000e+03  \n",
            "max        801113.000000     1.100310e+07  \n"
          ]
        }
      ]
    },
    {
      "cell_type": "code",
      "source": [
        "print(sales_data.describe().T)"
      ],
      "metadata": {
        "colab": {
          "base_uri": "https://localhost:8080/"
        },
        "id": "89NoXd5OT65k",
        "outputId": "494dbfc2-1350-46db-9fe3-addd9349b240"
      },
      "execution_count": 158,
      "outputs": [
        {
          "output_type": "stream",
          "name": "stdout",
          "text": [
            "                          count          mean            std         min  \\\n",
            "system_calendar_key_N  648583.0  2.016043e+07     201.156668  20160109.0   \n",
            "product_id             648583.0  2.830791e+04   15335.690492         1.0   \n",
            "sales_dollars_value    648583.0  2.274664e+04   82960.208791         0.0   \n",
            "sales_units_value      648583.0  5.747244e+03   29513.573657         1.0   \n",
            "sales_lbs_value        648582.0  1.876167e+04  138315.255215         0.0   \n",
            "\n",
            "                              25%         50%         75%         max  \n",
            "system_calendar_key_N  20160227.0  20160423.0  20160611.0  20160806.0  \n",
            "product_id                14518.0     28851.0     41438.0     54869.0  \n",
            "sales_dollars_value         516.0      2683.0     12584.5   4395964.0  \n",
            "sales_units_value            85.0       435.0      1921.0    801113.0  \n",
            "sales_lbs_value              96.0       699.0      4473.0  11003100.0  \n"
          ]
        }
      ]
    },
    {
      "cell_type": "code",
      "source": [
        "print(sales_data.info())"
      ],
      "metadata": {
        "colab": {
          "base_uri": "https://localhost:8080/"
        },
        "id": "BD2HvjifT8mP",
        "outputId": "80e2e2be-48c4-4a11-fd55-cd8bb97a029b"
      },
      "execution_count": 159,
      "outputs": [
        {
          "output_type": "stream",
          "name": "stdout",
          "text": [
            "<class 'pandas.core.frame.DataFrame'>\n",
            "RangeIndex: 648583 entries, 0 to 648582\n",
            "Data columns (total 5 columns):\n",
            " #   Column                 Non-Null Count   Dtype  \n",
            "---  ------                 --------------   -----  \n",
            " 0   system_calendar_key_N  648583 non-null  int64  \n",
            " 1   product_id             648583 non-null  int64  \n",
            " 2   sales_dollars_value    648583 non-null  int64  \n",
            " 3   sales_units_value      648583 non-null  int64  \n",
            " 4   sales_lbs_value        648582 non-null  float64\n",
            "dtypes: float64(1), int64(4)\n",
            "memory usage: 24.7 MB\n",
            "None\n"
          ]
        }
      ]
    },
    {
      "cell_type": "code",
      "source": [
        "sales_data[\"system_calendar_key_N\"]=pd.to_datetime(sales_data[\"system_calendar_key_N\"],format=\"%Y%m%d\",errors=\"ignore\")\n",
        "print(sales_data.head())\n"
      ],
      "metadata": {
        "colab": {
          "base_uri": "https://localhost:8080/"
        },
        "id": "4xf-W4RPT_Ih",
        "outputId": "a0872d36-1386-41a9-e97c-b99970e3c767"
      },
      "execution_count": 160,
      "outputs": [
        {
          "output_type": "stream",
          "name": "stdout",
          "text": [
            "  system_calendar_key_N  product_id  sales_dollars_value  sales_units_value  \\\n",
            "0            2016-01-09           1                13927                934   \n",
            "1            2016-01-09           3                10289               1592   \n",
            "2            2016-01-09           4                  357                 22   \n",
            "3            2016-01-09           6                23113               2027   \n",
            "4            2016-01-09           7                23177               3231   \n",
            "\n",
            "   sales_lbs_value  \n",
            "0          18680.0  \n",
            "1          28646.0  \n",
            "2            440.0  \n",
            "3          81088.0  \n",
            "4          58164.0  \n"
          ]
        }
      ]
    },
    {
      "cell_type": "code",
      "source": [
        "print(sales_data.info())"
      ],
      "metadata": {
        "colab": {
          "base_uri": "https://localhost:8080/"
        },
        "id": "YG9Ap3h5UAmT",
        "outputId": "9c41f505-17e7-4b31-a17d-f10607486bdd"
      },
      "execution_count": 161,
      "outputs": [
        {
          "output_type": "stream",
          "name": "stdout",
          "text": [
            "<class 'pandas.core.frame.DataFrame'>\n",
            "RangeIndex: 648583 entries, 0 to 648582\n",
            "Data columns (total 5 columns):\n",
            " #   Column                 Non-Null Count   Dtype         \n",
            "---  ------                 --------------   -----         \n",
            " 0   system_calendar_key_N  648583 non-null  datetime64[ns]\n",
            " 1   product_id             648583 non-null  int64         \n",
            " 2   sales_dollars_value    648583 non-null  int64         \n",
            " 3   sales_units_value      648583 non-null  int64         \n",
            " 4   sales_lbs_value        648582 non-null  float64       \n",
            "dtypes: datetime64[ns](1), float64(1), int64(3)\n",
            "memory usage: 24.7 MB\n",
            "None\n"
          ]
        }
      ]
    },
    {
      "cell_type": "code",
      "source": [
        "google_search_data=pd.read_csv(\"google_search_data.csv\")\n",
        "print(google_search_data.head())"
      ],
      "metadata": {
        "colab": {
          "base_uri": "https://localhost:8080/"
        },
        "id": "5incfc3YUDtj",
        "outputId": "5b246974-9d7c-4ee6-c510-4ce2f436e050"
      },
      "execution_count": 162,
      "outputs": [
        {
          "output_type": "stream",
          "name": "stdout",
          "text": [
            "         date platform  searchVolume  Claim_ID  week_number  year_new\n",
            "0  05-01-2014   google           349       916            1      2014\n",
            "1  06-01-2014   google           349       916            2      2014\n",
            "2  07-01-2014   google           697       916            2      2014\n",
            "3  10-01-2014   google           349       916            2      2014\n",
            "4  20-01-2014   google           697       916            4      2014\n"
          ]
        }
      ]
    },
    {
      "cell_type": "code",
      "source": [
        "print(google_search_data.info())"
      ],
      "metadata": {
        "colab": {
          "base_uri": "https://localhost:8080/"
        },
        "id": "mGLhquSEUFAi",
        "outputId": "56da0162-fd05-4b15-bee4-a5deea5d2a99"
      },
      "execution_count": 163,
      "outputs": [
        {
          "output_type": "stream",
          "name": "stdout",
          "text": [
            "<class 'pandas.core.frame.DataFrame'>\n",
            "RangeIndex: 181565 entries, 0 to 181564\n",
            "Data columns (total 6 columns):\n",
            " #   Column        Non-Null Count   Dtype \n",
            "---  ------        --------------   ----- \n",
            " 0   date          181565 non-null  object\n",
            " 1   platform      181565 non-null  object\n",
            " 2   searchVolume  181565 non-null  int64 \n",
            " 3   Claim_ID      181565 non-null  int64 \n",
            " 4   week_number   181565 non-null  int64 \n",
            " 5   year_new      181565 non-null  int64 \n",
            "dtypes: int64(4), object(2)\n",
            "memory usage: 8.3+ MB\n",
            "None\n"
          ]
        }
      ]
    },
    {
      "cell_type": "code",
      "source": [
        "print(google_search_data['platform'].value_counts())"
      ],
      "metadata": {
        "colab": {
          "base_uri": "https://localhost:8080/"
        },
        "id": "n9QcMV2ZUGNE",
        "outputId": "680b494c-896c-44fa-ea30-eee038f009a7"
      },
      "execution_count": 164,
      "outputs": [
        {
          "output_type": "stream",
          "name": "stdout",
          "text": [
            "platform\n",
            "google     138115\n",
            "amazon      23828\n",
            "chewy       13352\n",
            "walmart      6270\n",
            "Name: count, dtype: int64\n"
          ]
        }
      ]
    },
    {
      "cell_type": "code",
      "source": [
        "google_search_data['date']=pd.to_datetime(google_search_data['date'],format='%d-%m-%Y',errors='ignore')\n",
        "print(google_search_data.info())"
      ],
      "metadata": {
        "colab": {
          "base_uri": "https://localhost:8080/"
        },
        "id": "D_rpNyPkUJI8",
        "outputId": "56e644ce-8581-41d9-d7ce-48477e287b7e"
      },
      "execution_count": 165,
      "outputs": [
        {
          "output_type": "stream",
          "name": "stdout",
          "text": [
            "<class 'pandas.core.frame.DataFrame'>\n",
            "RangeIndex: 181565 entries, 0 to 181564\n",
            "Data columns (total 6 columns):\n",
            " #   Column        Non-Null Count   Dtype         \n",
            "---  ------        --------------   -----         \n",
            " 0   date          181565 non-null  datetime64[ns]\n",
            " 1   platform      181565 non-null  object        \n",
            " 2   searchVolume  181565 non-null  int64         \n",
            " 3   Claim_ID      181565 non-null  int64         \n",
            " 4   week_number   181565 non-null  int64         \n",
            " 5   year_new      181565 non-null  int64         \n",
            "dtypes: datetime64[ns](1), int64(4), object(1)\n",
            "memory usage: 8.3+ MB\n",
            "None\n"
          ]
        }
      ]
    },
    {
      "cell_type": "code",
      "source": [
        "print(google_search_data[\"date\"].dtype)"
      ],
      "metadata": {
        "colab": {
          "base_uri": "https://localhost:8080/"
        },
        "id": "QABsLBeCUJtK",
        "outputId": "ec40bfe6-159a-429d-ec3a-89b160e496e5"
      },
      "execution_count": 166,
      "outputs": [
        {
          "output_type": "stream",
          "name": "stdout",
          "text": [
            "datetime64[ns]\n"
          ]
        }
      ]
    },
    {
      "cell_type": "code",
      "source": [
        "print(google_search_data.isna().sum())"
      ],
      "metadata": {
        "colab": {
          "base_uri": "https://localhost:8080/"
        },
        "id": "NKJav1qPULcU",
        "outputId": "2b87c239-bde1-40a6-88d9-310e261b9a91"
      },
      "execution_count": 167,
      "outputs": [
        {
          "output_type": "stream",
          "name": "stdout",
          "text": [
            "date            0\n",
            "platform        0\n",
            "searchVolume    0\n",
            "Claim_ID        0\n",
            "week_number     0\n",
            "year_new        0\n",
            "dtype: int64\n"
          ]
        }
      ]
    },
    {
      "cell_type": "code",
      "source": [
        "google_search_data.sort_values('date',inplace=True)\n",
        "print(google_search_data.head())"
      ],
      "metadata": {
        "colab": {
          "base_uri": "https://localhost:8080/"
        },
        "id": "BD-ii1XwUNn_",
        "outputId": "194ce361-1d5d-4299-b1d7-5eefa7a6f91e"
      },
      "execution_count": 168,
      "outputs": [
        {
          "output_type": "stream",
          "name": "stdout",
          "text": [
            "            date platform  searchVolume  Claim_ID  week_number  year_new\n",
            "1147  2014-01-01   google           889       922            1      2014\n",
            "2365  2014-01-01   google           240       707            1      2014\n",
            "3802  2014-01-01   google          1131       901            1      2014\n",
            "13726 2014-01-01   google          1725       177            1      2014\n",
            "1827  2014-01-01   google          2636       100            1      2014\n"
          ]
        }
      ]
    },
    {
      "cell_type": "code",
      "source": [
        "google_search_data.reset_index(inplace=True)\n",
        "print(google_search_data.head())"
      ],
      "metadata": {
        "colab": {
          "base_uri": "https://localhost:8080/"
        },
        "id": "sHX-i_hlUO_0",
        "outputId": "1b4a2ba5-454b-4666-8dcf-2a7405844277"
      },
      "execution_count": 169,
      "outputs": [
        {
          "output_type": "stream",
          "name": "stdout",
          "text": [
            "   index       date platform  searchVolume  Claim_ID  week_number  year_new\n",
            "0   1147 2014-01-01   google           889       922            1      2014\n",
            "1   2365 2014-01-01   google           240       707            1      2014\n",
            "2   3802 2014-01-01   google          1131       901            1      2014\n",
            "3  13726 2014-01-01   google          1725       177            1      2014\n",
            "4   1827 2014-01-01   google          2636       100            1      2014\n"
          ]
        }
      ]
    },
    {
      "cell_type": "code",
      "source": [
        "google_search_data.drop(columns=\"index\",inplace=True)\n",
        "print(google_search_data.head())"
      ],
      "metadata": {
        "colab": {
          "base_uri": "https://localhost:8080/"
        },
        "id": "DhRCq2UpUQPy",
        "outputId": "f07547b4-bcee-485f-b269-504375f830fb"
      },
      "execution_count": 170,
      "outputs": [
        {
          "output_type": "stream",
          "name": "stdout",
          "text": [
            "        date platform  searchVolume  Claim_ID  week_number  year_new\n",
            "0 2014-01-01   google           889       922            1      2014\n",
            "1 2014-01-01   google           240       707            1      2014\n",
            "2 2014-01-01   google          1131       901            1      2014\n",
            "3 2014-01-01   google          1725       177            1      2014\n",
            "4 2014-01-01   google          2636       100            1      2014\n"
          ]
        }
      ]
    },
    {
      "cell_type": "code",
      "source": [
        "themep_data=pd.read_csv(\"Theme_product_list.csv\")\n",
        "print(themep_data.head())"
      ],
      "metadata": {
        "colab": {
          "base_uri": "https://localhost:8080/"
        },
        "id": "S1d4oJo5UbGR",
        "outputId": "2c826249-ad43-4b7a-a684-44bebf1b58ec"
      },
      "execution_count": 171,
      "outputs": [
        {
          "output_type": "stream",
          "name": "stdout",
          "text": [
            "   PRODUCT_ID  CLAIM_ID\n",
            "0           1         0\n",
            "1           2         0\n",
            "2           3         0\n",
            "3           4         0\n",
            "4           5         0\n"
          ]
        }
      ]
    },
    {
      "cell_type": "code",
      "source": [
        "print(themep_data.shape)"
      ],
      "metadata": {
        "colab": {
          "base_uri": "https://localhost:8080/"
        },
        "id": "yTktnP3NUeHn",
        "outputId": "f6813b6c-6d0a-41ff-d04f-1320fbd6dc87"
      },
      "execution_count": 172,
      "outputs": [
        {
          "output_type": "stream",
          "name": "stdout",
          "text": [
            "(91485, 2)\n"
          ]
        }
      ]
    },
    {
      "cell_type": "code",
      "source": [
        "pip install openpyxl"
      ],
      "metadata": {
        "colab": {
          "base_uri": "https://localhost:8080/"
        },
        "id": "HUwiYCPQXPiH",
        "outputId": "6b502940-5eab-44e6-b35a-e442710e9be7"
      },
      "execution_count": 173,
      "outputs": [
        {
          "output_type": "stream",
          "name": "stdout",
          "text": [
            "Requirement already satisfied: openpyxl in /usr/local/lib/python3.10/dist-packages (3.1.5)\n",
            "Requirement already satisfied: et-xmlfile in /usr/local/lib/python3.10/dist-packages (from openpyxl) (1.1.0)\n"
          ]
        }
      ]
    },
    {
      "cell_type": "code",
      "source": [
        "socialm_data=pd.read_excel(\"social_media_data.xlsx\")\n",
        "print(socialm_data.head())"
      ],
      "metadata": {
        "colab": {
          "base_uri": "https://localhost:8080/"
        },
        "id": "QiT1lqMlUfkv",
        "outputId": "627b11ee-212c-4afb-8cf9-55ceb8d16aa6"
      },
      "execution_count": 174,
      "outputs": [
        {
          "output_type": "stream",
          "name": "stdout",
          "text": [
            "   Theme Id       published_date  total_post\n",
            "0     148.0  2015-01-10 00:00:00          76\n",
            "1     148.0  2015-10-10 00:00:00          31\n",
            "2     148.0  2015-11-10 00:00:00          65\n",
            "3     148.0  2015-12-10 00:00:00          88\n",
            "4     148.0           10/13/2015          85\n"
          ]
        }
      ]
    },
    {
      "cell_type": "code",
      "source": [
        "print(socialm_data.isna().sum())"
      ],
      "metadata": {
        "colab": {
          "base_uri": "https://localhost:8080/"
        },
        "id": "xJvjUXksUg0v",
        "outputId": "82d59e1a-1318-4de2-f20d-9e51eb77116a"
      },
      "execution_count": 175,
      "outputs": [
        {
          "output_type": "stream",
          "name": "stdout",
          "text": [
            "Theme Id          218511\n",
            "published_date         0\n",
            "total_post             0\n",
            "dtype: int64\n"
          ]
        }
      ]
    },
    {
      "cell_type": "code",
      "source": [
        "print(socialm_data.shape)"
      ],
      "metadata": {
        "colab": {
          "base_uri": "https://localhost:8080/"
        },
        "id": "EKQEHKbMUieb",
        "outputId": "454c238f-0a81-4208-ce76-c621d8c491b4"
      },
      "execution_count": 176,
      "outputs": [
        {
          "output_type": "stream",
          "name": "stdout",
          "text": [
            "(533390, 3)\n"
          ]
        }
      ]
    },
    {
      "cell_type": "code",
      "source": [
        "socialm_data.dropna(subset=['Theme Id'],inplace=True)\n",
        "print(socialm_data.isna().sum())\n"
      ],
      "metadata": {
        "colab": {
          "base_uri": "https://localhost:8080/"
        },
        "id": "xA3kiO4oUkvj",
        "outputId": "24b22116-ebcb-4020-f00f-77192ddd3d37"
      },
      "execution_count": 177,
      "outputs": [
        {
          "output_type": "stream",
          "name": "stdout",
          "text": [
            "Theme Id          0\n",
            "published_date    0\n",
            "total_post        0\n",
            "dtype: int64\n"
          ]
        }
      ]
    },
    {
      "cell_type": "code",
      "source": [
        "print(socialm_data.shape)"
      ],
      "metadata": {
        "colab": {
          "base_uri": "https://localhost:8080/"
        },
        "id": "fQc7R6d6UmeS",
        "outputId": "5082c02b-e51f-4600-acc4-fef5c6a666ef"
      },
      "execution_count": 178,
      "outputs": [
        {
          "output_type": "stream",
          "name": "stdout",
          "text": [
            "(314879, 3)\n"
          ]
        }
      ]
    },
    {
      "cell_type": "code",
      "source": [
        "print(socialm_data.info())"
      ],
      "metadata": {
        "colab": {
          "base_uri": "https://localhost:8080/"
        },
        "id": "Mj5Kr_8zUoB2",
        "outputId": "fe44451d-fc3a-4020-8f01-548c0510c216"
      },
      "execution_count": 179,
      "outputs": [
        {
          "output_type": "stream",
          "name": "stdout",
          "text": [
            "<class 'pandas.core.frame.DataFrame'>\n",
            "Index: 314879 entries, 0 to 533389\n",
            "Data columns (total 3 columns):\n",
            " #   Column          Non-Null Count   Dtype  \n",
            "---  ------          --------------   -----  \n",
            " 0   Theme Id        314879 non-null  float64\n",
            " 1   published_date  314879 non-null  object \n",
            " 2   total_post      314879 non-null  int64  \n",
            "dtypes: float64(1), int64(1), object(1)\n",
            "memory usage: 9.6+ MB\n",
            "None\n"
          ]
        }
      ]
    },
    {
      "cell_type": "code",
      "source": [
        "socialm_data['Theme Id'].astype('int')\n",
        "\n",
        "print(socialm_data.info())"
      ],
      "metadata": {
        "colab": {
          "base_uri": "https://localhost:8080/"
        },
        "id": "0hc02eHAUpV5",
        "outputId": "6f9720ca-cef8-425b-aa7e-63179b36f321"
      },
      "execution_count": 180,
      "outputs": [
        {
          "output_type": "stream",
          "name": "stdout",
          "text": [
            "<class 'pandas.core.frame.DataFrame'>\n",
            "Index: 314879 entries, 0 to 533389\n",
            "Data columns (total 3 columns):\n",
            " #   Column          Non-Null Count   Dtype  \n",
            "---  ------          --------------   -----  \n",
            " 0   Theme Id        314879 non-null  float64\n",
            " 1   published_date  314879 non-null  object \n",
            " 2   total_post      314879 non-null  int64  \n",
            "dtypes: float64(1), int64(1), object(1)\n",
            "memory usage: 9.6+ MB\n",
            "None\n"
          ]
        }
      ]
    },
    {
      "cell_type": "code",
      "source": [
        "socialm_data['published_date']=pd.to_datetime(socialm_data['published_date'])\n",
        "\n",
        "print(socialm_data.head())"
      ],
      "metadata": {
        "colab": {
          "base_uri": "https://localhost:8080/"
        },
        "id": "FzATyhsEUqsx",
        "outputId": "b26a9b40-1afb-499b-e2d7-512ab2853cf8"
      },
      "execution_count": 181,
      "outputs": [
        {
          "output_type": "stream",
          "name": "stdout",
          "text": [
            "   Theme Id published_date  total_post\n",
            "0     148.0     2015-01-10          76\n",
            "1     148.0     2015-10-10          31\n",
            "2     148.0     2015-11-10          65\n",
            "3     148.0     2015-12-10          88\n",
            "4     148.0     2015-10-13          85\n"
          ]
        }
      ]
    },
    {
      "cell_type": "code",
      "source": [
        "print(socialm_data.info())"
      ],
      "metadata": {
        "colab": {
          "base_uri": "https://localhost:8080/"
        },
        "id": "7vyeruy5UsQY",
        "outputId": "86ec5c00-8233-47f2-c8d0-658ffb48ac56"
      },
      "execution_count": 182,
      "outputs": [
        {
          "output_type": "stream",
          "name": "stdout",
          "text": [
            "<class 'pandas.core.frame.DataFrame'>\n",
            "Index: 314879 entries, 0 to 533389\n",
            "Data columns (total 3 columns):\n",
            " #   Column          Non-Null Count   Dtype         \n",
            "---  ------          --------------   -----         \n",
            " 0   Theme Id        314879 non-null  float64       \n",
            " 1   published_date  314879 non-null  datetime64[ns]\n",
            " 2   total_post      314879 non-null  int64         \n",
            "dtypes: datetime64[ns](1), float64(1), int64(1)\n",
            "memory usage: 9.6 MB\n",
            "None\n"
          ]
        }
      ]
    },
    {
      "cell_type": "code",
      "source": [
        "productml_data=pd.read_csv(\"product_manufacturer_list.csv\")\n",
        "print(productml_data.isna().sum())"
      ],
      "metadata": {
        "colab": {
          "base_uri": "https://localhost:8080/"
        },
        "id": "woZ8TZ9XUwAT",
        "outputId": "6fe9e4ef-9b9d-4385-eb7d-a559488a6802"
      },
      "execution_count": 183,
      "outputs": [
        {
          "output_type": "stream",
          "name": "stdout",
          "text": [
            "PRODUCT_ID        0\n",
            "Vendor            0\n",
            "Unnamed: 2    67175\n",
            "Unnamed: 3    67175\n",
            "Unnamed: 4    67175\n",
            "Unnamed: 5    67175\n",
            "Unnamed: 6    67175\n",
            "dtype: int64\n"
          ]
        }
      ]
    },
    {
      "cell_type": "code",
      "source": [
        "productml_data=productml_data.iloc[:,:2]\n",
        "print(productml_data.isna().sum())"
      ],
      "metadata": {
        "colab": {
          "base_uri": "https://localhost:8080/"
        },
        "id": "xHM21g1UUxig",
        "outputId": "53ace616-b77e-493e-9720-b232ef42f159"
      },
      "execution_count": 184,
      "outputs": [
        {
          "output_type": "stream",
          "name": "stdout",
          "text": [
            "PRODUCT_ID    0\n",
            "Vendor        0\n",
            "dtype: int64\n"
          ]
        }
      ]
    },
    {
      "cell_type": "code",
      "source": [
        "print(productml_data.info())"
      ],
      "metadata": {
        "colab": {
          "base_uri": "https://localhost:8080/"
        },
        "id": "S4kM3V63UzIu",
        "outputId": "d5e8dba5-9064-4337-adcf-e2d8ac544d15"
      },
      "execution_count": 185,
      "outputs": [
        {
          "output_type": "stream",
          "name": "stdout",
          "text": [
            "<class 'pandas.core.frame.DataFrame'>\n",
            "RangeIndex: 67175 entries, 0 to 67174\n",
            "Data columns (total 2 columns):\n",
            " #   Column      Non-Null Count  Dtype \n",
            "---  ------      --------------  ----- \n",
            " 0   PRODUCT_ID  67175 non-null  int64 \n",
            " 1   Vendor      67175 non-null  object\n",
            "dtypes: int64(1), object(1)\n",
            "memory usage: 1.0+ MB\n",
            "None\n"
          ]
        }
      ]
    },
    {
      "cell_type": "code",
      "source": [
        "theme=pd.read_csv(\"Theme_list.csv\")\n",
        "print(theme.isna().sum())"
      ],
      "metadata": {
        "colab": {
          "base_uri": "https://localhost:8080/"
        },
        "id": "NC0Q8HG2U0Yk",
        "outputId": "05e8ed0a-c70f-4c7e-8494-169cf4420aae"
      },
      "execution_count": 186,
      "outputs": [
        {
          "output_type": "stream",
          "name": "stdout",
          "text": [
            "CLAIM_ID      0\n",
            "Claim Name    0\n",
            "dtype: int64\n"
          ]
        }
      ]
    },
    {
      "cell_type": "code",
      "source": [
        "print(theme.shape)"
      ],
      "metadata": {
        "colab": {
          "base_uri": "https://localhost:8080/"
        },
        "id": "0-O2yayYU19P",
        "outputId": "78a5fb70-9fb1-40cd-8fe5-4138375877d7"
      },
      "execution_count": 187,
      "outputs": [
        {
          "output_type": "stream",
          "name": "stdout",
          "text": [
            "(208, 2)\n"
          ]
        }
      ]
    },
    {
      "cell_type": "code",
      "source": [
        "print(theme['CLAIM_ID'].nunique())"
      ],
      "metadata": {
        "colab": {
          "base_uri": "https://localhost:8080/"
        },
        "id": "aPr5Yyf3U3Pm",
        "outputId": "11a6b311-5a67-4096-fd58-4ce48330389d"
      },
      "execution_count": 188,
      "outputs": [
        {
          "output_type": "stream",
          "name": "stdout",
          "text": [
            "208\n"
          ]
        }
      ]
    },
    {
      "cell_type": "code",
      "source": [
        "print(theme['Claim Name'].nunique())"
      ],
      "metadata": {
        "colab": {
          "base_uri": "https://localhost:8080/"
        },
        "id": "s4LmMnknU4dL",
        "outputId": "89cc9b33-8a89-4df8-db99-e7a4e230b1ba"
      },
      "execution_count": 189,
      "outputs": [
        {
          "output_type": "stream",
          "name": "stdout",
          "text": [
            "208\n"
          ]
        }
      ]
    },
    {
      "cell_type": "code",
      "source": [
        "print(sales_data.head())"
      ],
      "metadata": {
        "colab": {
          "base_uri": "https://localhost:8080/"
        },
        "id": "i53evq58U6LU",
        "outputId": "3d5ba826-c603-49cf-8cb8-ccd8075b10f6"
      },
      "execution_count": 190,
      "outputs": [
        {
          "output_type": "stream",
          "name": "stdout",
          "text": [
            "  system_calendar_key_N  product_id  sales_dollars_value  sales_units_value  \\\n",
            "0            2016-01-09           1                13927                934   \n",
            "1            2016-01-09           3                10289               1592   \n",
            "2            2016-01-09           4                  357                 22   \n",
            "3            2016-01-09           6                23113               2027   \n",
            "4            2016-01-09           7                23177               3231   \n",
            "\n",
            "   sales_lbs_value  \n",
            "0          18680.0  \n",
            "1          28646.0  \n",
            "2            440.0  \n",
            "3          81088.0  \n",
            "4          58164.0  \n"
          ]
        }
      ]
    },
    {
      "cell_type": "code",
      "source": [
        "print(themep_data.head())"
      ],
      "metadata": {
        "colab": {
          "base_uri": "https://localhost:8080/"
        },
        "id": "5YglBBHrU7zP",
        "outputId": "ef31a630-3189-4f5d-accd-1983a81eff10"
      },
      "execution_count": 191,
      "outputs": [
        {
          "output_type": "stream",
          "name": "stdout",
          "text": [
            "   PRODUCT_ID  CLAIM_ID\n",
            "0           1         0\n",
            "1           2         0\n",
            "2           3         0\n",
            "3           4         0\n",
            "4           5         0\n"
          ]
        }
      ]
    },
    {
      "cell_type": "code",
      "source": [
        "print(productml_data.head())"
      ],
      "metadata": {
        "colab": {
          "base_uri": "https://localhost:8080/"
        },
        "id": "PMdhviOLU9Q7",
        "outputId": "8cfd1eec-29b7-49c4-ead4-f35a643c0775"
      },
      "execution_count": 192,
      "outputs": [
        {
          "output_type": "stream",
          "name": "stdout",
          "text": [
            "   PRODUCT_ID  Vendor\n",
            "0           1  Others\n",
            "1           2  Others\n",
            "2           3  Others\n",
            "3           4  Others\n",
            "4           5  Others\n"
          ]
        }
      ]
    },
    {
      "cell_type": "code",
      "source": [
        "sales_data.rename(columns={'product_id':'PRODUCT_ID'},inplace=True)\n",
        "print(sales_data.head())"
      ],
      "metadata": {
        "colab": {
          "base_uri": "https://localhost:8080/"
        },
        "id": "uJ9DZqhUU-Y9",
        "outputId": "2e1602c5-d8ce-49da-b62c-d49661fa38bb"
      },
      "execution_count": 193,
      "outputs": [
        {
          "output_type": "stream",
          "name": "stdout",
          "text": [
            "  system_calendar_key_N  PRODUCT_ID  sales_dollars_value  sales_units_value  \\\n",
            "0            2016-01-09           1                13927                934   \n",
            "1            2016-01-09           3                10289               1592   \n",
            "2            2016-01-09           4                  357                 22   \n",
            "3            2016-01-09           6                23113               2027   \n",
            "4            2016-01-09           7                23177               3231   \n",
            "\n",
            "   sales_lbs_value  \n",
            "0          18680.0  \n",
            "1          28646.0  \n",
            "2            440.0  \n",
            "3          81088.0  \n",
            "4          58164.0  \n"
          ]
        }
      ]
    },
    {
      "cell_type": "code",
      "source": [
        "sales_data_mfs=pd.merge(sales_data,productml_data,how='left',on='PRODUCT_ID')\n",
        "print(sales_data_mfs.head())"
      ],
      "metadata": {
        "colab": {
          "base_uri": "https://localhost:8080/"
        },
        "id": "OfeYTS9WU_jN",
        "outputId": "e26e1418-3efa-479b-bf39-b9c4f032df10"
      },
      "execution_count": 194,
      "outputs": [
        {
          "output_type": "stream",
          "name": "stdout",
          "text": [
            "  system_calendar_key_N  PRODUCT_ID  sales_dollars_value  sales_units_value  \\\n",
            "0            2016-01-09           1                13927                934   \n",
            "1            2016-01-09           3                10289               1592   \n",
            "2            2016-01-09           4                  357                 22   \n",
            "3            2016-01-09           6                23113               2027   \n",
            "4            2016-01-09           7                23177               3231   \n",
            "\n",
            "   sales_lbs_value  Vendor  \n",
            "0          18680.0  Others  \n",
            "1          28646.0  Others  \n",
            "2            440.0  Others  \n",
            "3          81088.0  Others  \n",
            "4          58164.0  Others  \n"
          ]
        }
      ]
    },
    {
      "cell_type": "code",
      "source": [
        "sales_data_mfs_thmp=pd.merge(sales_data_mfs,themep_data,how='left',on='PRODUCT_ID')\n",
        "print(sales_data_mfs_thmp.head())"
      ],
      "metadata": {
        "colab": {
          "base_uri": "https://localhost:8080/"
        },
        "id": "0jIlndjiVBSI",
        "outputId": "090f3514-80cb-43c8-dca2-71be3d9e7283"
      },
      "execution_count": 195,
      "outputs": [
        {
          "output_type": "stream",
          "name": "stdout",
          "text": [
            "  system_calendar_key_N  PRODUCT_ID  sales_dollars_value  sales_units_value  \\\n",
            "0            2016-01-09           1                13927                934   \n",
            "1            2016-01-09           3                10289               1592   \n",
            "2            2016-01-09           4                  357                 22   \n",
            "3            2016-01-09           6                23113               2027   \n",
            "4            2016-01-09           7                23177               3231   \n",
            "\n",
            "   sales_lbs_value  Vendor  CLAIM_ID  \n",
            "0          18680.0  Others         0  \n",
            "1          28646.0  Others         0  \n",
            "2            440.0  Others         0  \n",
            "3          81088.0  Others         0  \n",
            "4          58164.0  Others         0  \n"
          ]
        }
      ]
    },
    {
      "cell_type": "code",
      "source": [
        "print(sales_data_mfs_thmp.isna().sum())"
      ],
      "metadata": {
        "colab": {
          "base_uri": "https://localhost:8080/"
        },
        "id": "vHmiiPC7VC8c",
        "outputId": "722aeceb-52a2-4f29-8d37-6c2ac2752027"
      },
      "execution_count": 196,
      "outputs": [
        {
          "output_type": "stream",
          "name": "stdout",
          "text": [
            "system_calendar_key_N    0\n",
            "PRODUCT_ID               0\n",
            "sales_dollars_value      0\n",
            "sales_units_value        0\n",
            "sales_lbs_value          2\n",
            "Vendor                   0\n",
            "CLAIM_ID                 0\n",
            "dtype: int64\n"
          ]
        }
      ]
    },
    {
      "cell_type": "code",
      "source": [
        "print(sales_data_mfs_thmp['CLAIM_ID'].value_counts())"
      ],
      "metadata": {
        "colab": {
          "base_uri": "https://localhost:8080/"
        },
        "id": "swSV1ixzVEWg",
        "outputId": "5a414a5a-44dd-4ed8-f7f8-7552fbb400d1"
      },
      "execution_count": 197,
      "outputs": [
        {
          "output_type": "stream",
          "name": "stdout",
          "text": [
            "CLAIM_ID\n",
            "0      326945\n",
            "8      196032\n",
            "40     113677\n",
            "432     76563\n",
            "32      48630\n",
            "186     42291\n",
            "81      31245\n",
            "58      26366\n",
            "224     25172\n",
            "187     25172\n",
            "222     20698\n",
            "185     20698\n",
            "438     19828\n",
            "120     14282\n",
            "227     11387\n",
            "430      9203\n",
            "158      8429\n",
            "151      8249\n",
            "75       4637\n",
            "220      3579\n",
            "433      3380\n",
            "15       3212\n",
            "73       2769\n",
            "16       2444\n",
            "39       2440\n",
            "147      2030\n",
            "100      1852\n",
            "125      1550\n",
            "437      1486\n",
            "163      1440\n",
            "193      1207\n",
            "152      1008\n",
            "142       657\n",
            "145       652\n",
            "207       603\n",
            "287       568\n",
            "228       247\n",
            "171       114\n",
            "101        98\n",
            "192        89\n",
            "385        76\n",
            "178        64\n",
            "384        45\n",
            "393        30\n",
            "191        23\n",
            "38          3\n",
            "Name: count, dtype: int64\n"
          ]
        }
      ]
    },
    {
      "cell_type": "code",
      "source": [
        "print(google_search_data.head())"
      ],
      "metadata": {
        "colab": {
          "base_uri": "https://localhost:8080/"
        },
        "id": "1N2GK4JwVF00",
        "outputId": "c6c1fae7-4d2f-42e5-b09c-871e63dc4126"
      },
      "execution_count": 198,
      "outputs": [
        {
          "output_type": "stream",
          "name": "stdout",
          "text": [
            "        date platform  searchVolume  Claim_ID  week_number  year_new\n",
            "0 2014-01-01   google           889       922            1      2014\n",
            "1 2014-01-01   google           240       707            1      2014\n",
            "2 2014-01-01   google          1131       901            1      2014\n",
            "3 2014-01-01   google          1725       177            1      2014\n",
            "4 2014-01-01   google          2636       100            1      2014\n"
          ]
        }
      ]
    },
    {
      "cell_type": "code",
      "source": [
        "google_search_data.rename(columns={\"Claim_ID\":'CLAIM_ID'},inplace=True)\n",
        "print(google_search_data.head())"
      ],
      "metadata": {
        "colab": {
          "base_uri": "https://localhost:8080/"
        },
        "id": "vQhtdklkVKVh",
        "outputId": "39e0cba6-34ca-4e10-a3b0-38bad47cfef9"
      },
      "execution_count": 199,
      "outputs": [
        {
          "output_type": "stream",
          "name": "stdout",
          "text": [
            "        date platform  searchVolume  CLAIM_ID  week_number  year_new\n",
            "0 2014-01-01   google           889       922            1      2014\n",
            "1 2014-01-01   google           240       707            1      2014\n",
            "2 2014-01-01   google          1131       901            1      2014\n",
            "3 2014-01-01   google          1725       177            1      2014\n",
            "4 2014-01-01   google          2636       100            1      2014\n"
          ]
        }
      ]
    },
    {
      "cell_type": "code",
      "source": [
        "print(theme.head())"
      ],
      "metadata": {
        "colab": {
          "base_uri": "https://localhost:8080/"
        },
        "id": "23UDFeQXYa5J",
        "outputId": "d88b898b-9459-48bb-b680-12088c8f25c7"
      },
      "execution_count": 200,
      "outputs": [
        {
          "output_type": "stream",
          "name": "stdout",
          "text": [
            "   CLAIM_ID Claim Name\n",
            "0         0   No Claim\n",
            "1         8   low carb\n",
            "2        15      beans\n",
            "3        16      cocoa\n",
            "4        26    vanilla\n"
          ]
        }
      ]
    },
    {
      "cell_type": "code",
      "source": [
        "sales_data_mfs_thmp_names=pd.merge(sales_data_mfs_thmp,theme,how='left',on=\"CLAIM_ID\")\n",
        "print(sales_data_mfs_thmp_names.head())"
      ],
      "metadata": {
        "colab": {
          "base_uri": "https://localhost:8080/"
        },
        "id": "7_PKZAwwY2xe",
        "outputId": "2acd6bde-4b2b-4069-8de2-05dec4c70741"
      },
      "execution_count": 203,
      "outputs": [
        {
          "output_type": "stream",
          "name": "stdout",
          "text": [
            "  system_calendar_key_N  PRODUCT_ID  sales_dollars_value  sales_units_value  \\\n",
            "0            2016-01-09           1                13927                934   \n",
            "1            2016-01-09           3                10289               1592   \n",
            "2            2016-01-09           4                  357                 22   \n",
            "3            2016-01-09           6                23113               2027   \n",
            "4            2016-01-09           7                23177               3231   \n",
            "\n",
            "   sales_lbs_value  Vendor  CLAIM_ID Claim Name  \n",
            "0          18680.0  Others         0   No Claim  \n",
            "1          28646.0  Others         0   No Claim  \n",
            "2            440.0  Others         0   No Claim  \n",
            "3          81088.0  Others         0   No Claim  \n",
            "4          58164.0  Others         0   No Claim  \n"
          ]
        }
      ]
    },
    {
      "cell_type": "code",
      "source": [
        "print(sales_data_mfs_thmp_names.isna().sum())"
      ],
      "metadata": {
        "colab": {
          "base_uri": "https://localhost:8080/"
        },
        "id": "QaQWiSq7aqxJ",
        "outputId": "579a91b0-010b-4161-e070-9b70ea8212be"
      },
      "execution_count": 204,
      "outputs": [
        {
          "output_type": "stream",
          "name": "stdout",
          "text": [
            "system_calendar_key_N    0\n",
            "PRODUCT_ID               0\n",
            "sales_dollars_value      0\n",
            "sales_units_value        0\n",
            "sales_lbs_value          2\n",
            "Vendor                   0\n",
            "CLAIM_ID                 0\n",
            "Claim Name               0\n",
            "dtype: int64\n"
          ]
        }
      ]
    },
    {
      "cell_type": "code",
      "source": [
        "sales_data_mfs_thmp_names.dropna(inplace=True)\n",
        "print(sales_data_mfs_thmp_names.isna().sum())"
      ],
      "metadata": {
        "colab": {
          "base_uri": "https://localhost:8080/"
        },
        "id": "bmMZJXk0bMrA",
        "outputId": "304663ca-5179-4031-9e9d-cc478d9c5984"
      },
      "execution_count": 206,
      "outputs": [
        {
          "output_type": "stream",
          "name": "stdout",
          "text": [
            "system_calendar_key_N    0\n",
            "PRODUCT_ID               0\n",
            "sales_dollars_value      0\n",
            "sales_units_value        0\n",
            "sales_lbs_value          0\n",
            "Vendor                   0\n",
            "CLAIM_ID                 0\n",
            "Claim Name               0\n",
            "dtype: int64\n"
          ]
        }
      ]
    },
    {
      "cell_type": "code",
      "source": [
        "print(sales_data_mfs_thmp_names['Claim Name'].value_counts())"
      ],
      "metadata": {
        "colab": {
          "base_uri": "https://localhost:8080/"
        },
        "id": "SGwJ91L4ayEI",
        "outputId": "e27c5587-2eff-45b1-85a2-04acd60a3aec"
      },
      "execution_count": 205,
      "outputs": [
        {
          "output_type": "stream",
          "name": "stdout",
          "text": [
            "Claim Name\n",
            "No Claim                         326945\n",
            "low carb                         196032\n",
            "no additives/preservatives       113677\n",
            "apple cinnamon                    76563\n",
            "stroganoff                        48630\n",
            "pollock                           42291\n",
            "gmo free                          31245\n",
            "buckwheat                         26366\n",
            "american southwest style          25172\n",
            "blueberry                         25172\n",
            "pizza                             20698\n",
            "cookie                            20698\n",
            "ethnic & exotic                   19828\n",
            "crab                              14282\n",
            "salmon                            11387\n",
            "soy foods                          9203\n",
            "chicken                            8429\n",
            "low sodium                         8249\n",
            "french bisque                      4637\n",
            "herbs                              3579\n",
            "gingerbread                        3380\n",
            "beans                              3212\n",
            "brown ale                          2769\n",
            "cocoa                              2444\n",
            "high/source of protein             2440\n",
            "american gumbo                     2030\n",
            "low calorie                        1852\n",
            "nuts                               1550\n",
            "vegetarian                         1486\n",
            "ethical - packaging                1440\n",
            "poultry                            1207\n",
            "low sugar                          1008\n",
            "convenience - easy-to-prepare       657\n",
            "scallop                             652\n",
            "energy/alertness                    603\n",
            "tilapia                             568\n",
            "beef hamburger                      247\n",
            "cherry                              114\n",
            "peach                                98\n",
            "prebiotic                            89\n",
            "peanut                               76\n",
            "red raspberry                        64\n",
            "mackerel                             45\n",
            "sea salt                             30\n",
            "bone health                          23\n",
            "cumin                                 3\n",
            "Name: count, dtype: int64\n"
          ]
        }
      ]
    },
    {
      "cell_type": "code",
      "source": [
        "print(socialm_data.head())"
      ],
      "metadata": {
        "colab": {
          "base_uri": "https://localhost:8080/"
        },
        "id": "7dzSN1ZmYofv",
        "outputId": "656a41ef-b6e6-41dd-ab0b-f93d9d84a39e"
      },
      "execution_count": 202,
      "outputs": [
        {
          "output_type": "stream",
          "name": "stdout",
          "text": [
            "   Theme Id published_date  total_post\n",
            "0     148.0     2015-01-10          76\n",
            "1     148.0     2015-10-10          31\n",
            "2     148.0     2015-11-10          65\n",
            "3     148.0     2015-12-10          88\n",
            "4     148.0     2015-10-13          85\n"
          ]
        }
      ]
    },
    {
      "cell_type": "code",
      "source": [
        "print(type(sales_data_mfs_thmp_names))"
      ],
      "metadata": {
        "colab": {
          "base_uri": "https://localhost:8080/"
        },
        "id": "SJ3LRNxmcYBx",
        "outputId": "1e96260c-9eb8-470e-ac6f-2a1bfcd2edcc"
      },
      "execution_count": 210,
      "outputs": [
        {
          "output_type": "stream",
          "name": "stdout",
          "text": [
            "<class 'pandas.core.frame.DataFrame'>\n"
          ]
        }
      ]
    },
    {
      "cell_type": "code",
      "source": [
        "dataset=sales_data_mfs_thmp_names[((sales_data_mfs_thmp_names['Claim Name']=='No Claim')|\n",
        "                                  (sales_data_mfs_thmp_names['Claim Name']=='low carb')|\n",
        "                                  (sales_data_mfs_thmp_names['Claim Name']=='no additives/preservatives'))]"
      ],
      "metadata": {
        "id": "rneeMAdUYsev"
      },
      "execution_count": 234,
      "outputs": []
    },
    {
      "cell_type": "code",
      "source": [
        "print(dataset.head())\n",
        "print(dataset.isna().sum())"
      ],
      "metadata": {
        "colab": {
          "base_uri": "https://localhost:8080/"
        },
        "id": "RQS7TeJ5cmqI",
        "outputId": "33d23723-dd0b-48cb-e007-4600c1e186af"
      },
      "execution_count": 235,
      "outputs": [
        {
          "output_type": "stream",
          "name": "stdout",
          "text": [
            "  system_calendar_key_N  PRODUCT_ID  sales_dollars_value  sales_units_value  \\\n",
            "0            2016-01-09           1                13927                934   \n",
            "1            2016-01-09           3                10289               1592   \n",
            "2            2016-01-09           4                  357                 22   \n",
            "3            2016-01-09           6                23113               2027   \n",
            "4            2016-01-09           7                23177               3231   \n",
            "\n",
            "   sales_lbs_value  Vendor  CLAIM_ID Claim Name  \n",
            "0          18680.0  Others         0   No Claim  \n",
            "1          28646.0  Others         0   No Claim  \n",
            "2            440.0  Others         0   No Claim  \n",
            "3          81088.0  Others         0   No Claim  \n",
            "4          58164.0  Others         0   No Claim  \n",
            "system_calendar_key_N    0\n",
            "PRODUCT_ID               0\n",
            "sales_dollars_value      0\n",
            "sales_units_value        0\n",
            "sales_lbs_value          0\n",
            "Vendor                   0\n",
            "CLAIM_ID                 0\n",
            "Claim Name               0\n",
            "dtype: int64\n"
          ]
        }
      ]
    },
    {
      "cell_type": "code",
      "source": [
        "print(dataset.shape)"
      ],
      "metadata": {
        "colab": {
          "base_uri": "https://localhost:8080/"
        },
        "id": "8yw2jf7-cuqh",
        "outputId": "0032ec3c-6b49-4df0-f612-8c70bbb64ca0"
      },
      "execution_count": 236,
      "outputs": [
        {
          "output_type": "stream",
          "name": "stdout",
          "text": [
            "(636653, 8)\n"
          ]
        }
      ]
    },
    {
      "cell_type": "code",
      "source": [
        "print(dataset[\"Claim Name\"].value_counts())"
      ],
      "metadata": {
        "colab": {
          "base_uri": "https://localhost:8080/"
        },
        "id": "bjiq3ASmdMT7",
        "outputId": "9a823cf6-8e05-4f44-f8c5-cd2d6e0f96a6"
      },
      "execution_count": 237,
      "outputs": [
        {
          "output_type": "stream",
          "name": "stdout",
          "text": [
            "Claim Name\n",
            "No Claim                      326945\n",
            "low carb                      196031\n",
            "no additives/preservatives    113677\n",
            "Name: count, dtype: int64\n"
          ]
        }
      ]
    },
    {
      "cell_type": "code",
      "source": [
        "dataset=dataset[['PRODUCT_ID','sales_units_value','sales_lbs_value','Vendor','CLAIM_ID','sales_dollars_value']]\n",
        "print(dataset.info())"
      ],
      "metadata": {
        "colab": {
          "base_uri": "https://localhost:8080/"
        },
        "id": "KA1p65XFdenI",
        "outputId": "d6bc9bf4-4dea-4feb-e2e4-5f6cafdbeb39"
      },
      "execution_count": 238,
      "outputs": [
        {
          "output_type": "stream",
          "name": "stdout",
          "text": [
            "<class 'pandas.core.frame.DataFrame'>\n",
            "Index: 636653 entries, 0 to 1061166\n",
            "Data columns (total 6 columns):\n",
            " #   Column               Non-Null Count   Dtype  \n",
            "---  ------               --------------   -----  \n",
            " 0   PRODUCT_ID           636653 non-null  int64  \n",
            " 1   sales_units_value    636653 non-null  int64  \n",
            " 2   sales_lbs_value      636653 non-null  float64\n",
            " 3   Vendor               636653 non-null  object \n",
            " 4   CLAIM_ID             636653 non-null  int64  \n",
            " 5   sales_dollars_value  636653 non-null  int64  \n",
            "dtypes: float64(1), int64(4), object(1)\n",
            "memory usage: 34.0+ MB\n",
            "None\n"
          ]
        }
      ]
    },
    {
      "cell_type": "code",
      "source": [
        "print(dataset.isna().sum())"
      ],
      "metadata": {
        "colab": {
          "base_uri": "https://localhost:8080/"
        },
        "id": "VGa8KAOld8jy",
        "outputId": "224bf407-55cc-4f2a-ab14-d16c763439b0"
      },
      "execution_count": 239,
      "outputs": [
        {
          "output_type": "stream",
          "name": "stdout",
          "text": [
            "PRODUCT_ID             0\n",
            "sales_units_value      0\n",
            "sales_lbs_value        0\n",
            "Vendor                 0\n",
            "CLAIM_ID               0\n",
            "sales_dollars_value    0\n",
            "dtype: int64\n"
          ]
        }
      ]
    },
    {
      "cell_type": "code",
      "source": [
        "print(dataset.describe())"
      ],
      "metadata": {
        "colab": {
          "base_uri": "https://localhost:8080/"
        },
        "id": "t_zgaax4eLuG",
        "outputId": "827209e7-96fc-45b6-8639-d9836f162d37"
      },
      "execution_count": 240,
      "outputs": [
        {
          "output_type": "stream",
          "name": "stdout",
          "text": [
            "          PRODUCT_ID  sales_units_value  sales_lbs_value       CLAIM_ID  \\\n",
            "count  636653.000000      636653.000000     6.366530e+05  636653.000000   \n",
            "mean    28970.129281        5701.540191     1.764804e+04       9.605433   \n",
            "std     15126.637245       29550.308615     1.377327e+05      14.598928   \n",
            "min         1.000000           1.000000     0.000000e+00       0.000000   \n",
            "25%     15801.000000          91.000000     9.800000e+01       0.000000   \n",
            "50%     30273.000000         450.000000     6.810000e+02       0.000000   \n",
            "75%     41491.000000        1937.000000     4.163000e+03       8.000000   \n",
            "max     54869.000000      801113.000000     1.100310e+07      40.000000   \n",
            "\n",
            "       sales_dollars_value  \n",
            "count         6.366530e+05  \n",
            "mean          2.168734e+04  \n",
            "std           8.034314e+04  \n",
            "min           0.000000e+00  \n",
            "25%           5.370000e+02  \n",
            "50%           2.762000e+03  \n",
            "75%           1.253500e+04  \n",
            "max           4.395964e+06  \n"
          ]
        }
      ]
    },
    {
      "cell_type": "code",
      "source": [
        "print(dataset.describe().T)"
      ],
      "metadata": {
        "colab": {
          "base_uri": "https://localhost:8080/"
        },
        "id": "NIgV4nYZeWNm",
        "outputId": "df86bd0a-0435-4f83-d409-97e8bba14f52"
      },
      "execution_count": 241,
      "outputs": [
        {
          "output_type": "stream",
          "name": "stdout",
          "text": [
            "                        count          mean            std  min      25%  \\\n",
            "PRODUCT_ID           636653.0  28970.129281   15126.637245  1.0  15801.0   \n",
            "sales_units_value    636653.0   5701.540191   29550.308615  1.0     91.0   \n",
            "sales_lbs_value      636653.0  17648.038038  137732.682840  0.0     98.0   \n",
            "CLAIM_ID             636653.0      9.605433      14.598928  0.0      0.0   \n",
            "sales_dollars_value  636653.0  21687.344319   80343.143872  0.0    537.0   \n",
            "\n",
            "                         50%      75%         max  \n",
            "PRODUCT_ID           30273.0  41491.0     54869.0  \n",
            "sales_units_value      450.0   1937.0    801113.0  \n",
            "sales_lbs_value        681.0   4163.0  11003100.0  \n",
            "CLAIM_ID                 0.0      8.0        40.0  \n",
            "sales_dollars_value   2762.0  12535.0   4395964.0  \n"
          ]
        }
      ]
    },
    {
      "cell_type": "code",
      "source": [
        "sns.pairplot(dataset)"
      ],
      "metadata": {
        "colab": {
          "base_uri": "https://localhost:8080/",
          "height": 1000
        },
        "id": "Awhfoyf8eZkj",
        "outputId": "1728d5c6-ccea-440f-bff3-2c36cfecac6e"
      },
      "execution_count": 243,
      "outputs": [
        {
          "data": {
            "text/plain": [
              "<seaborn.axisgrid.PairGrid at 0x780306ec22c0>"
            ]
          },
          "execution_count": 243,
          "metadata": {},
          "output_type": "execute_result"
        },
        {
          "output_type": "display_data",
          "data": {
            "text/plain": [
              "<Figure size 1250x1250 with 30 Axes>"
            ],
            "image/png": "[encoded data removed]"
          },
          "metadata": {}
        }
      ]
    },
    {
      "cell_type": "code",
      "source": [
        "plt.scatter(dataset[\"sales_units_value\"],dataset[\"sales_lbs_value\"])"
      ],
      "metadata": {
        "colab": {
          "base_uri": "https://localhost:8080/",
          "height": 462
        },
        "id": "r6nJDezghJIN",
        "outputId": "f86a0851-083b-49e9-befd-f0fbf20dfcae"
      },
      "execution_count": 244,
      "outputs": [
        {
          "output_type": "execute_result",
          "data": {
            "text/plain": [
              "<matplotlib.collections.PathCollection at 0x7802b8616200>"
            ]
          },
          "metadata": {},
          "execution_count": 244
        },
        {
          "output_type": "display_data",
          "data": {
            "text/plain": [
              "<Figure size 640x480 with 1 Axes>"
            ],
            "image/png": "[encoded data removed]"
          },
          "metadata": {}
        }
      ]
    },
    {
      "cell_type": "code",
      "source": [
        "categorical=[i for i in dataset.columns if i not in dataset.describe()]\n",
        "print(categorical)"
      ],
      "metadata": {
        "colab": {
          "base_uri": "https://localhost:8080/"
        },
        "id": "6LJcgsiRiKf7",
        "outputId": "02c16e92-11f4-46f2-a3be-a53e4a19c5ab"
      },
      "execution_count": 250,
      "outputs": [
        {
          "output_type": "stream",
          "name": "stdout",
          "text": [
            "['Vendor']\n"
          ]
        }
      ]
    },
    {
      "cell_type": "code",
      "source": [
        "from sklearn.preprocessing import LabelEncoder\n",
        "le=LabelEncoder()\n",
        "dataset.loc[:,'Vendor']=le.fit_transform(dataset.loc[:,'Vendor'])\n",
        "print(dataset.head())"
      ],
      "metadata": {
        "colab": {
          "base_uri": "https://localhost:8080/"
        },
        "id": "Zkx0PaxpjQdX",
        "outputId": "cce5d316-c381-40b7-9b3b-b4f0da55f758"
      },
      "execution_count": 253,
      "outputs": [
        {
          "output_type": "stream",
          "name": "stdout",
          "text": [
            "   PRODUCT_ID  sales_units_value  sales_lbs_value Vendor  CLAIM_ID  \\\n",
            "0           1                934          18680.0      7         0   \n",
            "1           3               1592          28646.0      7         0   \n",
            "2           4                 22            440.0      7         0   \n",
            "3           6               2027          81088.0      7         0   \n",
            "4           7               3231          58164.0      7         0   \n",
            "\n",
            "   sales_dollars_value  \n",
            "0                13927  \n",
            "1                10289  \n",
            "2                  357  \n",
            "3                23113  \n",
            "4                23177  \n"
          ]
        }
      ]
    },
    {
      "cell_type": "code",
      "source": [
        "print(dataset['Vendor'].unique())"
      ],
      "metadata": {
        "colab": {
          "base_uri": "https://localhost:8080/"
        },
        "id": "nikaAbYtkAU4",
        "outputId": "bfeeec4b-48a0-436b-9601-5c1dc29f5193"
      },
      "execution_count": 255,
      "outputs": [
        {
          "output_type": "stream",
          "name": "stdout",
          "text": [
            "[7 0 8 1 3 2 4 5 6]\n"
          ]
        }
      ]
    },
    {
      "cell_type": "code",
      "source": [
        "print(dataset['Vendor'].value_counts())"
      ],
      "metadata": {
        "colab": {
          "base_uri": "https://localhost:8080/"
        },
        "id": "THvpPweyj6p2",
        "outputId": "2cbf50b8-1ae9-459e-b890-aaa1aaeb0565"
      },
      "execution_count": 254,
      "outputs": [
        {
          "output_type": "stream",
          "name": "stdout",
          "text": [
            "Vendor\n",
            "7    303890\n",
            "8    123469\n",
            "0     70998\n",
            "1     45975\n",
            "2     37726\n",
            "4     35307\n",
            "6     12174\n",
            "3      3732\n",
            "5      3382\n",
            "Name: count, dtype: int64\n"
          ]
        }
      ]
    },
    {
      "cell_type": "code",
      "source": [
        "x=dataset.iloc[:,:-1].values\n",
        "y=dataset.iloc[:,-1].values"
      ],
      "metadata": {
        "id": "2SqJHlqXkFrH"
      },
      "execution_count": 256,
      "outputs": []
    },
    {
      "cell_type": "code",
      "source": [
        "print(x[:5,:])"
      ],
      "metadata": {
        "colab": {
          "base_uri": "https://localhost:8080/"
        },
        "id": "x5QQJ94ZkasB",
        "outputId": "7901df10-1b73-4aeb-d6de-4fe9b7ef904c"
      },
      "execution_count": 258,
      "outputs": [
        {
          "output_type": "stream",
          "name": "stdout",
          "text": [
            "[[1 934 18680.0 7 0]\n",
            " [3 1592 28646.0 7 0]\n",
            " [4 22 440.0 7 0]\n",
            " [6 2027 81088.0 7 0]\n",
            " [7 3231 58164.0 7 0]]\n"
          ]
        }
      ]
    },
    {
      "cell_type": "code",
      "source": [
        "print(y[:5])"
      ],
      "metadata": {
        "colab": {
          "base_uri": "https://localhost:8080/"
        },
        "id": "3A5hMnWPkfhQ",
        "outputId": "c9d5720d-1cbb-4483-fd7d-2f3aa8d5d819"
      },
      "execution_count": 260,
      "outputs": [
        {
          "output_type": "stream",
          "name": "stdout",
          "text": [
            "[13927 10289   357 23113 23177]\n"
          ]
        }
      ]
    },
    {
      "cell_type": "code",
      "source": [
        "from sklearn.model_selection import train_test_split\n",
        "x_train,x_test,y_train,y_test=train_test_split(x,y,test_size=0.2,random_state=0)\n",
        "print(x_train)\n",
        "print(x_train.shape)"
      ],
      "metadata": {
        "colab": {
          "base_uri": "https://localhost:8080/"
        },
        "id": "CcPXnBF3ku96",
        "outputId": "e072abe3-675f-456d-a8ec-7952d227a993"
      },
      "execution_count": 262,
      "outputs": [
        {
          "output_type": "stream",
          "name": "stdout",
          "text": [
            "[[5178 3 29.0 1 0]\n",
            " [45636 617 1003.0 8 0]\n",
            " [14039 589911 202781.0 0 0]\n",
            " ...\n",
            " [22323 721 3604.0 7 8]\n",
            " [35424 360 1836.0 7 8]\n",
            " [30861 2182 1636.0 1 0]]\n",
            "(509322, 5)\n"
          ]
        }
      ]
    },
    {
      "cell_type": "code",
      "source": [
        "print(x_test)\n",
        "print(x_test.shape)"
      ],
      "metadata": {
        "colab": {
          "base_uri": "https://localhost:8080/"
        },
        "id": "4lBUWISglNZl",
        "outputId": "7ddd9795-88dd-437d-91a4-b0958debdad4"
      },
      "execution_count": 263,
      "outputs": [
        {
          "output_type": "stream",
          "name": "stdout",
          "text": [
            "[[22545 811 40561.0 7 0]\n",
            " [35026 6 1.0 7 0]\n",
            " [39943 601 2402.0 7 8]\n",
            " ...\n",
            " [32314 3 2.0 7 0]\n",
            " [41178 1360 14960.0 4 8]\n",
            " [33164 3083 2698.0 2 8]]\n",
            "(127331, 5)\n"
          ]
        }
      ]
    },
    {
      "cell_type": "code",
      "source": [
        "print(y_train)\n",
        "print(y_train.shape)"
      ],
      "metadata": {
        "colab": {
          "base_uri": "https://localhost:8080/"
        },
        "id": "vNqZAm2UlW1s",
        "outputId": "aa5844d5-83fe-4619-d0f2-94a07a2cf8d1"
      },
      "execution_count": 264,
      "outputs": [
        {
          "output_type": "stream",
          "name": "stdout",
          "text": [
            "[    59   1078 299255 ...  36869  12223  21295]\n",
            "(509322,)\n"
          ]
        }
      ]
    },
    {
      "cell_type": "code",
      "source": [
        "print(y_test)\n",
        "print(y_test.shape)"
      ],
      "metadata": {
        "colab": {
          "base_uri": "https://localhost:8080/"
        },
        "id": "Nw3yG9HJlWij",
        "outputId": "f228bec5-e89e-47b4-e2cd-e7fc7c2a9c96"
      },
      "execution_count": 265,
      "outputs": [
        {
          "output_type": "stream",
          "name": "stdout",
          "text": [
            "[22314    10 16951 ...    13 45984 22946]\n",
            "(127331,)\n"
          ]
        }
      ]
    },
    {
      "cell_type": "code",
      "source": [
        "from sklearn.linear_model import LinearRegression\n",
        "lr=LinearRegression()\n",
        "lr.fit(x_train,y_train)"
      ],
      "metadata": {
        "colab": {
          "base_uri": "https://localhost:8080/",
          "height": 74
        },
        "id": "cOQ8axColeE7",
        "outputId": "04a55dfe-f3eb-4d38-e3f6-6accfbf40c0e"
      },
      "execution_count": 266,
      "outputs": [
        {
          "output_type": "execute_result",
          "data": {
            "text/plain": [
              "LinearRegression()"
            ],
            "text/html": [
              "<style>#sk-container-id-1 {color: black;}#sk-container-id-1 pre{padding: 0;}#sk-container-id-1 div.sk-toggleable {background-color: white;}#sk-container-id-1 label.sk-toggleable__label {cursor: pointer;display: block;width: 100%;margin-bottom: 0;padding: 0.3em;box-sizing: border-box;text-align: center;}#sk-container-id-1 label.sk-toggleable__label-arrow:before {content: \"▸\";float: left;margin-right: 0.25em;color: #696969;}#sk-container-id-1 label.sk-toggleable__label-arrow:hover:before {color: black;}#sk-container-id-1 div.sk-estimator:hover label.sk-toggleable__label-arrow:before {color: black;}#sk-container-id-1 div.sk-toggleable__content {max-height: 0;max-width: 0;overflow: hidden;text-align: left;background-color: #f0f8ff;}#sk-container-id-1 div.sk-toggleable__content pre {margin: 0.2em;color: black;border-radius: 0.25em;background-color: #f0f8ff;}#sk-container-id-1 input.sk-toggleable__control:checked~div.sk-toggleable__content {max-height: 200px;max-width: 100%;overflow: auto;}#sk-container-id-1 input.sk-toggleable__control:checked~label.sk-toggleable__label-arrow:before {content: \"▾\";}#sk-container-id-1 div.sk-estimator input.sk-toggleable__control:checked~label.sk-toggleable__label {background-color: #d4ebff;}#sk-container-id-1 div.sk-label input.sk-toggleable__control:checked~label.sk-toggleable__label {background-color: #d4ebff;}#sk-container-id-1 input.sk-hidden--visually {border: 0;clip: rect(1px 1px 1px 1px);clip: rect(1px, 1px, 1px, 1px);height: 1px;margin: -1px;overflow: hidden;padding: 0;position: absolute;width: 1px;}#sk-container-id-1 div.sk-estimator {font-family: monospace;background-color: #f0f8ff;border: 1px dotted black;border-radius: 0.25em;box-sizing: border-box;margin-bottom: 0.5em;}#sk-container-id-1 div.sk-estimator:hover {background-color: #d4ebff;}#sk-container-id-1 div.sk-parallel-item::after {content: \"\";width: 100%;border-bottom: 1px solid gray;flex-grow: 1;}#sk-container-id-1 div.sk-label:hover label.sk-toggleable__label {background-color: #d4ebff;}#sk-container-id-1 div.sk-serial::before {content: \"\";position: absolute;border-left: 1px solid gray;box-sizing: border-box;top: 0;bottom: 0;left: 50%;z-index: 0;}#sk-container-id-1 div.sk-serial {display: flex;flex-direction: column;align-items: center;background-color: white;padding-right: 0.2em;padding-left: 0.2em;position: relative;}#sk-container-id-1 div.sk-item {position: relative;z-index: 1;}#sk-container-id-1 div.sk-parallel {display: flex;align-items: stretch;justify-content: center;background-color: white;position: relative;}#sk-container-id-1 div.sk-item::before, #sk-container-id-1 div.sk-parallel-item::before {content: \"\";position: absolute;border-left: 1px solid gray;box-sizing: border-box;top: 0;bottom: 0;left: 50%;z-index: -1;}#sk-container-id-1 div.sk-parallel-item {display: flex;flex-direction: column;z-index: 1;position: relative;background-color: white;}#sk-container-id-1 div.sk-parallel-item:first-child::after {align-self: flex-end;width: 50%;}#sk-container-id-1 div.sk-parallel-item:last-child::after {align-self: flex-start;width: 50%;}#sk-container-id-1 div.sk-parallel-item:only-child::after {width: 0;}#sk-container-id-1 div.sk-dashed-wrapped {border: 1px dashed gray;margin: 0 0.4em 0.5em 0.4em;box-sizing: border-box;padding-bottom: 0.4em;background-color: white;}#sk-container-id-1 div.sk-label label {font-family: monospace;font-weight: bold;display: inline-block;line-height: 1.2em;}#sk-container-id-1 div.sk-label-container {text-align: center;}#sk-container-id-1 div.sk-container {/* jupyter's `normalize.less` sets `[hidden] { display: none; }` but bootstrap.min.css set `[hidden] { display: none !important; }` so we also need the `!important` here to be able to override the default hidden behavior on the sphinx rendered scikit-learn.org. See: https://github.com/scikit-learn/scikit-learn/issues/21755 */display: inline-block !important;position: relative;}#sk-container-id-1 div.sk-text-repr-fallback {display: none;}</style><div id=\"sk-container-id-1\" class=\"sk-top-container\"><div class=\"sk-text-repr-fallback\"><pre>LinearRegression()</pre><b>In a Jupyter environment, please rerun this cell to show the HTML representation or trust the notebook. <br />On GitHub, the HTML representation is unable to render, please try loading this page with nbviewer.org.</b></div><div class=\"sk-container\" hidden><div class=\"sk-item\"><div class=\"sk-estimator sk-toggleable\"><input class=\"sk-toggleable__control sk-hidden--visually\" id=\"sk-estimator-id-1\" type=\"checkbox\" checked><label for=\"sk-estimator-id-1\" class=\"sk-toggleable__label sk-toggleable__label-arrow\">LinearRegression</label><div class=\"sk-toggleable__content\"><pre>LinearRegression()</pre></div></div></div></div></div>"
            ]
          },
          "metadata": {},
          "execution_count": 266
        }
      ]
    },
    {
      "cell_type": "code",
      "source": [
        "y_pred=lr.predict(x_test)"
      ],
      "metadata": {
        "id": "q-tT2Eszlpph"
      },
      "execution_count": 267,
      "outputs": []
    },
    {
      "cell_type": "markdown",
      "source": [
        "# **Performance of the model...**"
      ],
      "metadata": {
        "id": "B7E8x2dkntdL"
      }
    },
    {
      "cell_type": "code",
      "source": [
        "from sklearn.metrics import r2_score,mean_squared_error,mean_absolute_error\n",
        "print(\"R square : \",r2_score(y_test,y_pred))\n",
        "print(\"Mean Squared error : \",mean_squared_error(y_test,y_pred))\n",
        "print(\"Root mean square error: \",np.sqrt(mean_squared_error(y_test,y_pred)))\n",
        "print(\"Mean absolute error: \",mean_absolute_error(y_test,y_pred))"
      ],
      "metadata": {
        "colab": {
          "base_uri": "https://localhost:8080/"
        },
        "id": "Q2ksTCivluGs",
        "outputId": "39e209a4-dafc-4f5a-faa1-e537294be87d"
      },
      "execution_count": 274,
      "outputs": [
        {
          "output_type": "stream",
          "name": "stdout",
          "text": [
            "R square :  0.7785919855556234\n",
            "Mean Squared error :  1434101146.0607257\n",
            "Root mean square error:  37869.527935541075\n",
            "Mean absolute error:  14862.74428471598\n"
          ]
        }
      ]
    },
    {
      "cell_type": "markdown",
      "source": [
        "# **Total** **Error**"
      ],
      "metadata": {
        "id": "XgQQ56EFnBhI"
      }
    },
    {
      "cell_type": "code",
      "source": [
        "print(abs(y_test-y_pred).sum())"
      ],
      "metadata": {
        "colab": {
          "base_uri": "https://localhost:8080/"
        },
        "id": "iaLQKwaUnBUD",
        "outputId": "f9e578ec-dc3f-426d-d927-a35182fdeb98"
      },
      "execution_count": 279,
      "outputs": [
        {
          "output_type": "stream",
          "name": "stdout",
          "text": [
            "1892488092.5171704\n"
          ]
        }
      ]
    },
    {
      "cell_type": "markdown",
      "source": [
        "# **Applying different Regression model**"
      ],
      "metadata": {
        "id": "BAtlKjHKn3q-"
      }
    },
    {
      "cell_type": "code",
      "source": [
        "from sklearn.linear_model import Ridge\n",
        "ridg=Ridge()\n",
        "ridg.fit(x_train,y_train)\n",
        "y_pred=ridg.predict(x_test)\n",
        "print(sum(abs(y_test-y_pred)))"
      ],
      "metadata": {
        "colab": {
          "base_uri": "https://localhost:8080/"
        },
        "id": "gmj7trUwnaL7",
        "outputId": "918c8eb6-8bf7-4083-a0ba-f94e7908bfab"
      },
      "execution_count": 286,
      "outputs": [
        {
          "output_type": "stream",
          "name": "stdout",
          "text": [
            "1892488096.555829\n"
          ]
        }
      ]
    },
    {
      "cell_type": "code",
      "source": [
        "from sklearn.linear_model import Lasso\n",
        "lso=Lasso()\n",
        "lso.fit(x_train,y_train)\n",
        "y_pred=lso.predict(x_test)\n",
        "print(sum(abs(y_test-y_pred)))"
      ],
      "metadata": {
        "colab": {
          "base_uri": "https://localhost:8080/"
        },
        "id": "wXD7d8HtsWBN",
        "outputId": "6e79882e-b2a7-41fe-9ef8-a6eed7514aa7"
      },
      "execution_count": 287,
      "outputs": [
        {
          "output_type": "stream",
          "name": "stdout",
          "text": [
            "1892488994.1984925\n"
          ]
        }
      ]
    },
    {
      "cell_type": "code",
      "source": [
        "validate=[]\n",
        "for i in [LinearRegression,Ridge,Lasso]:\n",
        "  le=i()\n",
        "  le.fit(x_train,y_train)\n",
        "  y_pred=le.predict(x_test)\n",
        "  from sklearn.metrics import r2_score,mean_squared_error,mean_absolute_error\n",
        "  a=r2_score(y_test,y_pred)\n",
        "  b=mean_squared_error(y_test,y_pred)\n",
        "  c=np.sqrt(mean_squared_error(y_test,y_pred))\n",
        "  d=mean_absolute_error(y_test,y_pred)\n",
        "  validate.append([i,a,b,c,d])"
      ],
      "metadata": {
        "id": "ZQKGH7tZsnER"
      },
      "execution_count": 293,
      "outputs": []
    },
    {
      "cell_type": "code",
      "source": [
        "data=pd.DataFrame(validate,columns=[\"Model name\",\"R Square\",\"MSE\",\"SMSE\",\"MAE\"])\n",
        "print(data)"
      ],
      "metadata": {
        "colab": {
          "base_uri": "https://localhost:8080/"
        },
        "id": "t-lfGeCXtxqD",
        "outputId": "94a0ffa3-2d09-4219-c4a8-af4d7e5ee4c5"
      },
      "execution_count": 294,
      "outputs": [
        {
          "output_type": "stream",
          "name": "stdout",
          "text": [
            "                                          Model name  R Square           MSE  \\\n",
            "0  <class 'sklearn.linear_model._base.LinearRegre...  0.778592  1.434101e+09   \n",
            "1        <class 'sklearn.linear_model._ridge.Ridge'>  0.778592  1.434101e+09   \n",
            "2  <class 'sklearn.linear_model._coordinate_desce...  0.778592  1.434101e+09   \n",
            "\n",
            "           SMSE           MAE  \n",
            "0  37869.527936  14862.744285  \n",
            "1  37869.527930  14862.744316  \n",
            "2  37869.526911  14862.751366  \n"
          ]
        }
      ]
    },
    {
      "cell_type": "code",
      "source": [
        "print(data.T)"
      ],
      "metadata": {
        "colab": {
          "base_uri": "https://localhost:8080/"
        },
        "id": "Alruiuh0vYcF",
        "outputId": "32715b4d-a536-423e-d064-2caa0ee68627"
      },
      "execution_count": 295,
      "outputs": [
        {
          "output_type": "stream",
          "name": "stdout",
          "text": [
            "                                                            0  \\\n",
            "Model name  <class 'sklearn.linear_model._base.LinearRegre...   \n",
            "R Square                                             0.778592   \n",
            "MSE                                         1434101146.060726   \n",
            "SMSE                                             37869.527936   \n",
            "MAE                                              14862.744285   \n",
            "\n",
            "                                                      1  \\\n",
            "Model name  <class 'sklearn.linear_model._ridge.Ridge'>   \n",
            "R Square                                       0.778592   \n",
            "MSE                                   1434101145.649601   \n",
            "SMSE                                        37869.52793   \n",
            "MAE                                        14862.744316   \n",
            "\n",
            "                                                            2  \n",
            "Model name  <class 'sklearn.linear_model._coordinate_desce...  \n",
            "R Square                                             0.778592  \n",
            "MSE                                         1434101068.462242  \n",
            "SMSE                                             37869.526911  \n",
            "MAE                                              14862.751366  \n"
          ]
        }
      ]
    },
    {
      "cell_type": "code",
      "source": [
        "from sklearn.tree import DecisionTreeRegressor\n",
        "from sklearn.ensemble import RandomForestRegressor"
      ],
      "metadata": {
        "id": "QbjPOTJ2vfwI"
      },
      "execution_count": 304,
      "outputs": []
    },
    {
      "cell_type": "code",
      "source": [
        "def regression_models(x):\n",
        "  validate=[]\n",
        "  if(x=='train'):\n",
        "    for i in [LinearRegression,Ridge,Lasso,RandomForestRegressor,DecisionTreeRegressor]:\n",
        "      le=i()\n",
        "      le.fit(x_train,y_train)\n",
        "      y_pred=le.predict(x_train)\n",
        "      a=r2_score(y_train,y_pred)\n",
        "      b=mean_squared_error(y_train,y_pred)\n",
        "      c=np.sqrt(mean_squared_error(y_train,y_pred))\n",
        "      d=mean_absolute_error(y_train,y_pred)\n",
        "      validate.append([i,a,b,c,d])\n",
        "    data=pd.DataFrame(validate,columns=['Model_name',\"R Squared\",\"MSE\",\"RMQE\",\"MAE\"])\n",
        "    return data\n",
        "  else:\n",
        "    for i in [LinearRegression,Ridge,Lasso,RandomForestRegressor,DecisionTreeRegressor]:\n",
        "      le=i()\n",
        "      le.fit(x_train,y_train)\n",
        "      y_pred=le.predict(x_test)\n",
        "      a=r2_score(y_test,y_pred)\n",
        "      b=mean_squared_error(y_test,y_pred)\n",
        "      c=np.sqrt(mean_squared_error(y_test,y_pred))\n",
        "      d=mean_absolute_error(y_test,y_pred)\n",
        "      validate.append([i,a,b,c,d])\n",
        "    data=pd.DataFrame(validate,columns=['Model_name',\"R Squared\",\"MSE\",\"RMQE\",\"MAE\"])\n",
        "    return data"
      ],
      "metadata": {
        "id": "ZrX-rtGbw3ex"
      },
      "execution_count": 315,
      "outputs": []
    },
    {
      "cell_type": "code",
      "source": [
        "pd.options.display.float_format='{:0.2f}'.format"
      ],
      "metadata": {
        "id": "Trnzspbe1fgg"
      },
      "execution_count": 317,
      "outputs": []
    },
    {
      "cell_type": "code",
      "source": [
        "print(regression_models('train'))"
      ],
      "metadata": {
        "colab": {
          "base_uri": "https://localhost:8080/"
        },
        "id": "X3o5uMAcyRFh",
        "outputId": "a6474a95-77ab-4a11-fabd-2feaedda7961"
      },
      "execution_count": 318,
      "outputs": [
        {
          "output_type": "stream",
          "name": "stdout",
          "text": [
            "                                          Model_name  R Squared           MSE  \\\n",
            "0  <class 'sklearn.linear_model._base.LinearRegre...       0.77 1473073526.57   \n",
            "1        <class 'sklearn.linear_model._ridge.Ridge'>       0.77 1473073526.57   \n",
            "2  <class 'sklearn.linear_model._coordinate_desce...       0.77 1473073526.76   \n",
            "3  <class 'sklearn.ensemble._forest.RandomForestR...       1.00    3164689.64   \n",
            "4  <class 'sklearn.tree._classes.DecisionTreeRegr...       1.00       4329.85   \n",
            "\n",
            "      RMQE      MAE  \n",
            "0 38380.64 14977.34  \n",
            "1 38380.64 14977.34  \n",
            "2 38380.64 14977.35  \n",
            "3  1778.96   354.10  \n",
            "4    65.80     5.55  \n"
          ]
        }
      ]
    },
    {
      "cell_type": "code",
      "source": [
        "print(regression_models('test'))"
      ],
      "metadata": {
        "colab": {
          "base_uri": "https://localhost:8080/"
        },
        "id": "CuN_35fD0Ovh",
        "outputId": "699541e8-eb71-4a31-9c6d-05ea0ac38edb"
      },
      "execution_count": 319,
      "outputs": [
        {
          "output_type": "stream",
          "name": "stdout",
          "text": [
            "                                          Model_name  R Squared           MSE  \\\n",
            "0  <class 'sklearn.linear_model._base.LinearRegre...       0.78 1434101146.06   \n",
            "1        <class 'sklearn.linear_model._ridge.Ridge'>       0.78 1434101145.65   \n",
            "2  <class 'sklearn.linear_model._coordinate_desce...       0.78 1434101068.46   \n",
            "3  <class 'sklearn.ensemble._forest.RandomForestR...       0.99   36809769.66   \n",
            "4  <class 'sklearn.tree._classes.DecisionTreeRegr...       0.99   55404291.90   \n",
            "\n",
            "      RMQE      MAE  \n",
            "0 37869.53 14862.74  \n",
            "1 37869.53 14862.74  \n",
            "2 37869.53 14862.75  \n",
            "3  6067.11   956.14  \n",
            "4  7443.41   969.68  \n"
          ]
        }
      ]
    },
    {
      "cell_type": "markdown",
      "source": [
        "# **Bar plot between different features and their respective coefficients.**"
      ],
      "metadata": {
        "id": "K0qPuCZ62RsI"
      }
    },
    {
      "cell_type": "code",
      "source": [
        "from sklearn.linear_model import LinearRegression\n",
        "lr=LinearRegression()\n",
        "lr.fit(x_train,y_train)\n",
        "y_pred=lr.predict(x_test)\n",
        "print(r2_score(y_test,y_pred))\n",
        "\n",
        "datas=pd.DataFrame()\n",
        "datas['Columns']=dataset.columns\n",
        "datas['Coefficents']=pd.Series(lr.coef_)\n",
        "print(datas.head())"
      ],
      "metadata": {
        "colab": {
          "base_uri": "https://localhost:8080/"
        },
        "id": "MStgGwmH0XYD",
        "outputId": "266795b4-14a2-4c0c-a19b-7fa7509790fb"
      },
      "execution_count": 330,
      "outputs": [
        {
          "output_type": "stream",
          "name": "stdout",
          "text": [
            "0.7785919855556234\n",
            "             Columns  Coefficents\n",
            "0         PRODUCT_ID        -0.02\n",
            "1  sales_units_value         0.52\n",
            "2    sales_lbs_value         0.47\n",
            "3             Vendor     -2728.30\n",
            "4           CLAIM_ID        89.36\n"
          ]
        }
      ]
    },
    {
      "cell_type": "code",
      "source": [
        "plt.figure(figsize=(10,4))\n",
        "plt.bar(datas['Columns'],datas['Coefficents'])"
      ],
      "metadata": {
        "colab": {
          "base_uri": "https://localhost:8080/",
          "height": 385
        },
        "id": "JyokbVeV5XEc",
        "outputId": "71529359-12f3-4e68-d66d-4aa4f7334c8f"
      },
      "execution_count": 337,
      "outputs": [
        {
          "output_type": "execute_result",
          "data": {
            "text/plain": [
              "<BarContainer object of 6 artists>"
            ]
          },
          "metadata": {},
          "execution_count": 337
        },
        {
          "output_type": "display_data",
          "data": {
            "text/plain": [
              "<Figure size 1000x400 with 1 Axes>"
            ],
            "image/png": "[encoded data removed]"
          },
          "metadata": {}
        }
      ]
    },
    {
      "cell_type": "code",
      "source": [
        "from sklearn.linear_model import Ridge\n",
        "lr=Ridge(alpha=5)\n",
        "lr.fit(x_train,y_train)\n",
        "y_pred=lr.predict(x_test)\n",
        "print(r2_score(y_test,y_pred))\n",
        "\n",
        "data=pd.DataFrame()\n",
        "data[\"Columns\"]=dataset.columns\n",
        "data[\"coefficent\"]=pd.Series(lr.coef_)\n",
        "print(data.head())"
      ],
      "metadata": {
        "colab": {
          "base_uri": "https://localhost:8080/"
        },
        "id": "rVqs8dsg52Wo",
        "outputId": "23aeff1d-541b-4d07-a573-9fabe1907691"
      },
      "execution_count": 342,
      "outputs": [
        {
          "output_type": "stream",
          "name": "stdout",
          "text": [
            "0.7785919858729695\n",
            "             Columns  coefficent\n",
            "0         PRODUCT_ID       -0.02\n",
            "1  sales_units_value        0.52\n",
            "2    sales_lbs_value        0.47\n",
            "3             Vendor    -2728.30\n",
            "4           CLAIM_ID       89.36\n"
          ]
        }
      ]
    },
    {
      "cell_type": "code",
      "source": [
        "plt.figure(figsize=(10,4))\n",
        "plt.bar(data[\"Columns\"],data[\"coefficent\"])\n",
        "plt.show()"
      ],
      "metadata": {
        "colab": {
          "base_uri": "https://localhost:8080/",
          "height": 368
        },
        "id": "UrsYzKtj60wS",
        "outputId": "c4f51216-50c0-4255-87da-4411a9afc808"
      },
      "execution_count": 343,
      "outputs": [
        {
          "output_type": "display_data",
          "data": {
            "text/plain": [
              "<Figure size 1000x400 with 1 Axes>"
            ],
            "image/png": "[encoded data removed]"
          },
          "metadata": {}
        }
      ]
    },
    {
      "cell_type": "code",
      "source": [
        "from sklearn.linear_model import Lasso\n",
        "lr=Lasso(alpha=5)\n",
        "lr.fit(x_train,y_train)\n",
        "y_pred=lr.predict(x_test)\n",
        "print(r2_score(y_test,y_pred))\n",
        "\n",
        "data=pd.DataFrame()\n",
        "data[\"Columns\"]=dataset.columns\n",
        "data[\"coefficent\"]=pd.Series(lr.coef_)\n",
        "print(data.head())"
      ],
      "metadata": {
        "colab": {
          "base_uri": "https://localhost:8080/"
        },
        "id": "i_2Av6Mx7B3J",
        "outputId": "dcb5a9cc-86af-4857-802e-0fb490e2c78c"
      },
      "execution_count": 344,
      "outputs": [
        {
          "output_type": "stream",
          "name": "stdout",
          "text": [
            "0.7785920448820444\n",
            "             Columns  coefficent\n",
            "0         PRODUCT_ID       -0.02\n",
            "1  sales_units_value        0.52\n",
            "2    sales_lbs_value        0.47\n",
            "3             Vendor    -2727.39\n",
            "4           CLAIM_ID       89.34\n"
          ]
        }
      ]
    },
    {
      "cell_type": "code",
      "source": [
        "plt.figure(figsize=(10,4))\n",
        "plt.bar(data[\"Columns\"],data[\"coefficent\"])\n",
        "plt.show()"
      ],
      "metadata": {
        "colab": {
          "base_uri": "https://localhost:8080/",
          "height": 368
        },
        "id": "zBXI_l7H7RJc",
        "outputId": "d00b0be6-0e74-4a3b-af93-770253ec67af"
      },
      "execution_count": 346,
      "outputs": [
        {
          "output_type": "display_data",
          "data": {
            "text/plain": [
              "<Figure size 1000x400 with 1 Axes>"
            ],
            "image/png": "[encoded data removed]"
          },
          "metadata": {}
        }
      ]
    }
  ]
}