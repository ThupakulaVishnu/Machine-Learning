{
  "nbformat": 4,
  "nbformat_minor": 0,
  "metadata": {
    "colab": {
      "provenance": []
    },
    "kernelspec": {
      "name": "python3",
      "display_name": "Python 3"
    },
    "language_info": {
      "name": "python"
    }
  },
  "cells": [
    {
      "cell_type": "code",
      "execution_count": 36,
      "metadata": {
        "id": "Ov8Zq4KxKrad"
      },
      "outputs": [],
      "source": [
        "import numpy as np\n",
        "import pandas as pd\n",
        "import matplotlib.pyplot as plt"
      ]
    },
    {
      "cell_type": "code",
      "source": [
        "data=pd.read_csv(\"bigmartsales.csv\")\n",
        "print(data.isna().sum())"
      ],
      "metadata": {
        "colab": {
          "base_uri": "https://localhost:8080/"
        },
        "id": "8R8lPfTgLMl5",
        "outputId": "836224fc-a19d-4d07-a5ab-fd56e19810ae"
      },
      "execution_count": 37,
      "outputs": [
        {
          "output_type": "stream",
          "name": "stdout",
          "text": [
            "Item_Identifier                 0\n",
            "Item_Weight                  1463\n",
            "Item_Fat_Content                0\n",
            "Item_Visibility                 0\n",
            "Item_Type                       0\n",
            "Item_MRP                        0\n",
            "Outlet_Identifier               0\n",
            "Outlet_Establishment_Year       0\n",
            "Outlet_Size                  2410\n",
            "Outlet_Location_Type            0\n",
            "Outlet_Type                     0\n",
            "Item_Outlet_Sales               0\n",
            "dtype: int64\n"
          ]
        }
      ]
    },
    {
      "cell_type": "code",
      "source": [
        "print(data['Outlet_Size'].value_counts())"
      ],
      "metadata": {
        "colab": {
          "base_uri": "https://localhost:8080/"
        },
        "id": "u8_KtRpdLfi5",
        "outputId": "647bb016-4c52-46a8-d1f7-5aa8ecc80b16"
      },
      "execution_count": 39,
      "outputs": [
        {
          "output_type": "stream",
          "name": "stdout",
          "text": [
            "Outlet_Size\n",
            "Medium    2793\n",
            "Small     2388\n",
            "High       932\n",
            "Name: count, dtype: int64\n"
          ]
        }
      ]
    },
    {
      "cell_type": "code",
      "source": [
        "print(\"Total no.of values : \",data['Item_Weight'].values.shape)\n",
        "print(\"Total no.of null values : \",data[\"Item_Weight\"].isna().sum())"
      ],
      "metadata": {
        "colab": {
          "base_uri": "https://localhost:8080/"
        },
        "id": "geCP8WyJQSVJ",
        "outputId": "a4516720-7d17-4c0f-aca0-cd415e47b4ed"
      },
      "execution_count": 40,
      "outputs": [
        {
          "output_type": "stream",
          "name": "stdout",
          "text": [
            "Total no.of values :  (8523,)\n",
            "Total no.of null values :  1463\n"
          ]
        }
      ]
    },
    {
      "cell_type": "code",
      "source": [
        "from sklearn.impute import SimpleImputer\n",
        "sm=SimpleImputer(missing_values=np.NaN,strategy='mean')\n",
        "data[\"Item_Weight\"]=sm.fit_transform(data[\"Item_Weight\"].values.reshape(-1,1))\n",
        "print(data[\"Item_Weight\"].isna().sum())"
      ],
      "metadata": {
        "colab": {
          "base_uri": "https://localhost:8080/"
        },
        "id": "x5BXkZflL-zL",
        "outputId": "3180b677-adc3-4ef4-c01f-a215b7d06b90"
      },
      "execution_count": 41,
      "outputs": [
        {
          "output_type": "stream",
          "name": "stdout",
          "text": [
            "0\n"
          ]
        }
      ]
    },
    {
      "cell_type": "code",
      "source": [
        "a=data[\"Outlet_Size\"].mode()\n",
        "print(a[0])\n",
        "data[\"Outlet_Size\"].fillna(a[0],inplace=True)\n",
        "print(data[\"Outlet_Size\"].isna().sum())"
      ],
      "metadata": {
        "colab": {
          "base_uri": "https://localhost:8080/"
        },
        "id": "Ulsoad9kPlur",
        "outputId": "ed091f98-bf57-4fcd-f316-ee70233b34dc"
      },
      "execution_count": 42,
      "outputs": [
        {
          "output_type": "stream",
          "name": "stdout",
          "text": [
            "Medium\n",
            "0\n"
          ]
        }
      ]
    },
    {
      "cell_type": "code",
      "source": [
        "data.drop(columns=[\"Item_Identifier\",\"Outlet_Identifier\"],inplace=True)\n",
        "print(data.info())"
      ],
      "metadata": {
        "colab": {
          "base_uri": "https://localhost:8080/"
        },
        "id": "8nXOVsK5P_II",
        "outputId": "86019e21-8be0-4382-bbd8-c726a5cfe19d"
      },
      "execution_count": 43,
      "outputs": [
        {
          "output_type": "stream",
          "name": "stdout",
          "text": [
            "<class 'pandas.core.frame.DataFrame'>\n",
            "RangeIndex: 8523 entries, 0 to 8522\n",
            "Data columns (total 10 columns):\n",
            " #   Column                     Non-Null Count  Dtype  \n",
            "---  ------                     --------------  -----  \n",
            " 0   Item_Weight                8523 non-null   float64\n",
            " 1   Item_Fat_Content           8523 non-null   object \n",
            " 2   Item_Visibility            8523 non-null   float64\n",
            " 3   Item_Type                  8523 non-null   object \n",
            " 4   Item_MRP                   8523 non-null   float64\n",
            " 5   Outlet_Establishment_Year  8523 non-null   int64  \n",
            " 6   Outlet_Size                8523 non-null   object \n",
            " 7   Outlet_Location_Type       8523 non-null   object \n",
            " 8   Outlet_Type                8523 non-null   object \n",
            " 9   Item_Outlet_Sales          8523 non-null   float64\n",
            "dtypes: float64(4), int64(1), object(5)\n",
            "memory usage: 666.0+ KB\n",
            "None\n"
          ]
        }
      ]
    },
    {
      "cell_type": "code",
      "source": [
        "ab=pd.get_dummies(data)\n",
        "print(ab.shape)"
      ],
      "metadata": {
        "colab": {
          "base_uri": "https://localhost:8080/"
        },
        "id": "2hVkjiz0S6iK",
        "outputId": "60a7607c-c1f1-4379-b7b2-22326837d43b"
      },
      "execution_count": 45,
      "outputs": [
        {
          "output_type": "stream",
          "name": "stdout",
          "text": [
            "(8523, 36)\n"
          ]
        }
      ]
    },
    {
      "cell_type": "code",
      "source": [
        "from sklearn.model_selection import train_test_split\n",
        "train,test=train_test_split(ab,test_size=0.3,random_state=0)"
      ],
      "metadata": {
        "id": "Re_geKZK9t9Z"
      },
      "execution_count": 46,
      "outputs": []
    },
    {
      "cell_type": "code",
      "source": [
        "x_train=train.drop(columns=[\"Item_Outlet_Sales\"])\n",
        "y_train=train[\"Item_Outlet_Sales\"]\n",
        "\n",
        "x_test=test.drop(columns=[\"Item_Outlet_Sales\"])\n",
        "y_test=test[\"Item_Outlet_Sales\"]"
      ],
      "metadata": {
        "id": "Go0X-dUz-Oc1"
      },
      "execution_count": 47,
      "outputs": []
    },
    {
      "cell_type": "code",
      "source": [
        "from sklearn.preprocessing import MinMaxScaler\n",
        "s=MinMaxScaler(feature_range=(0,1))\n",
        "x_train=s.fit_transform(x_train)\n",
        "x_train=pd.DataFrame(x_train)\n",
        "\n",
        "x_test=s.fit_transform(x_test)\n",
        "x_test=pd.DataFrame(x_test)"
      ],
      "metadata": {
        "id": "vEidVpM8EYrS"
      },
      "execution_count": 48,
      "outputs": []
    },
    {
      "cell_type": "code",
      "source": [
        "print(x_test.head())"
      ],
      "metadata": {
        "colab": {
          "base_uri": "https://localhost:8080/"
        },
        "id": "W1ZSIsXk-esm",
        "outputId": "4ec49b5b-613d-4813-951b-09da30a3afd1"
      },
      "execution_count": 50,
      "outputs": [
        {
          "output_type": "stream",
          "name": "stdout",
          "text": [
            "         0         1         2         3    4    5    6    7    8    9   ...  \\\n",
            "0  0.592141  0.291941  0.545139  0.708333  0.0  1.0  0.0  0.0  0.0  0.0  ...   \n",
            "1  0.494352  0.030942  0.141357  0.000000  0.0  1.0  0.0  0.0  0.0  0.0  ...   \n",
            "2  0.413516  0.057577  0.418076  0.916667  0.0  1.0  0.0  0.0  0.0  0.0  ...   \n",
            "3  0.335814  0.000000  0.475249  0.916667  0.0  1.0  0.0  0.0  0.0  0.0  ...   \n",
            "4  0.979160  0.159872  0.695958  0.083333  0.0  1.0  0.0  0.0  0.0  0.0  ...   \n",
            "\n",
            "    25   26   27   28   29   30   31   32   33   34  \n",
            "0  0.0  1.0  0.0  0.0  1.0  0.0  0.0  1.0  0.0  0.0  \n",
            "1  0.0  1.0  0.0  0.0  0.0  1.0  0.0  0.0  0.0  1.0  \n",
            "2  0.0  1.0  0.0  0.0  1.0  0.0  0.0  1.0  0.0  0.0  \n",
            "3  0.0  1.0  0.0  0.0  1.0  0.0  0.0  1.0  0.0  0.0  \n",
            "4  1.0  0.0  0.0  0.0  0.0  1.0  0.0  1.0  0.0  0.0  \n",
            "\n",
            "[5 rows x 35 columns]\n"
          ]
        }
      ]
    },
    {
      "cell_type": "code",
      "source": [
        "from sklearn.neighbors import KNeighborsRegressor\n",
        "knr=KNeighborsRegressor(n_neighbors=5)\n",
        "knr.fit(x_train,y_train)\n",
        "y_pred=knr.predict(x_test)"
      ],
      "metadata": {
        "id": "RqrvenbNNskd"
      },
      "execution_count": 51,
      "outputs": []
    },
    {
      "cell_type": "code",
      "source": [
        "print(y_pred)"
      ],
      "metadata": {
        "colab": {
          "base_uri": "https://localhost:8080/"
        },
        "id": "eYRZAcARQo6Y",
        "outputId": "ccbfabbc-4f22-48ca-d51a-2211c860be59"
      },
      "execution_count": 52,
      "outputs": [
        {
          "output_type": "stream",
          "name": "stdout",
          "text": [
            "[1905.78592 1734.409   2020.17036 ... 1195.37732 4100.26272 2183.29136]\n"
          ]
        }
      ]
    },
    {
      "cell_type": "code",
      "source": [
        "from sklearn.metrics import mean_squared_error as mse\n",
        "msqr=[]\n",
        "for i in range(1,21):\n",
        "  model=KNeighborsRegressor(n_neighbors=i)\n",
        "  model.fit(x_train,y_train)\n",
        "  pred=model.predict(x_test)\n",
        "  msqr.append(np.sqrt(mse(y_test,pred)))\n",
        "for i in range(len(msqr)):\n",
        "  print(\"SMQR of model {}: {}\".format(i,msqr[i]))"
      ],
      "metadata": {
        "colab": {
          "base_uri": "https://localhost:8080/"
        },
        "id": "LlL0hZorQr4Y",
        "outputId": "37cfe8d2-cddf-4cb7-c8c6-522e29772740"
      },
      "execution_count": 57,
      "outputs": [
        {
          "output_type": "stream",
          "name": "stdout",
          "text": [
            "SMQR of model 0: 1622.1708818144195\n",
            "SMQR of model 1: 1384.7533451018614\n",
            "SMQR of model 2: 1308.897812351999\n",
            "SMQR of model 3: 1277.2034372637902\n",
            "SMQR of model 4: 1252.4846429832314\n",
            "SMQR of model 5: 1246.7697929883395\n",
            "SMQR of model 6: 1244.584589127322\n",
            "SMQR of model 7: 1244.3716701735505\n",
            "SMQR of model 8: 1241.8771552932565\n",
            "SMQR of model 9: 1242.5765849676593\n",
            "SMQR of model 10: 1244.8540347538753\n",
            "SMQR of model 11: 1247.8260398617656\n",
            "SMQR of model 12: 1251.9796424573076\n",
            "SMQR of model 13: 1258.6941413660854\n",
            "SMQR of model 14: 1265.8940515697318\n",
            "SMQR of model 15: 1274.216519231596\n",
            "SMQR of model 16: 1278.335713396307\n",
            "SMQR of model 17: 1284.3976419887258\n",
            "SMQR of model 18: 1291.2461876916161\n",
            "SMQR of model 19: 1296.0303328620582\n"
          ]
        }
      ]
    },
    {
      "cell_type": "code",
      "source": [
        "# curve=pd.DataFrame(msqr)\n",
        "# curve.plot()\n",
        "plt.plot(range(1,21),msqr)"
      ],
      "metadata": {
        "colab": {
          "base_uri": "https://localhost:8080/",
          "height": 447
        },
        "id": "BpWVIB6bRbRu",
        "outputId": "3459710d-14f4-4204-ee09-5a1d51dd544d"
      },
      "execution_count": 59,
      "outputs": [
        {
          "output_type": "execute_result",
          "data": {
            "text/plain": [
              "[<matplotlib.lines.Line2D at 0x79b582871f60>]"
            ]
          },
          "metadata": {},
          "execution_count": 59
        },
        {
          "output_type": "display_data",
          "data": {
            "text/plain": [
              "<Figure size 640x480 with 1 Axes>"
            ],
            "image/png": "[encoded data removed]"
          },
          "metadata": {}
        }
      ]
    },
    {
      "cell_type": "code",
      "source": [
        "dataset=pd.read_csv(\"bigmartsales_Test.csv\")\n",
        "print(dataset.isna().sum())"
      ],
      "metadata": {
        "colab": {
          "base_uri": "https://localhost:8080/"
        },
        "id": "JwllsvliSyHk",
        "outputId": "675146fd-7c89-4f00-e3d8-9d5064e2d139"
      },
      "execution_count": 77,
      "outputs": [
        {
          "output_type": "stream",
          "name": "stdout",
          "text": [
            "Item_Identifier                 0\n",
            "Item_Weight                   976\n",
            "Item_Fat_Content                0\n",
            "Item_Visibility                 0\n",
            "Item_Type                       0\n",
            "Item_MRP                        0\n",
            "Outlet_Identifier               0\n",
            "Outlet_Establishment_Year       0\n",
            "Outlet_Size                  1606\n",
            "Outlet_Location_Type            0\n",
            "Outlet_Type                     0\n",
            "dtype: int64\n"
          ]
        }
      ]
    },
    {
      "cell_type": "code",
      "source": [
        "bc=dataset[\"Item_Weight\"].mean()\n",
        "dataset[\"Item_Weight\"].fillna(bc,inplace=True)\n",
        "ab=dataset[\"Outlet_Size\"].mode()\n",
        "dataset[\"Outlet_Size\"].fillna(ab[0],inplace=True)\n",
        "print(dataset.isna().sum())"
      ],
      "metadata": {
        "colab": {
          "base_uri": "https://localhost:8080/"
        },
        "id": "kbR_sdRCUTcB",
        "outputId": "995842d7-2057-4955-d716-be769d30d69b"
      },
      "execution_count": 78,
      "outputs": [
        {
          "output_type": "stream",
          "name": "stdout",
          "text": [
            "Item_Identifier              0\n",
            "Item_Weight                  0\n",
            "Item_Fat_Content             0\n",
            "Item_Visibility              0\n",
            "Item_Type                    0\n",
            "Item_MRP                     0\n",
            "Outlet_Identifier            0\n",
            "Outlet_Establishment_Year    0\n",
            "Outlet_Size                  0\n",
            "Outlet_Location_Type         0\n",
            "Outlet_Type                  0\n",
            "dtype: int64\n"
          ]
        }
      ]
    },
    {
      "cell_type": "code",
      "source": [
        "submission=pd.DataFrame()\n",
        "submission[\"Item_Identifier\"]=dataset[\"Item_Identifier\"]\n",
        "submission[\"Outlet_Identifier\"]=dataset[\"Outlet_Identifier\"]"
      ],
      "metadata": {
        "id": "XhaQYWVXYMp7"
      },
      "execution_count": 80,
      "outputs": []
    },
    {
      "cell_type": "code",
      "source": [
        "dataset.drop(columns=[\"Item_Identifier\",\"Outlet_Identifier\"],inplace=True)\n",
        "print(dataset.info())"
      ],
      "metadata": {
        "colab": {
          "base_uri": "https://localhost:8080/"
        },
        "id": "5D2jZwV8VqVt",
        "outputId": "a267fcc6-5695-4211-86f4-411927fb5ecf"
      },
      "execution_count": 81,
      "outputs": [
        {
          "output_type": "stream",
          "name": "stdout",
          "text": [
            "<class 'pandas.core.frame.DataFrame'>\n",
            "RangeIndex: 5681 entries, 0 to 5680\n",
            "Data columns (total 9 columns):\n",
            " #   Column                     Non-Null Count  Dtype  \n",
            "---  ------                     --------------  -----  \n",
            " 0   Item_Weight                5681 non-null   float64\n",
            " 1   Item_Fat_Content           5681 non-null   object \n",
            " 2   Item_Visibility            5681 non-null   float64\n",
            " 3   Item_Type                  5681 non-null   object \n",
            " 4   Item_MRP                   5681 non-null   float64\n",
            " 5   Outlet_Establishment_Year  5681 non-null   int64  \n",
            " 6   Outlet_Size                5681 non-null   object \n",
            " 7   Outlet_Location_Type       5681 non-null   object \n",
            " 8   Outlet_Type                5681 non-null   object \n",
            "dtypes: float64(3), int64(1), object(5)\n",
            "memory usage: 399.6+ KB\n",
            "None\n"
          ]
        }
      ]
    },
    {
      "cell_type": "code",
      "source": [
        "data1=pd.get_dummies(dataset)\n",
        "print(data1.columns.shape)\n",
        "print(data1.info())"
      ],
      "metadata": {
        "colab": {
          "base_uri": "https://localhost:8080/"
        },
        "id": "cbpiyTGOVzFg",
        "outputId": "f506345a-48c9-4059-8f2f-03574dd2d29c"
      },
      "execution_count": 92,
      "outputs": [
        {
          "output_type": "stream",
          "name": "stdout",
          "text": [
            "(35,)\n",
            "<class 'pandas.core.frame.DataFrame'>\n",
            "RangeIndex: 5681 entries, 0 to 5680\n",
            "Data columns (total 35 columns):\n",
            " #   Column                           Non-Null Count  Dtype  \n",
            "---  ------                           --------------  -----  \n",
            " 0   Item_Weight                      5681 non-null   float64\n",
            " 1   Item_Visibility                  5681 non-null   float64\n",
            " 2   Item_MRP                         5681 non-null   float64\n",
            " 3   Outlet_Establishment_Year        5681 non-null   int64  \n",
            " 4   Item_Fat_Content_LF              5681 non-null   bool   \n",
            " 5   Item_Fat_Content_Low Fat         5681 non-null   bool   \n",
            " 6   Item_Fat_Content_Regular         5681 non-null   bool   \n",
            " 7   Item_Fat_Content_low fat         5681 non-null   bool   \n",
            " 8   Item_Fat_Content_reg             5681 non-null   bool   \n",
            " 9   Item_Type_Baking Goods           5681 non-null   bool   \n",
            " 10  Item_Type_Breads                 5681 non-null   bool   \n",
            " 11  Item_Type_Breakfast              5681 non-null   bool   \n",
            " 12  Item_Type_Canned                 5681 non-null   bool   \n",
            " 13  Item_Type_Dairy                  5681 non-null   bool   \n",
            " 14  Item_Type_Frozen Foods           5681 non-null   bool   \n",
            " 15  Item_Type_Fruits and Vegetables  5681 non-null   bool   \n",
            " 16  Item_Type_Hard Drinks            5681 non-null   bool   \n",
            " 17  Item_Type_Health and Hygiene     5681 non-null   bool   \n",
            " 18  Item_Type_Household              5681 non-null   bool   \n",
            " 19  Item_Type_Meat                   5681 non-null   bool   \n",
            " 20  Item_Type_Others                 5681 non-null   bool   \n",
            " 21  Item_Type_Seafood                5681 non-null   bool   \n",
            " 22  Item_Type_Snack Foods            5681 non-null   bool   \n",
            " 23  Item_Type_Soft Drinks            5681 non-null   bool   \n",
            " 24  Item_Type_Starchy Foods          5681 non-null   bool   \n",
            " 25  Outlet_Size_High                 5681 non-null   bool   \n",
            " 26  Outlet_Size_Medium               5681 non-null   bool   \n",
            " 27  Outlet_Size_Small                5681 non-null   bool   \n",
            " 28  Outlet_Location_Type_Tier 1      5681 non-null   bool   \n",
            " 29  Outlet_Location_Type_Tier 2      5681 non-null   bool   \n",
            " 30  Outlet_Location_Type_Tier 3      5681 non-null   bool   \n",
            " 31  Outlet_Type_Grocery Store        5681 non-null   bool   \n",
            " 32  Outlet_Type_Supermarket Type1    5681 non-null   bool   \n",
            " 33  Outlet_Type_Supermarket Type2    5681 non-null   bool   \n",
            " 34  Outlet_Type_Supermarket Type3    5681 non-null   bool   \n",
            "dtypes: bool(31), float64(3), int64(1)\n",
            "memory usage: 349.6 KB\n",
            "None\n"
          ]
        }
      ]
    },
    {
      "cell_type": "code",
      "source": [
        "from sklearn.preprocessing import MinMaxScaler\n",
        "scal=MinMaxScaler(feature_range=(0,1))\n",
        "\n",
        "data1=scal.fit_transform(data1)\n",
        "dat1=pd.DataFrame(data1)\n",
        "print(dat1.head())"
      ],
      "metadata": {
        "colab": {
          "base_uri": "https://localhost:8080/"
        },
        "id": "-k8yTv6OWQXW",
        "outputId": "34249b1b-6fa1-4532-db32-08b9e2fb2cc3"
      },
      "execution_count": 91,
      "outputs": [
        {
          "output_type": "stream",
          "name": "stdout",
          "text": [
            "         0         1         2         3    4    5    6    7    8    9   ...  \\\n",
            "0  0.964275  0.023374  0.323413  0.583333  0.0  1.0  0.0  0.0  0.0  0.0  ...   \n",
            "1  0.222983  0.118737  0.235849  0.916667  0.0  0.0  0.0  0.0  1.0  0.0  ...   \n",
            "2  0.598095  0.307674  0.894140  0.541667  0.0  1.0  0.0  0.0  0.0  0.0  ...   \n",
            "3  0.164335  0.047548  0.524488  0.916667  0.0  1.0  0.0  0.0  0.0  0.0  ...   \n",
            "4  0.484706  0.366458  0.862069  0.000000  0.0  0.0  1.0  0.0  0.0  0.0  ...   \n",
            "\n",
            "    25   26   27   28   29   30   31   32   33   34  \n",
            "0  0.0  1.0  0.0  1.0  0.0  0.0  0.0  1.0  0.0  0.0  \n",
            "1  0.0  1.0  0.0  0.0  1.0  0.0  0.0  1.0  0.0  0.0  \n",
            "2  0.0  1.0  0.0  0.0  0.0  1.0  1.0  0.0  0.0  0.0  \n",
            "3  0.0  1.0  0.0  0.0  1.0  0.0  0.0  1.0  0.0  0.0  \n",
            "4  0.0  1.0  0.0  0.0  0.0  1.0  0.0  0.0  0.0  1.0  \n",
            "\n",
            "[5 rows x 35 columns]\n"
          ]
        }
      ]
    },
    {
      "cell_type": "code",
      "source": [
        "pred=knr.predict(dat1)\n",
        "submission[\"Item_Outlet_Sales\"]=pred\n",
        "submission.to_csv(\"Final.csv\")"
      ],
      "metadata": {
        "id": "PuxAxKQRW_Ab"
      },
      "execution_count": 84,
      "outputs": []
    },
    {
      "cell_type": "code",
      "source": [
        "from sklearn.model_selection import GridSearchCV\n",
        "params={'n_neighbors':range(1,21)}\n",
        "knn=KNeighborsRegressor()\n",
        "abc=GridSearchCV(knn,params,cv=5)\n",
        "abc.fit(x_train,y_train)\n",
        "print(abc.best_params_)"
      ],
      "metadata": {
        "colab": {
          "base_uri": "https://localhost:8080/"
        },
        "id": "JCkG1L8kZWYh",
        "outputId": "83e45eab-e312-44f7-b849-ccfbb71bec94"
      },
      "execution_count": 97,
      "outputs": [
        {
          "output_type": "stream",
          "name": "stdout",
          "text": [
            "{'n_neighbors': 8}\n"
          ]
        }
      ]
    }
  ]
}