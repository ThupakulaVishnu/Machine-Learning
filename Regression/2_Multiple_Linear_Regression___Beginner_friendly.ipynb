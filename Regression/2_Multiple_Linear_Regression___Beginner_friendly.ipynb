{
  "nbformat": 4,
  "nbformat_minor": 0,
  "metadata": {
    "colab": {
      "provenance": []
    },
    "kernelspec": {
      "name": "python3",
      "display_name": "Python 3"
    },
    "language_info": {
      "name": "python"
    }
  },
  "cells": [
    {
      "cell_type": "code",
      "execution_count": 18,
      "metadata": {
        "id": "4lcsK4ipCWZn"
      },
      "outputs": [],
      "source": [
        "import numpy as np\n",
        "import pandas as pd\n",
        "import matplotlib.pyplot as plt"
      ]
    },
    {
      "cell_type": "markdown",
      "source": [
        "Importing the dataset"
      ],
      "metadata": {
        "id": "7gbf1U8nCoo_"
      }
    },
    {
      "cell_type": "code",
      "source": [
        "data=pd.read_csv(\"50_Startups_MR.csv\")"
      ],
      "metadata": {
        "id": "t1WYiCjWCti1"
      },
      "execution_count": 19,
      "outputs": []
    },
    {
      "cell_type": "markdown",
      "source": [
        "Checking for null values"
      ],
      "metadata": {
        "id": "6IOSd8BGC4xZ"
      }
    },
    {
      "cell_type": "code",
      "source": [
        "print(data.isna().sum())"
      ],
      "metadata": {
        "colab": {
          "base_uri": "https://localhost:8080/",
          "height": 0
        },
        "id": "pvTMymwXC4Ys",
        "outputId": "bd73e0ea-81bb-4e12-e08e-c7f85064f0e9"
      },
      "execution_count": 20,
      "outputs": [
        {
          "output_type": "stream",
          "name": "stdout",
          "text": [
            "R&D Spend          0\n",
            "Administration     0\n",
            "Marketing Spend    0\n",
            "State              0\n",
            "Profit             0\n",
            "dtype: int64\n"
          ]
        }
      ]
    },
    {
      "cell_type": "code",
      "source": [
        "print(data.head())"
      ],
      "metadata": {
        "colab": {
          "base_uri": "https://localhost:8080/",
          "height": 0
        },
        "id": "f9g7JokxDBhj",
        "outputId": "aa7f9fbc-4772-4444-def0-71dcebb80dbf"
      },
      "execution_count": 21,
      "outputs": [
        {
          "output_type": "stream",
          "name": "stdout",
          "text": [
            "   R&D Spend  Administration  Marketing Spend       State     Profit\n",
            "0  165349.20       136897.80        471784.10    New York  192261.83\n",
            "1  162597.70       151377.59        443898.53  California  191792.06\n",
            "2  153441.51       101145.55        407934.54     Florida  191050.39\n",
            "3  144372.41       118671.85        383199.62    New York  182901.99\n",
            "4  142107.34        91391.77        366168.42     Florida  166187.94\n"
          ]
        }
      ]
    },
    {
      "cell_type": "markdown",
      "source": [
        "Dividing dataset into dependent and independent data"
      ],
      "metadata": {
        "id": "N9Ooi3AhDNOg"
      }
    },
    {
      "cell_type": "code",
      "source": [
        "X=data.iloc[:,:-1].values\n",
        "Y=data.iloc[:,-1].values"
      ],
      "metadata": {
        "id": "RsuElBkPDHnF"
      },
      "execution_count": 22,
      "outputs": []
    },
    {
      "cell_type": "markdown",
      "source": [
        "Splitting the dataset into train,test,split"
      ],
      "metadata": {
        "id": "0HOJc4QgDRg5"
      }
    },
    {
      "cell_type": "code",
      "source": [
        "from sklearn.model_selection import train_test_split\n",
        "x_train,x_test,y_train,y_test=train_test_split(X,Y,test_size=0.2,random_state=0)"
      ],
      "metadata": {
        "id": "b6NX1yhBDTnN"
      },
      "execution_count": 23,
      "outputs": []
    },
    {
      "cell_type": "markdown",
      "source": [
        "Encoding the categorical data into numerical data"
      ],
      "metadata": {
        "id": "1U0KLkwDEPzm"
      }
    },
    {
      "cell_type": "code",
      "source": [
        "from sklearn.preprocessing import LabelEncoder\n",
        "obj=LabelEncoder()\n",
        "x_train[:,-1]=obj.fit_transform(x_train[:,-1])\n",
        "x_test[:,-1]=obj.transform(x_test[:,-1])\n",
        "\n",
        "\n",
        "# from sklearn.compose import ColumnTransformer\n",
        "# from sklearn.preprocessing import OneHotEncoder\n",
        "# obj=ColumnTransformer(transformers=[('encode',OneHotEncoder(),[-1])],remainder='passthrough')\n",
        "# x_train=obj.fit_transform(x_train)\n",
        "# x_test=obj.transform(x_test)"
      ],
      "metadata": {
        "id": "3vLmqJQ9DXjl"
      },
      "execution_count": 24,
      "outputs": []
    },
    {
      "cell_type": "markdown",
      "source": [],
      "metadata": {
        "id": "0AQ3LUmvEPR1"
      }
    },
    {
      "cell_type": "code",
      "source": [
        "print(x_train)\n",
        "print()\n",
        "print(x_test)"
      ],
      "metadata": {
        "colab": {
          "base_uri": "https://localhost:8080/",
          "height": 0
        },
        "id": "Dsj46bU6DdZM",
        "outputId": "20f57f59-0b38-4359-f684-5a171c6267ff"
      },
      "execution_count": 25,
      "outputs": [
        {
          "output_type": "stream",
          "name": "stdout",
          "text": [
            "[[55493.95 103057.49 214634.81 1]\n",
            " [46014.02 85047.44 205517.64 2]\n",
            " [75328.87 144135.98 134050.07 1]\n",
            " [46426.07 157693.92 210797.67 0]\n",
            " [91749.16 114175.79 294919.57 1]\n",
            " [130298.13 145530.06 323876.68 1]\n",
            " [119943.24 156547.42 256512.92 1]\n",
            " [1000.23 124153.04 1903.93 2]\n",
            " [542.05 51743.15 0.0 2]\n",
            " [65605.48 153032.06 107138.38 2]\n",
            " [114523.61 122616.84 261776.23 2]\n",
            " [61994.48 115641.28 91131.24 1]\n",
            " [63408.86 129219.61 46085.25 0]\n",
            " [78013.11 121597.55 264346.06 0]\n",
            " [23640.93 96189.63 148001.11 0]\n",
            " [76253.86 113867.3 298664.47 0]\n",
            " [15505.73 127382.3 35534.17 2]\n",
            " [120542.52 148718.95 311613.29 2]\n",
            " [91992.39 135495.07 252664.93 0]\n",
            " [64664.71 139553.16 137962.62 0]\n",
            " [131876.9 99814.71 362861.36 2]\n",
            " [94657.16 145077.58 282574.31 2]\n",
            " [28754.33 118546.05 172795.67 0]\n",
            " [0.0 116983.8 45173.06 0]\n",
            " [162597.7 151377.59 443898.53 0]\n",
            " [93863.75 127320.38 249839.44 1]\n",
            " [44069.95 51283.14 197029.42 0]\n",
            " [77044.01 99281.34 140574.81 2]\n",
            " [134615.46 147198.87 127716.82 0]\n",
            " [67532.53 105751.03 304768.73 1]\n",
            " [28663.76 127056.21 201126.82 1]\n",
            " [78389.47 153773.43 299737.29 2]\n",
            " [86419.7 153514.11 0.0 2]\n",
            " [123334.88 108679.17 304981.62 0]\n",
            " [38558.51 82982.09 174999.3 0]\n",
            " [1315.46 115816.21 297114.46 1]\n",
            " [144372.41 118671.85 383199.62 2]\n",
            " [165349.2 136897.8 471784.1 2]\n",
            " [0.0 135426.92 0.0 0]\n",
            " [22177.74 154806.14 28334.72 0]]\n",
            "\n",
            "[[66051.52 182645.56 118148.2 1]\n",
            " [100671.96 91790.61 249744.55 0]\n",
            " [101913.08 110594.11 229160.95 1]\n",
            " [27892.92 84710.77 164470.71 1]\n",
            " [153441.51 101145.55 407934.54 1]\n",
            " [72107.6 127864.55 353183.81 2]\n",
            " [20229.59 65947.93 185265.1 2]\n",
            " [61136.38 152701.92 88218.23 2]\n",
            " [73994.56 122782.75 303319.26 1]\n",
            " [142107.34 91391.77 366168.42 1]]\n"
          ]
        }
      ]
    },
    {
      "cell_type": "markdown",
      "source": [
        "Feature Scaling..."
      ],
      "metadata": {
        "id": "D7ALXbgCDbDN"
      }
    },
    {
      "cell_type": "code",
      "source": [
        "from sklearn.preprocessing import StandardScaler,normalize\n",
        "ob=StandardScaler()\n",
        "x_train=ob.fit_transform(x_train)\n",
        "x_test=ob.transform(x_test)\n",
        "\n",
        "# x_train=normalize(x_train)\n",
        "# x_test=normalize(x_test)"
      ],
      "metadata": {
        "id": "2tp7IPymDh_A"
      },
      "execution_count": 26,
      "outputs": []
    },
    {
      "cell_type": "markdown",
      "source": [
        "Preparing Multiple linear Regression model..."
      ],
      "metadata": {
        "id": "eouuAvlvDlhl"
      }
    },
    {
      "cell_type": "code",
      "source": [
        "from sklearn.linear_model import LinearRegression\n",
        "regress=LinearRegression()\n",
        "regress.fit(x_train,y_train)"
      ],
      "metadata": {
        "colab": {
          "base_uri": "https://localhost:8080/",
          "height": 74
        },
        "id": "e-6tZz0dDnU9",
        "outputId": "ffdf9f58-4124-4332-d4c8-b93a0933a5f0"
      },
      "execution_count": 27,
      "outputs": [
        {
          "output_type": "execute_result",
          "data": {
            "text/plain": [
              "LinearRegression()"
            ],
            "text/html": [
              "<style>#sk-container-id-2 {color: black;}#sk-container-id-2 pre{padding: 0;}#sk-container-id-2 div.sk-toggleable {background-color: white;}#sk-container-id-2 label.sk-toggleable__label {cursor: pointer;display: block;width: 100%;margin-bottom: 0;padding: 0.3em;box-sizing: border-box;text-align: center;}#sk-container-id-2 label.sk-toggleable__label-arrow:before {content: \"▸\";float: left;margin-right: 0.25em;color: #696969;}#sk-container-id-2 label.sk-toggleable__label-arrow:hover:before {color: black;}#sk-container-id-2 div.sk-estimator:hover label.sk-toggleable__label-arrow:before {color: black;}#sk-container-id-2 div.sk-toggleable__content {max-height: 0;max-width: 0;overflow: hidden;text-align: left;background-color: #f0f8ff;}#sk-container-id-2 div.sk-toggleable__content pre {margin: 0.2em;color: black;border-radius: 0.25em;background-color: #f0f8ff;}#sk-container-id-2 input.sk-toggleable__control:checked~div.sk-toggleable__content {max-height: 200px;max-width: 100%;overflow: auto;}#sk-container-id-2 input.sk-toggleable__control:checked~label.sk-toggleable__label-arrow:before {content: \"▾\";}#sk-container-id-2 div.sk-estimator input.sk-toggleable__control:checked~label.sk-toggleable__label {background-color: #d4ebff;}#sk-container-id-2 div.sk-label input.sk-toggleable__control:checked~label.sk-toggleable__label {background-color: #d4ebff;}#sk-container-id-2 input.sk-hidden--visually {border: 0;clip: rect(1px 1px 1px 1px);clip: rect(1px, 1px, 1px, 1px);height: 1px;margin: -1px;overflow: hidden;padding: 0;position: absolute;width: 1px;}#sk-container-id-2 div.sk-estimator {font-family: monospace;background-color: #f0f8ff;border: 1px dotted black;border-radius: 0.25em;box-sizing: border-box;margin-bottom: 0.5em;}#sk-container-id-2 div.sk-estimator:hover {background-color: #d4ebff;}#sk-container-id-2 div.sk-parallel-item::after {content: \"\";width: 100%;border-bottom: 1px solid gray;flex-grow: 1;}#sk-container-id-2 div.sk-label:hover label.sk-toggleable__label {background-color: #d4ebff;}#sk-container-id-2 div.sk-serial::before {content: \"\";position: absolute;border-left: 1px solid gray;box-sizing: border-box;top: 0;bottom: 0;left: 50%;z-index: 0;}#sk-container-id-2 div.sk-serial {display: flex;flex-direction: column;align-items: center;background-color: white;padding-right: 0.2em;padding-left: 0.2em;position: relative;}#sk-container-id-2 div.sk-item {position: relative;z-index: 1;}#sk-container-id-2 div.sk-parallel {display: flex;align-items: stretch;justify-content: center;background-color: white;position: relative;}#sk-container-id-2 div.sk-item::before, #sk-container-id-2 div.sk-parallel-item::before {content: \"\";position: absolute;border-left: 1px solid gray;box-sizing: border-box;top: 0;bottom: 0;left: 50%;z-index: -1;}#sk-container-id-2 div.sk-parallel-item {display: flex;flex-direction: column;z-index: 1;position: relative;background-color: white;}#sk-container-id-2 div.sk-parallel-item:first-child::after {align-self: flex-end;width: 50%;}#sk-container-id-2 div.sk-parallel-item:last-child::after {align-self: flex-start;width: 50%;}#sk-container-id-2 div.sk-parallel-item:only-child::after {width: 0;}#sk-container-id-2 div.sk-dashed-wrapped {border: 1px dashed gray;margin: 0 0.4em 0.5em 0.4em;box-sizing: border-box;padding-bottom: 0.4em;background-color: white;}#sk-container-id-2 div.sk-label label {font-family: monospace;font-weight: bold;display: inline-block;line-height: 1.2em;}#sk-container-id-2 div.sk-label-container {text-align: center;}#sk-container-id-2 div.sk-container {/* jupyter's `normalize.less` sets `[hidden] { display: none; }` but bootstrap.min.css set `[hidden] { display: none !important; }` so we also need the `!important` here to be able to override the default hidden behavior on the sphinx rendered scikit-learn.org. See: https://github.com/scikit-learn/scikit-learn/issues/21755 */display: inline-block !important;position: relative;}#sk-container-id-2 div.sk-text-repr-fallback {display: none;}</style><div id=\"sk-container-id-2\" class=\"sk-top-container\"><div class=\"sk-text-repr-fallback\"><pre>LinearRegression()</pre><b>In a Jupyter environment, please rerun this cell to show the HTML representation or trust the notebook. <br />On GitHub, the HTML representation is unable to render, please try loading this page with nbviewer.org.</b></div><div class=\"sk-container\" hidden><div class=\"sk-item\"><div class=\"sk-estimator sk-toggleable\"><input class=\"sk-toggleable__control sk-hidden--visually\" id=\"sk-estimator-id-2\" type=\"checkbox\" checked><label for=\"sk-estimator-id-2\" class=\"sk-toggleable__label sk-toggleable__label-arrow\">LinearRegression</label><div class=\"sk-toggleable__content\"><pre>LinearRegression()</pre></div></div></div></div></div>"
            ]
          },
          "metadata": {},
          "execution_count": 27
        }
      ]
    },
    {
      "cell_type": "markdown",
      "source": [
        "Predicting the test data by using Regression model"
      ],
      "metadata": {
        "id": "S94WSnM7Hzf_"
      }
    },
    {
      "cell_type": "code",
      "source": [
        "y_pred=regress.predict(x_test)"
      ],
      "metadata": {
        "id": "EkTO9u4QDpkC"
      },
      "execution_count": 28,
      "outputs": []
    },
    {
      "cell_type": "markdown",
      "source": [
        "Comparing the original and predicted data....."
      ],
      "metadata": {
        "id": "ccST-WHQDs1Y"
      }
    },
    {
      "cell_type": "code",
      "source": [
        "print(np.concatenate((y_test.reshape(len(y_test),1),y_pred.reshape(len(y_pred),1)),axis=1))"
      ],
      "metadata": {
        "colab": {
          "base_uri": "https://localhost:8080/",
          "height": 0
        },
        "id": "5eQlIxHCDtwa",
        "outputId": "c190094f-038d-4ba8-fc38-13d5aa62747a"
      },
      "execution_count": 29,
      "outputs": [
        {
          "output_type": "stream",
          "name": "stdout",
          "text": [
            "[[103282.38       103959.40508021]\n",
            " [144259.4        132398.73236694]\n",
            " [146121.95       133529.03790148]\n",
            " [ 77798.83        72958.28368314]\n",
            " [191050.39       179534.78737166]\n",
            " [105008.31       115533.62584099]\n",
            " [ 81229.06        67476.95847883]\n",
            " [ 97483.56        98504.36199396]\n",
            " [110352.25       114789.16083781]\n",
            " [166187.94       168972.21909945]]\n"
          ]
        }
      ]
    },
    {
      "cell_type": "markdown",
      "source": [
        "Predicting random_data...."
      ],
      "metadata": {
        "id": "Cry27FDwDwRH"
      }
    },
    {
      "cell_type": "code",
      "source": [
        "#Predicting random_data by using OneHotEncoder...\n",
        "# standsacal=obj.transform([[100671.96,91790.61,249744.55,\"California\"]])\n",
        "# print(standsacal)\n",
        "\n",
        "# print(regress.predict(ob.transform(standsacal)))\n",
        "\n",
        "#Predicting random_data by using LabelEncoder...\n",
        "print(regress.predict(ob.transform([[100671.96,91790.61,249744.55,obj.transform([\"California\"])[0]]])))\n"
      ],
      "metadata": {
        "colab": {
          "base_uri": "https://localhost:8080/",
          "height": 0
        },
        "id": "8J4wVTKADyUJ",
        "outputId": "5b6c94f9-9f6a-4517-c897-2b18b1761014"
      },
      "execution_count": 30,
      "outputs": [
        {
          "output_type": "stream",
          "name": "stdout",
          "text": [
            "[132398.73236694]\n"
          ]
        }
      ]
    },
    {
      "cell_type": "markdown",
      "source": [
        "Visualizing the performance of model on test data..."
      ],
      "metadata": {
        "id": "SC5TxU_yD8qb"
      }
    },
    {
      "cell_type": "code",
      "source": [
        "from sklearn.decomposition import PCA\n",
        "pca=PCA(n_components=1)\n",
        "X=pca.fit_transform(x_test)\n",
        "\n",
        "\n",
        "plt.scatter(X,y_test,color=\"blue\",label=\"Original_data\")\n",
        "plt.scatter(X,y_pred,color=\"red\",label=\"Predicted_data\")\n",
        "plt.legend()\n",
        "plt.show()"
      ],
      "metadata": {
        "colab": {
          "base_uri": "https://localhost:8080/",
          "height": 430
        },
        "id": "AcWyl0jDD7OU",
        "outputId": "c6de2aab-7f01-4716-f4e7-61e1f559c6f4"
      },
      "execution_count": 31,
      "outputs": [
        {
          "output_type": "display_data",
          "data": {
            "text/plain": [
              "<Figure size 640x480 with 1 Axes>"
            ],
            "image/png": "[encoded data removed]"
          },
          "metadata": {}
        }
      ]
    },
    {
      "cell_type": "code",
      "source": [
        "from sklearn.metrics import r2_score\n",
        "print(\"Model accuracy : \",r2_score(y_test,y_pred))"
      ],
      "metadata": {
        "colab": {
          "base_uri": "https://localhost:8080/",
          "height": 0
        },
        "id": "9TA48BE0EBOR",
        "outputId": "199dda9e-cc74-4a24-8724-5ecee27e7388"
      },
      "execution_count": 32,
      "outputs": [
        {
          "output_type": "stream",
          "name": "stdout",
          "text": [
            "Model accuracy :  0.9386861070938133\n"
          ]
        }
      ]
    }
  ]
}