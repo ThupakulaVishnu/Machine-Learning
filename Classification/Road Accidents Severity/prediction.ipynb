{
 "cells": [
  {
   "cell_type": "code",
   "execution_count": 47,
   "metadata": {},
   "outputs": [],
   "source": [
    "import pickle\n",
    "with open('model.pkl','rb') as file:\n",
    "    model=pickle.load(file)"
   ]
  },
  {
   "cell_type": "code",
   "execution_count": 48,
   "metadata": {},
   "outputs": [],
   "source": [
    "with open('Label_encoder.pkl','rb') as file:\n",
    "    le=pickle.load(file)"
   ]
  },
  {
   "cell_type": "code",
   "execution_count": 49,
   "metadata": {},
   "outputs": [],
   "source": [
    "columns=['Hours', 'Minutes', 'Day_of_week', 'Age_band_of_driver',\n",
    "       'Sex_of_driver', 'Educational_level', 'Vehicle_driver_relation',\n",
    "       'Driving_experience', 'Type_of_vehicle', 'Owner_of_vehicle',\n",
    "       'Area_accident_occured', 'Lanes_or_Medians',\n",
    "       'Types_of_Junction', 'Road_surface_type', 'Road_surface_conditions',\n",
    "       'Light_conditions', 'Weather_conditions', 'Type_of_collision',\n",
    "       'Number_of_vehicles_involved', 'Number_of_casualties',\n",
    "       'Vehicle_movement', 'Cause_of_accident']"
   ]
  },
  {
   "cell_type": "code",
   "execution_count": 50,
   "metadata": {},
   "outputs": [],
   "source": [
    "sample_1=[17,2,'Monday','18-30','Male','Above high school','Employee','1-2yr','Passenger Vehicle','Owner','Residential areas',\n",
    "          'other','No junction','Asphalt roads','Dry','Daylight','Normal','Collision with roadside-parked vehicles',\n",
    "          2,2,'Going straight','Moving Backward']"
   ]
  },
  {
   "cell_type": "code",
   "execution_count": 51,
   "metadata": {},
   "outputs": [],
   "source": [
    "column_index=[2,3,5,6,7,8,9,10,11,12,13,14,15,16,17,20,21]\n",
    "\n",
    "for i in range(len(column_index)):\n",
    "    index=column_index[i]\n",
    "    sample_1[index]=le[i].transform([sample_1[index]])[0]"
   ]
  },
  {
   "cell_type": "code",
   "execution_count": 52,
   "metadata": {},
   "outputs": [],
   "source": [
    "if(sample_1[4]=='Male'):\n",
    "    sample_1[4]=0\n",
    "elif sample_1[4]=='Female':\n",
    "    sample_1[4]=1\n",
    "else:\n",
    "    sample_1[4]=-1"
   ]
  },
  {
   "cell_type": "code",
   "execution_count": 53,
   "metadata": {},
   "outputs": [
    {
     "data": {
      "text/plain": [
       "[17, 2, 1, 0, 0, 0, 0, 0, 6, 3, 8, 5, 1, 0, 0, 3, 2, 3, 2, 2, 2, 9]"
      ]
     },
     "execution_count": 53,
     "metadata": {},
     "output_type": "execute_result"
    }
   ],
   "source": [
    "sample_1"
   ]
  },
  {
   "cell_type": "code",
   "execution_count": 54,
   "metadata": {},
   "outputs": [
    {
     "name": "stdout",
     "output_type": "stream",
     "text": [
      "0\n"
     ]
    },
    {
     "name": "stderr",
     "output_type": "stream",
     "text": [
      "C:\\Users\\vishn\\AppData\\Roaming\\Python\\Python311\\site-packages\\sklearn\\base.py:493: UserWarning: X does not have valid feature names, but RandomForestClassifier was fitted with feature names\n",
      "  warnings.warn(\n"
     ]
    }
   ],
   "source": [
    "print(model.predict([sample_1])[0])"
   ]
  },
  {
   "cell_type": "code",
   "execution_count": null,
   "metadata": {},
   "outputs": [],
   "source": []
  }
 ],
 "metadata": {
  "kernelspec": {
   "display_name": "Python 3",
   "language": "python",
   "name": "python3"
  },
  "language_info": {
   "codemirror_mode": {
    "name": "ipython",
    "version": 3
   },
   "file_extension": ".py",
   "mimetype": "text/x-python",
   "name": "python",
   "nbconvert_exporter": "python",
   "pygments_lexer": "ipython3",
   "version": "3.11.4"
  }
 },
 "nbformat": 4,
 "nbformat_minor": 2
}
