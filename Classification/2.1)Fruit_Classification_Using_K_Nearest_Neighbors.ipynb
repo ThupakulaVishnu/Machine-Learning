{
  "nbformat": 4,
  "nbformat_minor": 0,
  "metadata": {
    "colab": {
      "provenance": []
    },
    "kernelspec": {
      "name": "python3",
      "display_name": "Python 3"
    },
    "language_info": {
      "name": "python"
    }
  },
  "cells": [
    {
      "cell_type": "code",
      "execution_count": 120,
      "metadata": {
        "id": "k9m-Un6nWBLl"
      },
      "outputs": [],
      "source": [
        "import numpy as np\n",
        "import pandas as pd\n",
        "import matplotlib.pyplot as plt"
      ]
    },
    {
      "cell_type": "code",
      "source": [
        "data=pd.read_table(\"fruit_data_with_colors.txt\")\n",
        "print(data.isna().sum())"
      ],
      "metadata": {
        "id": "yobiYF0pWDew",
        "colab": {
          "base_uri": "https://localhost:8080/"
        },
        "outputId": "7aa5e4a7-4482-4fa5-a548-655a67d7fec2"
      },
      "execution_count": 121,
      "outputs": [
        {
          "output_type": "stream",
          "name": "stdout",
          "text": [
            "fruit_label      0\n",
            "fruit_name       0\n",
            "fruit_subtype    0\n",
            "mass             0\n",
            "width            0\n",
            "height           0\n",
            "color_score      0\n",
            "dtype: int64\n"
          ]
        }
      ]
    },
    {
      "cell_type": "code",
      "source": [
        "print(data.head())"
      ],
      "metadata": {
        "colab": {
          "base_uri": "https://localhost:8080/"
        },
        "id": "v-rzov15WYOc",
        "outputId": "29c8ac28-e08b-4759-f713-9e8b496e6a49"
      },
      "execution_count": 122,
      "outputs": [
        {
          "output_type": "stream",
          "name": "stdout",
          "text": [
            "   fruit_label fruit_name fruit_subtype  mass  width  height  color_score\n",
            "0            1      apple  granny_smith   192    8.4     7.3         0.55\n",
            "1            1      apple  granny_smith   180    8.0     6.8         0.59\n",
            "2            1      apple  granny_smith   176    7.4     7.2         0.60\n",
            "3            2   mandarin      mandarin    86    6.2     4.7         0.80\n",
            "4            2   mandarin      mandarin    84    6.0     4.6         0.79\n"
          ]
        }
      ]
    },
    {
      "cell_type": "code",
      "source": [
        "x=data[['mass', 'width', 'height', 'color_score']]\n",
        "y=data[\"fruit_label\"]"
      ],
      "metadata": {
        "id": "S36c1g0EWfm9"
      },
      "execution_count": 123,
      "outputs": []
    },
    {
      "cell_type": "code",
      "source": [
        "from sklearn.model_selection import train_test_split\n",
        "x_train,x_test,y_train,y_test=train_test_split(x,y,test_size=0.2,random_state=0)"
      ],
      "metadata": {
        "id": "eby7cJGYW1VP"
      },
      "execution_count": 124,
      "outputs": []
    },
    {
      "cell_type": "code",
      "source": [
        "from sklearn.preprocessing import MinMaxScaler\n",
        "sc=MinMaxScaler()\n",
        "x_train=sc.fit_transform(x_train)\n",
        "x_test=sc.transform(x_test)"
      ],
      "metadata": {
        "id": "RztIELdjWsOY"
      },
      "execution_count": 125,
      "outputs": []
    },
    {
      "cell_type": "code",
      "source": [
        "from sklearn.neighbors import KNeighborsClassifier\n",
        "error_rate=[]\n",
        "for i in range(1,42):\n",
        "  model=KNeighborsClassifier(n_neighbors=i)\n",
        "  model.fit(x_train,y_train)\n",
        "  y_pred=model.predict(x_test)\n",
        "  error_rate.append(np.mean(y_pred!=y_test))\n",
        "\n",
        "plt.figure(figsize=(10,4))\n",
        "plt.plot(range(1,42),error_rate,marker='o')\n",
        "plt.xlabel(\"k values\")\n",
        "plt.ylabel(\"Error_rate\")\n",
        "plt.title(\"Error_rate V.S K_values\")\n",
        "plt.xticks(np.arange(0,42,1))"
      ],
      "metadata": {
        "colab": {
          "base_uri": "https://localhost:8080/",
          "height": 1000
        },
        "id": "Q3G0WyvGXTxz",
        "outputId": "54d84720-4e28-455d-ef46-103f7faa435f"
      },
      "execution_count": 126,
      "outputs": [
        {
          "output_type": "execute_result",
          "data": {
            "text/plain": [
              "([<matplotlib.axis.XTick at 0x7f451d0dbc10>,\n",
              "  <matplotlib.axis.XTick at 0x7f451d069780>,\n",
              "  <matplotlib.axis.XTick at 0x7f451d069690>,\n",
              "  <matplotlib.axis.XTick at 0x7f451d0392a0>,\n",
              "  <matplotlib.axis.XTick at 0x7f451d039d50>,\n",
              "  <matplotlib.axis.XTick at 0x7f451d03a800>,\n",
              "  <matplotlib.axis.XTick at 0x7f451d0398a0>,\n",
              "  <matplotlib.axis.XTick at 0x7f451d03b460>,\n",
              "  <matplotlib.axis.XTick at 0x7f451d03bf10>,\n",
              "  <matplotlib.axis.XTick at 0x7f451d0a0a00>,\n",
              "  <matplotlib.axis.XTick at 0x7f451d0a14b0>,\n",
              "  <matplotlib.axis.XTick at 0x7f451d03b0a0>,\n",
              "  <matplotlib.axis.XTick at 0x7f451d0a1ed0>,\n",
              "  <matplotlib.axis.XTick at 0x7f451d0a2980>,\n",
              "  <matplotlib.axis.XTick at 0x7f451d0a3430>,\n",
              "  <matplotlib.axis.XTick at 0x7f451d0a3ee0>,\n",
              "  <matplotlib.axis.XTick at 0x7f451d0a2110>,\n",
              "  <matplotlib.axis.XTick at 0x7f451d088820>,\n",
              "  <matplotlib.axis.XTick at 0x7f451d0892d0>,\n",
              "  <matplotlib.axis.XTick at 0x7f451d089d80>,\n",
              "  <matplotlib.axis.XTick at 0x7f451d03b7c0>,\n",
              "  <matplotlib.axis.XTick at 0x7f451d088f40>,\n",
              "  <matplotlib.axis.XTick at 0x7f451d08b0a0>,\n",
              "  <matplotlib.axis.XTick at 0x7f451d08bb50>,\n",
              "  <matplotlib.axis.XTick at 0x7f451cf1c640>,\n",
              "  <matplotlib.axis.XTick at 0x7f451d08b2e0>,\n",
              "  <matplotlib.axis.XTick at 0x7f451cf1cf40>,\n",
              "  <matplotlib.axis.XTick at 0x7f451cf1d9f0>,\n",
              "  <matplotlib.axis.XTick at 0x7f451cf1e4a0>,\n",
              "  <matplotlib.axis.XTick at 0x7f451cf1ef50>,\n",
              "  <matplotlib.axis.XTick at 0x7f451d0a1810>,\n",
              "  <matplotlib.axis.XTick at 0x7f451cf1d630>,\n",
              "  <matplotlib.axis.XTick at 0x7f451cf1fa60>,\n",
              "  <matplotlib.axis.XTick at 0x7f451cf04550>,\n",
              "  <matplotlib.axis.XTick at 0x7f451cf05000>,\n",
              "  <matplotlib.axis.XTick at 0x7f451d0698a0>,\n",
              "  <matplotlib.axis.XTick at 0x7f451cf05900>,\n",
              "  <matplotlib.axis.XTick at 0x7f451cf063b0>,\n",
              "  <matplotlib.axis.XTick at 0x7f451cf06e60>,\n",
              "  <matplotlib.axis.XTick at 0x7f451cf07910>,\n",
              "  <matplotlib.axis.XTick at 0x7f451cf05f60>,\n",
              "  <matplotlib.axis.XTick at 0x7f451cfc0250>],\n",
              " [Text(0, 0, '0'),\n",
              "  Text(1, 0, '1'),\n",
              "  Text(2, 0, '2'),\n",
              "  Text(3, 0, '3'),\n",
              "  Text(4, 0, '4'),\n",
              "  Text(5, 0, '5'),\n",
              "  Text(6, 0, '6'),\n",
              "  Text(7, 0, '7'),\n",
              "  Text(8, 0, '8'),\n",
              "  Text(9, 0, '9'),\n",
              "  Text(10, 0, '10'),\n",
              "  Text(11, 0, '11'),\n",
              "  Text(12, 0, '12'),\n",
              "  Text(13, 0, '13'),\n",
              "  Text(14, 0, '14'),\n",
              "  Text(15, 0, '15'),\n",
              "  Text(16, 0, '16'),\n",
              "  Text(17, 0, '17'),\n",
              "  Text(18, 0, '18'),\n",
              "  Text(19, 0, '19'),\n",
              "  Text(20, 0, '20'),\n",
              "  Text(21, 0, '21'),\n",
              "  Text(22, 0, '22'),\n",
              "  Text(23, 0, '23'),\n",
              "  Text(24, 0, '24'),\n",
              "  Text(25, 0, '25'),\n",
              "  Text(26, 0, '26'),\n",
              "  Text(27, 0, '27'),\n",
              "  Text(28, 0, '28'),\n",
              "  Text(29, 0, '29'),\n",
              "  Text(30, 0, '30'),\n",
              "  Text(31, 0, '31'),\n",
              "  Text(32, 0, '32'),\n",
              "  Text(33, 0, '33'),\n",
              "  Text(34, 0, '34'),\n",
              "  Text(35, 0, '35'),\n",
              "  Text(36, 0, '36'),\n",
              "  Text(37, 0, '37'),\n",
              "  Text(38, 0, '38'),\n",
              "  Text(39, 0, '39'),\n",
              "  Text(40, 0, '40'),\n",
              "  Text(41, 0, '41')])"
            ]
          },
          "metadata": {},
          "execution_count": 126
        },
        {
          "output_type": "display_data",
          "data": {
            "text/plain": [
              "<Figure size 1000x400 with 1 Axes>"
            ],
            "image/png": "[encoded data removed]"
          },
          "metadata": {}
        }
      ]
    },
    {
      "cell_type": "code",
      "source": [
        "model=KNeighborsClassifier(n_neighbors=3)\n",
        "model.fit(x_train,y_train)\n",
        "y_pred=model.predict(x_test)\n",
        "print(y_pred)"
      ],
      "metadata": {
        "colab": {
          "base_uri": "https://localhost:8080/"
        },
        "id": "Xh9EJjgxyFE-",
        "outputId": "08269389-5734-4e99-e581-3ceeaa76b006"
      },
      "execution_count": 127,
      "outputs": [
        {
          "output_type": "stream",
          "name": "stdout",
          "text": [
            "[3 3 4 3 1 1 3 4 3 1 2 1]\n"
          ]
        }
      ]
    },
    {
      "cell_type": "code",
      "source": [
        "mdl_data=pd.concat([pd.DataFrame(y_test).reset_index(drop=True),pd.DataFrame(y_pred).reset_index(drop=True)],axis=1)\n",
        "mdl_data.rename(columns={0:\"Predicted_data\"},inplace=True)\n",
        "print(mdl_data.head())"
      ],
      "metadata": {
        "colab": {
          "base_uri": "https://localhost:8080/"
        },
        "id": "cOZ6GttReUtw",
        "outputId": "f552dda6-ec01-4deb-d848-168c894d54fd"
      },
      "execution_count": 128,
      "outputs": [
        {
          "output_type": "stream",
          "name": "stdout",
          "text": [
            "   fruit_label  Predicted_data\n",
            "0            3               3\n",
            "1            3               3\n",
            "2            4               4\n",
            "3            3               3\n",
            "4            1               1\n"
          ]
        }
      ]
    },
    {
      "cell_type": "code",
      "source": [
        "from sklearn.metrics import confusion_matrix,accuracy_score,classification_report\n",
        "print(\"Confussion matrix : \\n\",confusion_matrix(mdl_data[\"fruit_label\"],mdl_data[\"Predicted_data\"]))\n",
        "print(\"Accuracy score : {:.2f}\".format(accuracy_score(mdl_data[\"fruit_label\"],mdl_data[\"Predicted_data\"])))"
      ],
      "metadata": {
        "colab": {
          "base_uri": "https://localhost:8080/"
        },
        "id": "RwA1wiwdfGsF",
        "outputId": "bfcbcef9-cc21-4149-b1c9-273519d0f322"
      },
      "execution_count": 129,
      "outputs": [
        {
          "output_type": "stream",
          "name": "stdout",
          "text": [
            "Confussion matrix : \n",
            " [[4 0 0 0]\n",
            " [0 1 0 0]\n",
            " [0 0 5 0]\n",
            " [0 0 0 2]]\n",
            "Accuracy score : 1.00\n"
          ]
        }
      ]
    },
    {
      "cell_type": "code",
      "source": [
        "print(\"Classification report : \")\n",
        "print(classification_report(mdl_data[\"fruit_label\"],mdl_data[\"Predicted_data\"]))"
      ],
      "metadata": {
        "colab": {
          "base_uri": "https://localhost:8080/"
        },
        "id": "ZqBj_vB3rmti",
        "outputId": "063c5717-be1d-443f-92fc-ae483d938e55"
      },
      "execution_count": 130,
      "outputs": [
        {
          "output_type": "stream",
          "name": "stdout",
          "text": [
            "Classification report : \n",
            "              precision    recall  f1-score   support\n",
            "\n",
            "           1       1.00      1.00      1.00         4\n",
            "           2       1.00      1.00      1.00         1\n",
            "           3       1.00      1.00      1.00         5\n",
            "           4       1.00      1.00      1.00         2\n",
            "\n",
            "    accuracy                           1.00        12\n",
            "   macro avg       1.00      1.00      1.00        12\n",
            "weighted avg       1.00      1.00      1.00        12\n",
            "\n"
          ]
        }
      ]
    }
  ]
}