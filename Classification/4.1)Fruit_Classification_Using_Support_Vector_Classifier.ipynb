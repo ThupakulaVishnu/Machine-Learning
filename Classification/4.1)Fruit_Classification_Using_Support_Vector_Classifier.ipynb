{
  "nbformat": 4,
  "nbformat_minor": 0,
  "metadata": {
    "colab": {
      "provenance": []
    },
    "kernelspec": {
      "name": "python3",
      "display_name": "Python 3"
    },
    "language_info": {
      "name": "python"
    }
  },
  "cells": [
    {
      "cell_type": "code",
      "execution_count": 141,
      "metadata": {
        "id": "k9m-Un6nWBLl"
      },
      "outputs": [],
      "source": [
        "import numpy as np\n",
        "import pandas as pd\n",
        "import matplotlib.pyplot as plt"
      ]
    },
    {
      "cell_type": "code",
      "source": [
        "data=pd.read_table(\"fruit_data_with_colors.txt\")\n",
        "print(data.isna().sum())"
      ],
      "metadata": {
        "id": "yobiYF0pWDew",
        "colab": {
          "base_uri": "https://localhost:8080/"
        },
        "outputId": "57e1efb6-98f4-4ab3-b6df-00d164067327"
      },
      "execution_count": 142,
      "outputs": [
        {
          "output_type": "stream",
          "name": "stdout",
          "text": [
            "fruit_label      0\n",
            "fruit_name       0\n",
            "fruit_subtype    0\n",
            "mass             0\n",
            "width            0\n",
            "height           0\n",
            "color_score      0\n",
            "dtype: int64\n"
          ]
        }
      ]
    },
    {
      "cell_type": "code",
      "source": [
        "print(data.head())"
      ],
      "metadata": {
        "colab": {
          "base_uri": "https://localhost:8080/"
        },
        "id": "v-rzov15WYOc",
        "outputId": "335eb358-deeb-422d-c7a6-0149e6151856"
      },
      "execution_count": 143,
      "outputs": [
        {
          "output_type": "stream",
          "name": "stdout",
          "text": [
            "   fruit_label fruit_name fruit_subtype  mass  width  height  color_score\n",
            "0            1      apple  granny_smith   192    8.4     7.3         0.55\n",
            "1            1      apple  granny_smith   180    8.0     6.8         0.59\n",
            "2            1      apple  granny_smith   176    7.4     7.2         0.60\n",
            "3            2   mandarin      mandarin    86    6.2     4.7         0.80\n",
            "4            2   mandarin      mandarin    84    6.0     4.6         0.79\n"
          ]
        }
      ]
    },
    {
      "cell_type": "code",
      "source": [
        "x=data[['mass', 'width', 'height', 'color_score']]\n",
        "y=data[\"fruit_label\"]"
      ],
      "metadata": {
        "id": "S36c1g0EWfm9"
      },
      "execution_count": 144,
      "outputs": []
    },
    {
      "cell_type": "code",
      "source": [
        "from sklearn.model_selection import train_test_split\n",
        "x_train,x_test,y_train,y_test=train_test_split(x,y,test_size=0.2,random_state=0)"
      ],
      "metadata": {
        "id": "eby7cJGYW1VP"
      },
      "execution_count": 145,
      "outputs": []
    },
    {
      "cell_type": "code",
      "source": [
        "from sklearn.preprocessing import MinMaxScaler\n",
        "sc=MinMaxScaler()\n",
        "x_train=sc.fit_transform(x_train)\n",
        "x_test=sc.transform(x_test)"
      ],
      "metadata": {
        "id": "RztIELdjWsOY"
      },
      "execution_count": 146,
      "outputs": []
    },
    {
      "cell_type": "code",
      "source": [
        "from sklearn.svm import SVC\n",
        "model=SVC(kernel=\"rbf\")\n",
        "model.fit(x_train,y_train)\n",
        "y_pred=model.predict(x_test)\n",
        "print(y_pred)"
      ],
      "metadata": {
        "colab": {
          "base_uri": "https://localhost:8080/"
        },
        "id": "Xh9EJjgxyFE-",
        "outputId": "75d7c7e7-e4ca-4d54-d7e1-e745922d63c0"
      },
      "execution_count": 147,
      "outputs": [
        {
          "output_type": "stream",
          "name": "stdout",
          "text": [
            "[3 3 4 3 1 1 3 4 3 1 2 1]\n"
          ]
        }
      ]
    },
    {
      "cell_type": "code",
      "source": [
        "mdl_data=pd.concat([pd.DataFrame(y_test).reset_index(drop=True),pd.DataFrame(y_pred).reset_index(drop=True)],axis=1)\n",
        "mdl_data.rename(columns={0:\"Predicted_data\"},inplace=True)\n",
        "print(mdl_data.head())"
      ],
      "metadata": {
        "colab": {
          "base_uri": "https://localhost:8080/"
        },
        "id": "cOZ6GttReUtw",
        "outputId": "358f0cbe-b262-4aab-9b9a-1d1a672f3a2c"
      },
      "execution_count": 148,
      "outputs": [
        {
          "output_type": "stream",
          "name": "stdout",
          "text": [
            "   fruit_label  Predicted_data\n",
            "0            3               3\n",
            "1            3               3\n",
            "2            4               4\n",
            "3            3               3\n",
            "4            1               1\n"
          ]
        }
      ]
    },
    {
      "cell_type": "code",
      "source": [
        "from sklearn.metrics import confusion_matrix,accuracy_score,classification_report\n",
        "print(\"Confussion matrix : \\n\",confusion_matrix(mdl_data[\"fruit_label\"],mdl_data[\"Predicted_data\"]))\n",
        "print(\"Accuracy score : {:.2f}\".format(accuracy_score(mdl_data[\"fruit_label\"],mdl_data[\"Predicted_data\"])))"
      ],
      "metadata": {
        "colab": {
          "base_uri": "https://localhost:8080/"
        },
        "id": "RwA1wiwdfGsF",
        "outputId": "f0dd24a2-989f-4590-e913-1856c51a1b98"
      },
      "execution_count": 149,
      "outputs": [
        {
          "output_type": "stream",
          "name": "stdout",
          "text": [
            "Confussion matrix : \n",
            " [[4 0 0 0]\n",
            " [0 1 0 0]\n",
            " [0 0 5 0]\n",
            " [0 0 0 2]]\n",
            "Accuracy score : 1.00\n"
          ]
        }
      ]
    },
    {
      "cell_type": "code",
      "source": [
        "print(\"Classification report : \")\n",
        "print(classification_report(mdl_data[\"fruit_label\"],mdl_data[\"Predicted_data\"]))"
      ],
      "metadata": {
        "colab": {
          "base_uri": "https://localhost:8080/"
        },
        "id": "ZqBj_vB3rmti",
        "outputId": "b76b0547-9a06-4251-9dcf-21ad51354c79"
      },
      "execution_count": 150,
      "outputs": [
        {
          "output_type": "stream",
          "name": "stdout",
          "text": [
            "Classification report : \n",
            "              precision    recall  f1-score   support\n",
            "\n",
            "           1       1.00      1.00      1.00         4\n",
            "           2       1.00      1.00      1.00         1\n",
            "           3       1.00      1.00      1.00         5\n",
            "           4       1.00      1.00      1.00         2\n",
            "\n",
            "    accuracy                           1.00        12\n",
            "   macro avg       1.00      1.00      1.00        12\n",
            "weighted avg       1.00      1.00      1.00        12\n",
            "\n"
          ]
        }
      ]
    }
  ]
}